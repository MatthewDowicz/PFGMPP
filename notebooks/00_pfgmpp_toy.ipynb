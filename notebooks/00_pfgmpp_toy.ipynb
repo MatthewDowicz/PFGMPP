{
 "cells": [
  {
   "cell_type": "code",
   "execution_count": 1,
   "id": "ab240329-9f2f-4915-8955-3ed75fbd4f0d",
   "metadata": {},
   "outputs": [],
   "source": [
    "# Basic Imports\n",
    "import os\n",
    "os.environ[\"CUDA_VISIBLE_DEVICES\"] = \"1\"\n",
    "import sys\n",
    "import json\n",
    "from typing import Any, Sequence, Optional, Tuple, Iterator, Dict, Callable, Union, Type, List\n",
    "import numpy as np\n",
    "import matplotlib.pyplot as plt\n",
    "from copy import copy\n",
    "from functools import partial\n",
    "from tqdm import tqdm\n",
    "import pprint\n",
    "\n",
    "# Changing fonts to be latex typesetting\n",
    "from matplotlib import rcParams\n",
    "rcParams['mathtext.fontset'] = 'dejavuserif'\n",
    "rcParams['font.family'] = 'serif'\n",
    "\n",
    "# # PyTorch for Dataloaders\n",
    "import torch\n",
    "import torch.nn as tnn\n",
    "\n",
    "# Flax training loop\n",
    "from flax import jax_utils\n",
    "from jax.scipy.stats import beta\n",
    "\n",
    "# JAX/Flax\n",
    "import jax\n",
    "from jax import jit\n",
    "import jax.numpy as jnp\n",
    "from jax import random as jrandom\n",
    "from jax.scipy.stats import beta\n",
    "import equinox as eqx\n",
    "from jaxtyping import Array, Float, Int, PyTree  # https://github.com/google/jaxtyping\n",
    "import optax\n",
    "import wandb\n",
    "wandb_dir = os.path.join(os.path.expanduser('~'), \"PFGMPP\")\n",
    "os.environ[\"WANDB_DIR\"] = os.path.abspath(wandb_dir)\n",
    "\n",
    "from data import data_functions as df"
   ]
  },
  {
   "cell_type": "markdown",
   "id": "831333c7-d8a1-4840-be18-9af457ff71c1",
   "metadata": {},
   "source": [
    "The **goal** of this notebook is to convert the [tutorial](https://github.com/Newbeeer/pfgmpp/blob/main/pfgmpp_toy.ipynb) given on the PFGM++ github from PyTorch to Equinox\n",
    "\n",
    "The **reason** for this is that in my JAX only [notebook](https://github.com/MatthewDowicz/PFGMPP/blob/main/exampleCase.ipynb) that tried to do this with a simpler dataset (i.e. lower dimensionality) has difficulty in accurately learning the data distribution.\n",
    "\n",
    "The difference of this notebook and the previous attempt is that I'm going to be using the `PyTorch` code for generating the datasets, so that I have the exact same data/noise distributions/etc., so that the focus can be solely on the model architecture and implementations of the training and sampling algorithms of PFGM++."
   ]
  },
  {
   "cell_type": "markdown",
   "id": "0cde1f9f-a749-43ff-9123-a76aff4a84a8",
   "metadata": {},
   "source": [
    "## Create a dataset of 2 Gaussians\n",
    "\n",
    "$p_{data} = 0.5 \\mathcal{N}(\\mu_1, \\sigma I) + 0.5 \\mathcal{N}(-\\mu_1, \\sigma I)$\n",
    "\n",
    "Will use the same values produced in Pytorch, so that we have a 1-to-1 comparison between our datasets for training."
   ]
  },
  {
   "cell_type": "code",
   "execution_count": 2,
   "id": "09fe7bc8-63b6-4eeb-87b3-a86c731a66ec",
   "metadata": {},
   "outputs": [],
   "source": [
    "def generate_data(seed=2, size=1000, data_dim=1000, std=0.2, mean_scale=1):\n",
    "    torch.manual_seed(seed)\n",
    "    \n",
    "    X_0 = 1 * mean_scale + torch.randn((size, 10)) * std\n",
    "    X_1 = -1 * mean_scale + torch.randn((size, 10)) * std\n",
    "    \n",
    "    # Embed 10D manifold to {data_dim}-dim space\n",
    "    W = torch.randn((10, data_dim))\n",
    "    \n",
    "    X_0 = torch.matmul(X_0, W)\n",
    "    X_1 = torch.matmul(X_1, W)\n",
    "    \n",
    "    X_0 += torch.randn_like(X_0) * 0.01\n",
    "    X_1 += torch.randn_like(X_1) * 0.01\n",
    "    \n",
    "    X_0 = torch.clip(X_0, -100, 100)\n",
    "    X_1 = torch.clip(X_1, -100, 100)\n",
    "    \n",
    "    X = torch.cat([X_0, X_1], dim=0)\n",
    "    X = X.numpy()\n",
    "    X = jnp.array(X)\n",
    "    return X"
   ]
  },
  {
   "cell_type": "code",
   "execution_count": 3,
   "id": "7f48d33f-1863-4665-94c5-c54b0ddc9523",
   "metadata": {},
   "outputs": [
    {
     "name": "stdout",
     "output_type": "stream",
     "text": [
      "(10000, 2)\n"
     ]
    },
    {
     "data": {
      "image/png": "[encoded data removed]",
      "text/plain": [
       "<Figure size 432x288 with 1 Axes>"
      ]
     },
     "metadata": {
      "needs_background": "light"
     },
     "output_type": "display_data"
    }
   ],
   "source": [
    "torch.manual_seed(2)\n",
    "size = 5000\n",
    "std = 0.2\n",
    "mean_scale = 1\n",
    "\n",
    "data_dim = 2\n",
    "\n",
    "X_0 = 1 * mean_scale + torch.randn((size, 10)) * std\n",
    "X_1 = -1 * mean_scale + torch.randn((size, 10)) * std\n",
    "\n",
    "# Embed 10D manifold to {data_dim}-dim space\n",
    "W = torch.randn((10, data_dim))\n",
    "\n",
    "X_0 = torch.matmul(X_0, W)\n",
    "X_1 = torch.matmul(X_1, W)\n",
    "\n",
    "X_0 += torch.randn_like(X_0) * 0.01\n",
    "X_1 += torch.randn_like(X_1) * 0.01\n",
    "\n",
    "X_0 = torch.clip(X_0, -100, 100)\n",
    "X_1 = torch.clip(X_1, -100, 100)\n",
    "\n",
    "X = torch.cat([X_0, X_1], dim=0)\n",
    "X = X.numpy()\n",
    "X = jnp.array(X)\n",
    "print(X.shape)\n",
    "# Visualize the first two dimensions\n",
    "plt.scatter(X[:, 0], X[:, 1], label='True Data', alpha=0.5, color='orange')\n",
    "plt.xlabel('$X_0$')\n",
    "plt.ylabel('$X_1$')\n",
    "plt.legend()\n",
    "plt.show()"
   ]
  },
  {
   "cell_type": "markdown",
   "id": "fc0ee73b-ab9c-4d02-b612-1530cd7a44de",
   "metadata": {},
   "source": [
    "## Construct data loader\n",
    "\n",
    "Need to do this because JAX/Flax don't have native dataloader functionality. This code follows closely with the PyTorch formulations."
   ]
  },
  {
   "cell_type": "code",
   "execution_count": 4,
   "id": "ffa6902e-0401-48b1-913c-b35bf11d5937",
   "metadata": {
    "tags": []
   },
   "outputs": [
    {
     "data": {
      "text/plain": [
       "<matplotlib.collections.PathCollection at 0x7f7d7cb15cd0>"
      ]
     },
     "execution_count": 4,
     "metadata": {},
     "output_type": "execute_result"
    },
    {
     "data": {
      "image/png": "[encoded data removed]",
      "text/plain": [
       "<Figure size 432x288 with 1 Axes>"
      ]
     },
     "metadata": {
      "needs_background": "light"
     },
     "output_type": "display_data"
    }
   ],
   "source": [
    "class JaxDataset(torch.utils.data.Dataset):\n",
    "    def __init__(self, X):\n",
    "        self.X = X\n",
    "        \n",
    "    def __len__(self):\n",
    "        return len(self.X)\n",
    "    \n",
    "    def __getitem__(self, idx):\n",
    "        return np.array(self.X[idx])\n",
    "\n",
    "def numpy_collate(batch):\n",
    "    \"\"\"\n",
    "    Function to allow jnp.arrays to be used in PyTorch Dataloaders.\n",
    "    \"\"\"\n",
    "    if isinstance(batch[0], np.ndarray):\n",
    "        return np.stack(batch)\n",
    "    elif isinstance(batch[0], (tuple,list)):\n",
    "        transposed = zip(*batch)\n",
    "        return [numpy_collate(samples) for samples in transposed]\n",
    "    else:\n",
    "        return np.array(batch)\n",
    "    \n",
    "class NumpyLoader(torch.utils.data.DataLoader):\n",
    "    \"\"\"\n",
    "    Custom PyTorch DataLoader for numpy/JAX arrays\n",
    "    \"\"\"\n",
    "    def __init__(self, dataset, batch_size=1,\n",
    "                 shuffle=False, sampler=None,\n",
    "                 batch_sampler=None, num_workers=0,\n",
    "                 pin_memory=False, drop_last=False,\n",
    "                 timeout=0, worker_init_fn=None):\n",
    "        super(self.__class__, self).__init__(dataset,\n",
    "                                             batch_size=batch_size,\n",
    "                                             shuffle=shuffle,\n",
    "                                             sampler=sampler,\n",
    "                                             batch_sampler=batch_sampler,\n",
    "                                             num_workers=num_workers,\n",
    "                                             collate_fn=numpy_collate,\n",
    "                                             pin_memory=pin_memory,\n",
    "                                             drop_last=drop_last,\n",
    "                                             timeout=timeout,\n",
    "                                             worker_init_fn=worker_init_fn)\n",
    "    \n",
    "train_dataset = JaxDataset(X=X)\n",
    "train_loader = NumpyLoader(dataset=train_dataset, batch_size=128, shuffle=True)\n",
    "batch = next(iter(train_loader))\n",
    "# Visual check with my PyTorch notebook and these distributions are the same\n",
    "plt.scatter(batch[:, 0], batch[:, 1])"
   ]
  },
  {
   "cell_type": "markdown",
   "id": "438b63f1-d71c-4dc7-9ab0-186ab9e8620e",
   "metadata": {},
   "source": [
    "## Construct NN"
   ]
  },
  {
   "cell_type": "markdown",
   "id": "59dd79c4-8a08-4d58-b604-e4c5f7182377",
   "metadata": {
    "tags": []
   },
   "source": [
    "$$\\text{P}(k, 2i) = \\text{sin}\\Big(\\frac{k}{n^{2i/d}} \\Big)$$\n",
    "$$\\text{P}(k, 2i+1) = \\text{cos}\\Big(\\frac{k}{n^{2i/d}} \\Big)$$\n",
    "\n",
    "See [this](https://machinelearningmastery.com/a-gentle-introduction-to-positional-encoding-in-transformer-models-part-1/#:~:text=What%20Is%20Positional%20Encoding%3F,item's%20position%20in%20transformer%20models.) article about positional encoding.\n",
    "\n",
    "Comparing the output of the `PyTorch` and `JAX/Flax` implementations to make sure they are doing the same thing."
   ]
  },
  {
   "cell_type": "markdown",
   "id": "5afeca57-f4c1-4edb-acd0-453ba48885f3",
   "metadata": {},
   "source": [
    "**Testing to see if the Positional embedding functions are the same**"
   ]
  },
  {
   "cell_type": "code",
   "execution_count": 5,
   "id": "f29c1a06-cba2-4182-a8e9-cf84f52707f0",
   "metadata": {},
   "outputs": [],
   "source": [
    "class PositionalEmbeddingJAX(eqx.Module):\n",
    "    num_channels: int\n",
    "    max_positions: int\n",
    "    endpoint: bool \n",
    "\n",
    "    def __init__(self, num_channels, max_positions=10000, endpoint=False):\n",
    "        self.num_channels = num_channels\n",
    "        self.max_positions = max_positions\n",
    "        self.endpoint = endpoint\n",
    "\n",
    "    \n",
    "    def __call__(self, x):\n",
    "        freqs = jnp.arange(0, self.num_channels // 2, dtype=jnp.float32)\n",
    "        freqs = freqs / (self.num_channels // 2 - (1 if self.endpoint else 0))\n",
    "        freqs = (1 / self.max_positions) ** freqs\n",
    "        \n",
    "        x = x[:, None] * freqs[None, :] # similar to torch's ger\n",
    "        x = jnp.concatenate([jnp.cos(x), jnp.sin(x)], axis=-1)\n",
    "        return x"
   ]
  },
  {
   "cell_type": "code",
   "execution_count": 6,
   "id": "9f24f8d3-f57a-4db7-9540-8530db3e0e79",
   "metadata": {},
   "outputs": [
    {
     "name": "stdout",
     "output_type": "stream",
     "text": [
      "(128,)\n",
      "()\n",
      "(128, 32)\n"
     ]
    }
   ],
   "source": [
    "# Create the equivalent embedding functions in JAX/Pytorch\n",
    "emb_layer_jax = PositionalEmbeddingJAX(num_channels=32)\n",
    "\n",
    "# Sample from the noise distribution using Pytorch's RNG\n",
    "# so that the noise values are the same\n",
    "rnd_normal = torch.randn((batch.shape[0], 1))\n",
    "t = (rnd_normal * 1.2 - 1.2).exp()\n",
    "t_flat = t.flatten().log() / 4.\n",
    "\n",
    "# Convert the noise to a numpy array for use in JAX\n",
    "t_flat = t_flat.numpy()\n",
    "print(t_flat.shape)\n",
    "print(t_flat[0].shape)\n",
    "# Calculate the embedding in JAX\n",
    "x_1_jax = emb_layer_jax(t_flat)\n",
    "print(x_1_jax.shape)"
   ]
  },
  {
   "cell_type": "markdown",
   "id": "4cbfb613-894b-4b41-9e0f-b1ce208ee969",
   "metadata": {},
   "source": [
    "**Now checking the distributions of the model architectures**"
   ]
  },
  {
   "cell_type": "code",
   "execution_count": 7,
   "id": "51731204-40d6-4a55-b906-2af9489e5be0",
   "metadata": {},
   "outputs": [],
   "source": [
    "class PositionalEmbeddingJAX(eqx.Module):\n",
    "    num_channels: int\n",
    "    max_positions: int\n",
    "    endpoint: bool \n",
    "\n",
    "    def __init__(self, num_channels, max_positions=10000, endpoint=False):\n",
    "        self.num_channels = num_channels\n",
    "        self.max_positions = max_positions\n",
    "        self.endpoint = endpoint\n",
    "\n",
    "    \n",
    "    def __call__(self, x):\n",
    "        freqs = jnp.arange(0, self.num_channels // 2, dtype=jnp.float32)\n",
    "        freqs = freqs / (self.num_channels // 2 - (1 if self.endpoint else 0))\n",
    "        freqs = (1 / self.max_positions) ** freqs\n",
    "        \n",
    "        x = x[:, None] * freqs[None, :] # similar to torch's ger\n",
    "        x = jnp.concatenate([jnp.cos(x), jnp.sin(x)], axis=-1)\n",
    "        return x   \n",
    "\n",
    "class mlp(eqx.Module):\n",
    "    dim: int\n",
    "    latent_dim: int\n",
    "    std_data: float\n",
    "    act: jax.nn.relu\n",
    "    emb_layer: \"PositionalEmbeddingJAX\"\n",
    "    fc1: eqx.nn.Linear\n",
    "    fc2: eqx.nn.Linear\n",
    "    fc3: eqx.nn.Linear\n",
    "    fc4: eqx.nn.Linear\n",
    "    fc5: eqx.nn.Linear  # Additional layer\n",
    "    fc6: eqx.nn.Linear  # Additional layer\n",
    "    fc_skip: eqx.nn.Linear\n",
    "    fc1_skip: eqx.nn.Linear\n",
    "    fc2_skip: eqx.nn.Linear  # Additional skip connection\n",
    "    fc3_skip: eqx.nn.Linear  # Additional skip connection\n",
    "    ln: eqx.nn.LayerNorm\n",
    "    \n",
    "\n",
    "    def __init__(self, key, dim=2, latent_dim=32, std_data=0.5):\n",
    "        keys = jrandom.split(key, 10)\n",
    "        \n",
    "        self.dim = dim\n",
    "        self.latent_dim = latent_dim\n",
    "        self.std_data = std_data\n",
    "        self.act = jax.nn.silu\n",
    "        self.ln = eqx.nn.LayerNorm(shape=self.latent_dim, eps=1e-5, use_weight=True, use_bias=True)\n",
    "\n",
    "        self.fc1 = eqx.nn.Linear(self.dim, self.latent_dim, key=keys[0])\n",
    "        self.emb_layer = PositionalEmbeddingJAX(num_channels=self.latent_dim)\n",
    "        self.fc2 = eqx.nn.Linear(self.latent_dim, self.latent_dim, key=keys[1])\n",
    "        self.fc3 = eqx.nn.Linear(self.latent_dim, self.latent_dim, key=keys[2])\n",
    "        self.fc4 = eqx.nn.Linear(self.latent_dim, self.latent_dim, key=keys[3])\n",
    "        self.fc5 = eqx.nn.Linear(self.latent_dim, self.latent_dim, key=keys[4])\n",
    "        self.fc6 = eqx.nn.Linear(self.latent_dim, self.dim, key=keys[5])\n",
    "\n",
    "        self.fc_skip = eqx.nn.Linear(self.dim, self.latent_dim, key=keys[6])\n",
    "        self.fc1_skip = eqx.nn.Linear(self.latent_dim, self.latent_dim, key=keys[7])\n",
    "        self.fc2_skip = eqx.nn.Linear(self.latent_dim, self.latent_dim, key=keys[8])\n",
    "        self.fc3_skip = eqx.nn.Linear(self.latent_dim, self.dim, key=keys[9])\n",
    "        \n",
    "\n",
    "    def __call__(self, x, t):\n",
    "        c_out = (t * self.std_data) / (jnp.sqrt(self.std_data ** 2 + t ** 2))\n",
    "        c_skip = (self.std_data ** 2) / (self.std_data ** 2 + t ** 2)\n",
    "\n",
    "        t = jnp.log(t.flatten()) / 4.\n",
    "\n",
    "        x_1 = self.fc1(x) + (self.emb_layer(t).flatten())\n",
    "        x_1 = self.ln(x_1)\n",
    "        x_2 = self.act(x_1)\n",
    "        x_2 = self.ln(x_2)\n",
    "        x_3 = self.act(self.fc2(x_2)) + self.fc1_skip(x_1)\n",
    "        x_3 = self.ln(x_3)\n",
    "        x_4 = self.act(self.fc3(x_3)) + self.fc_skip(x)\n",
    "        x_4 = self.ln(x_4)\n",
    "        x_5 = self.act(self.fc5(x_4)) + self.fc2_skip(x_2)\n",
    "        x_5 = self.ln(x_5)\n",
    "        x_6 = self.act(self.fc6(x_5)) + self.fc3_skip(x_3)\n",
    "\n",
    "        return c_out * x_6 + c_skip * x\n",
    "\n",
    "\n",
    "\n",
    "# class mlp(eqx.Module):\n",
    "#     \"\"\"\n",
    "#     Common architecture for score-based generative model.\n",
    "#     \"\"\"\n",
    "#     dim: int \n",
    "#     latent_dim: int \n",
    "#     std_data: float \n",
    "#     act: jax.nn.relu\n",
    "#     emb_layer: \"PositionalEmbeddingJAX\"\n",
    "#     fc1: eqx.nn.Linear\n",
    "#     fc2: eqx.nn.Linear\n",
    "#     fc3: eqx.nn.Linear\n",
    "#     fc4: eqx.nn.Linear\n",
    "#     fc_skip: eqx.nn.Linear\n",
    "#     fc1_skip: eqx.nn.Linear\n",
    "#     ln1: eqx.nn.LayerNorm\n",
    "#     ln2: eqx.nn.LayerNorm\n",
    "#     ln3: eqx.nn.LayerNorm\n",
    "\n",
    "       \n",
    "#     def __init__(self, key, dim=2, latent_dim=32, std_data=0.5):\n",
    "#         key1, key2, key3, key4, key5, key6 = jrandom.split(key, 6)\n",
    "        \n",
    "#         self.dim = dim\n",
    "#         self.latent_dim = latent_dim\n",
    "#         self.std_data = std_data\n",
    "\n",
    "#         self.act = jax.nn.relu\n",
    "\n",
    "#         self.fc1 = eqx.nn.Linear(self.dim, self.latent_dim, key=key1) \n",
    "#         self.emb_layer = PositionalEmbeddingJAX(num_channels=self.latent_dim)\n",
    "#         self.fc2 = eqx.nn.Linear(self.latent_dim, self.latent_dim, key=key2) \n",
    "#         self.fc3 = eqx.nn.Linear(self.latent_dim, self.latent_dim, key=key3) \n",
    "#         self.fc4 = eqx.nn.Linear(self.latent_dim, self.dim, key=key4) \n",
    "        \n",
    "#         self.fc_skip = eqx.nn.Linear(self.dim, self.latent_dim, key=key5) \n",
    "#         self.fc1_skip = eqx.nn.Linear(self.latent_dim, self.latent_dim, key=key6) \n",
    "\n",
    "#         self.ln1 = eqx.nn.LayerNorm(shape=self.latent_dim, eps=1e-5, use_weight=True, use_bias=True)\n",
    "#         self.ln2 = eqx.nn.LayerNorm(shape=self.latent_dim, eps=1e-5, use_weight=True, use_bias=True)\n",
    "#         self.ln3 = eqx.nn.LayerNorm(shape=self.latent_dim, eps=1e-5, use_weight=True, use_bias=True)\n",
    "\n",
    "\n",
    "#     def __call__(self, x, t):\n",
    "#         # Preconditioning terms in the \"EDM\" model (Karras et al. 2022)\n",
    "#         c_out = (t * self.std_data) / (jnp.sqrt(self.std_data ** 2 + t ** 2))\n",
    "#         c_skip = (self.std_data ** 2) / (self.std_data ** 2 + t ** 2)\n",
    "\n",
    "#         # Flatten the noise vector to become 1D because that is the shape\n",
    "#         # the emb_layer is expecting\n",
    "#         t = jnp.log(t.flatten()) / 4.\n",
    "\n",
    "#         # Update positional encoding function to just work on a single example\n",
    "#         x_1 = self.fc1(x) + (self.emb_layer(t).flatten())\n",
    "#         x_1 = self.ln1(x_1)  # Add Layer Normalization\n",
    "#         x_2 = self.act(x_1)\n",
    "#         x_2 = self.ln2(x_2)  # Add Layer Normalization\n",
    "#         x_3 = self.act(self.fc2(x_2)) + self.fc1_skip(x_1)\n",
    "#         x_3 = self.ln3(x_3)  # Add Layer Normalization\n",
    "#         x_4 = self.act(self.fc3(x_3)) + self.fc_skip(x)\n",
    "#         x_4 = self.fc4(x_4)\n",
    "\n",
    "#         return c_out * x_4 + c_skip * x"
   ]
  },
  {
   "cell_type": "code",
   "execution_count": 8,
   "id": "9e7cbddb-f743-4133-82db-c848d128673b",
   "metadata": {},
   "outputs": [
    {
     "name": "stdout",
     "output_type": "stream",
     "text": [
      "mlp(\n",
      "  dim=2,\n",
      "  latent_dim=128,\n",
      "  std_data=1,\n",
      "  act=<wrapped function silu>,\n",
      "  emb_layer=PositionalEmbeddingJAX(\n",
      "    num_channels=128,\n",
      "    max_positions=10000,\n",
      "    endpoint=False\n",
      "  ),\n",
      "  fc1=Linear(\n",
      "    weight=f32[128,2],\n",
      "    bias=f32[128],\n",
      "    in_features=2,\n",
      "    out_features=128,\n",
      "    use_bias=True\n",
      "  ),\n",
      "  fc2=Linear(\n",
      "    weight=f32[128,128],\n",
      "    bias=f32[128],\n",
      "    in_features=128,\n",
      "    out_features=128,\n",
      "    use_bias=True\n",
      "  ),\n",
      "  fc3=Linear(\n",
      "    weight=f32[128,128],\n",
      "    bias=f32[128],\n",
      "    in_features=128,\n",
      "    out_features=128,\n",
      "    use_bias=True\n",
      "  ),\n",
      "  fc4=Linear(\n",
      "    weight=f32[128,128],\n",
      "    bias=f32[128],\n",
      "    in_features=128,\n",
      "    out_features=128,\n",
      "    use_bias=True\n",
      "  ),\n",
      "  fc5=Linear(\n",
      "    weight=f32[128,128],\n",
      "    bias=f32[128],\n",
      "    in_features=128,\n",
      "    out_features=128,\n",
      "    use_bias=True\n",
      "  ),\n",
      "  fc6=Linear(\n",
      "    weight=f32[2,128],\n",
      "    bias=f32[2],\n",
      "    in_features=128,\n",
      "    out_features=2,\n",
      "    use_bias=True\n",
      "  ),\n",
      "  fc_skip=Linear(\n",
      "    weight=f32[128,2],\n",
      "    bias=f32[128],\n",
      "    in_features=2,\n",
      "    out_features=128,\n",
      "    use_bias=True\n",
      "  ),\n",
      "  fc1_skip=Linear(\n",
      "    weight=f32[128,128],\n",
      "    bias=f32[128],\n",
      "    in_features=128,\n",
      "    out_features=128,\n",
      "    use_bias=True\n",
      "  ),\n",
      "  fc2_skip=Linear(\n",
      "    weight=f32[128,128],\n",
      "    bias=f32[128],\n",
      "    in_features=128,\n",
      "    out_features=128,\n",
      "    use_bias=True\n",
      "  ),\n",
      "  fc3_skip=Linear(\n",
      "    weight=f32[2,128],\n",
      "    bias=f32[2],\n",
      "    in_features=128,\n",
      "    out_features=2,\n",
      "    use_bias=True\n",
      "  ),\n",
      "  ln=LayerNorm(\n",
      "    shape=128,\n",
      "    eps=1e-05,\n",
      "    use_weight=True,\n",
      "    use_bias=True,\n",
      "    weight=f32[128],\n",
      "    bias=f32[128]\n",
      "  )\n",
      ")\n"
     ]
    }
   ],
   "source": [
    "model = mlp(jrandom.PRNGKey(9), dim=2, latent_dim=128, std_data=1)\n",
    "pred = jax.vmap(model)(batch, t.numpy())\n",
    "print(model)"
   ]
  },
  {
   "cell_type": "markdown",
   "id": "8ef892ab-8908-4757-b0b5-49c9a02fc3dc",
   "metadata": {},
   "source": [
    "# Create the loss function"
   ]
  },
  {
   "cell_type": "code",
   "execution_count": 9,
   "id": "506a10bc-a2de-41d4-8ea6-c0935a88e20f",
   "metadata": {},
   "outputs": [
    {
     "name": "stdout",
     "output_type": "stream",
     "text": [
      "loss_value.shape = ()\n",
      "loss_value = 15.373900413513184\n",
      "(128, 2)\n",
      "(128, 1)\n",
      "(128, 2)\n"
     ]
    }
   ],
   "source": [
    "def sample_norm(N, D, size, key):\n",
    "    \"\"\"\n",
    "    Sample noise from perturbation kernel p_r.\n",
    "    Sampling from inverse-beta distribution found in Appendix B.\n",
    "    \"\"\"\n",
    "    R1 = jrandom.beta(a=N / 2., b=D / 2., key=key, shape=(size,))\n",
    "    R2 = R1 / (1 - R1 +1e-8)\n",
    "    return R2\n",
    "\n",
    "def loss(model: mlp, x, D, key):\n",
    "    key1, key2, key3= jrandom.split(key, 3)\n",
    "\n",
    "    # Sampling from the noise distribution (Table 1 Karras et al. 2022)\n",
    "    rnd_normal = jrandom.normal(key1, shape=(x.shape[0], 1))\n",
    "    t = jnp.exp(rnd_normal * 1.2 - 1.2)\n",
    "    # Phase alignment of the Diffusion Model -> PFGM++ (App. C)\n",
    "    # Note: t = sigma in the \"EDM\" design choice (Karras et al. 2022)\n",
    "    r = t * jnp.sqrt(D)\n",
    "\n",
    "    # Sampling from p_r(R) by change-of-variable (App. B)\n",
    "    R2 = sample_norm(model.dim, D, x.shape[0], key2)\n",
    "    R3 = (r.squeeze() * jnp.sqrt(R2 + 1e-8)).reshape(len(R2), -1)\n",
    "\n",
    "    # Sampling the uniform angle component\n",
    "    unit_gaussian = jrandom.normal(key3, shape=(x.shape[0], model.dim))\n",
    "    # print(f\"unit_gaussian.shape = {unit_gaussian.shape}\")\n",
    "    unit_gaussian = unit_gaussian / jnp.linalg.norm(unit_gaussian, ord=2, axis=1, keepdims=1)\n",
    "    x_hat = x + (unit_gaussian * R3)\n",
    "\n",
    "    # Preconditions (Table 1 & Sect. 5 of Karras et al. 2022)\n",
    "    c_in = 1 / jnp.sqrt(model.std_data**2 + t**2)\n",
    "    c_out = t * model.std_data / jnp.sqrt(model.std_data**2 + t**2)\n",
    "    c_skip = model.std_data**2 / (model.std_data**2 + t**2)\n",
    "    \n",
    "    # f_theta in Karras et al. 2022\n",
    "    D_x = jax.vmap(model)(x_hat*c_in, t)\n",
    "\n",
    "    # lambda(theta) in Karras et al. 2022\n",
    "    # using the loss weighting of \"EDM\"\n",
    "    weight = (t**2 + model.std_data**2) / (t * model.std_data) ** 2\n",
    "\n",
    "    # Calculate weighted loss\n",
    "    loss = jnp.sum(weight * ((D_x - x) ** 2), axis=1).mean()\n",
    "    return loss\n",
    "\n",
    "# Example loss\n",
    "loss_value = loss(model, batch, D=2, key=jrandom.PRNGKey(27))\n",
    "print(f\"loss_value.shape = {loss_value.shape}\") # Scalar loss\n",
    "print(f\"loss_value = {loss_value}\")\n",
    "# Example inference\n",
    "print(batch.shape)\n",
    "print(t.numpy().shape)\n",
    "output = jax.vmap(model)(batch, t.numpy())\n",
    "print(output.shape) # Batch of predictions"
   ]
  },
  {
   "cell_type": "markdown",
   "id": "d551d07a-47fe-403b-806b-b338f66f3228",
   "metadata": {},
   "source": [
    "# Filtering"
   ]
  },
  {
   "cell_type": "code",
   "execution_count": 10,
   "id": "7f2c6a53-2735-460f-8546-a64fdbfe1562",
   "metadata": {},
   "outputs": [
    {
     "name": "stdout",
     "output_type": "stream",
     "text": [
      "7.0706987\n"
     ]
    }
   ],
   "source": [
    "value, grads = eqx.filter_value_and_grad(loss)(model, batch, D=1e5, key=jrandom.PRNGKey(27))\n",
    "print(value)"
   ]
  },
  {
   "cell_type": "markdown",
   "id": "36e0a286-33ab-4193-b517-9bfac3286a61",
   "metadata": {},
   "source": [
    "# Training"
   ]
  },
  {
   "cell_type": "code",
   "execution_count": 11,
   "id": "41d7110f-8124-4a20-a691-ddf6c1ba4463",
   "metadata": {},
   "outputs": [],
   "source": [
    "LEARNING_RATE = 1e-3"
   ]
  },
  {
   "cell_type": "code",
   "execution_count": 12,
   "id": "131f3c8d-2479-4928-8952-32cfef70f7e3",
   "metadata": {},
   "outputs": [],
   "source": [
    "optim = optax.adamw(LEARNING_RATE)"
   ]
  },
  {
   "cell_type": "code",
   "execution_count": 13,
   "id": "dae3147e-8f86-4545-b4f8-b9c3478727f1",
   "metadata": {},
   "outputs": [],
   "source": [
    "def get_base_dir() -> str:\n",
    "    \"\"\"\n",
    "    Determine the base directory of the project. This function checks if the\n",
    "    code is running within a Jupyter notebook or as a standalone Python script.\n",
    "    \n",
    "    Returns:\n",
    "        str: The absolute path of the base directory.\n",
    "    \"\"\"\n",
    "    # Check if running in a Jupyter notebook\n",
    "    if 'ipykernel' in sys.modules:\n",
    "        # Assuming notebooks are in the 'notebooks' folder, move one folder up to get to the base directory.\n",
    "        return os.path.abspath(os.path.join(os.getcwd(), \"..\"))\n",
    "    else:\n",
    "        # Get the directory of the current script and move one folder up to the base directory.\n",
    "        return os.path.abspath(os.path.join(os.path.dirname(__file__), \"..\"))\n",
    "\n",
    "def save(filename: str, hyperparams: Dict[str, Any], model: Any) -> None:\n",
    "    \"\"\"\n",
    "    Save the model along with hyperparameters to a specified file.\n",
    "\n",
    "    Args:\n",
    "        filename (str): The name of the file to save the model to.\n",
    "        hyperparams (Dict[str, Any]): Hyperparameters to save along with the model.\n",
    "        model (Any): The model to save.\n",
    "\n",
    "    Returns:\n",
    "        None\n",
    "    \"\"\"\n",
    "    # Fetch the base directory\n",
    "    base_dir = get_base_dir()\n",
    "    \n",
    "    # Determine the full path where models should be saved\n",
    "    save_directory = os.path.join(base_dir, 'saved_models')\n",
    "    \n",
    "    # Ensure the directory exists; if not, create it.\n",
    "    if not os.path.exists(save_directory):\n",
    "        os.makedirs(save_directory)\n",
    "    \n",
    "    # Construct the full path to save the model\n",
    "    full_path = os.path.join(save_directory, filename)\n",
    "\n",
    "    # Save the model and hyperparameters\n",
    "    with open(full_path, \"wb\") as f:\n",
    "        hyperparam_str = json.dumps(hyperparams)\n",
    "        f.write((hyperparam_str + \"\\n\").encode())\n",
    "        eqx.tree_serialise_leaves(f, model)"
   ]
  },
  {
   "cell_type": "code",
   "execution_count": 14,
   "id": "51cf1b6f-604a-476a-bcc9-0d0c5af4dd8c",
   "metadata": {},
   "outputs": [],
   "source": [
    "def train(model: mlp,\n",
    "          train_loader: torch.utils.data.DataLoader,\n",
    "          optim: optax.GradientTransformation,\n",
    "          D: int,\n",
    "          epochs: int,\n",
    "          key: jax.random.PRNGKey) -> mlp:\n",
    "    \"\"\"\n",
    "    Train a mlp model using the provided data loaders and optimizers.\n",
    "\n",
    "    Args:\n",
    "        model (mlp): The model to train.\n",
    "        trainloader (DataLoader): DataLoader for the training set.\n",
    "        optim (optax.GradientTransformation): The optimization algorithm.\n",
    "        epochs (int): The number of training epochs.\n",
    "\n",
    "    Returns:\n",
    "        mlp: The trained model.\n",
    "    \"\"\"\n",
    "\n",
    "    opt_state = optim.init(eqx.filter(model, eqx.is_array))\n",
    "\n",
    "    # Initialize wandb \n",
    "    wandb.init(project=\"Equinox_PFGM++\", dir='../')\n",
    "\n",
    "    # Initialize the variable to track the best train loss\n",
    "    best_train_loss = float('inf')\n",
    "    \n",
    "    @eqx.filter_jit\n",
    "    def make_step(\n",
    "        model: mlp,\n",
    "        opt_state: PyTree,\n",
    "        x: Float[Array, \"batch 1000\"],\n",
    "        D: int,\n",
    "        key: jax.random.PRNGKey\n",
    "    ):\n",
    "        loss_value, grads = eqx.filter_value_and_grad(loss)(model, x, D, key)\n",
    "        updates, opt_state = optim.update(grads, opt_state, model)\n",
    "        model = eqx.apply_updates(model, updates)\n",
    "        return model, opt_state, loss_value\n",
    "\n",
    "    # Main training loop\n",
    "    for epoch in tqdm(range(epochs)):  # Loop over each epoch\n",
    "        epoch_train_loss = 0.0\n",
    "        batch_count = 0\n",
    "        for step, x in enumerate(train_loader):  # Loop over all mini-batches\n",
    "            x = x\n",
    "            model, opt_state, train_loss = make_step(model, opt_state, x, D, key)\n",
    "            \n",
    "            epoch_train_loss += train_loss.item()\n",
    "            batch_count += 1\n",
    "\n",
    "        # Average loss over all mini-batches\n",
    "        epoch_train_loss /= batch_count  \n",
    "\n",
    "        # Log the training and test loss using wandb\n",
    "        wandb.log({\"train_loss\": epoch_train_loss})\n",
    "\n",
    "        # Check if this test_loss is the best one we've seen so far\n",
    "        if epoch_train_loss < best_train_loss:\n",
    "            # Update the best test loss   \n",
    "            best_train_loss = epoch_train_loss \n",
    "            # Save the model at the end of each epoch\n",
    "            save(\n",
    "                filename=f\"{wandb.run.name}.eqx\", \n",
    "                hyperparams={'dim': model.dim, 'latent_dim': model.latent_dim, 'std_data': model.std_data},\n",
    "                model=model\n",
    "            )\n",
    "        \n",
    "        print(\n",
    "            f\"{epoch=}, train_loss={epoch_train_loss}\"\n",
    "        )\n",
    "    return model"
   ]
  },
  {
   "cell_type": "code",
   "execution_count": 15,
   "id": "9205b353-09d0-469e-bf8c-a99751bdbd51",
   "metadata": {
    "scrolled": true
   },
   "outputs": [
    {
     "name": "stderr",
     "output_type": "stream",
     "text": [
      "Failed to detect the name of this notebook, you can set it manually with the WANDB_NOTEBOOK_NAME environment variable to enable code saving.\n",
      "\u001b[34m\u001b[1mwandb\u001b[0m: Currently logged in as: \u001b[33mmdowicz\u001b[0m. Use \u001b[1m`wandb login --relogin`\u001b[0m to force relogin\n"
     ]
    },
    {
     "data": {
      "text/html": [
       "wandb version 0.15.9 is available!  To upgrade, please run:\n",
       " $ pip install wandb --upgrade"
      ],
      "text/plain": [
       "<IPython.core.display.HTML object>"
      ]
     },
     "metadata": {},
     "output_type": "display_data"
    },
    {
     "data": {
      "text/html": [
       "Tracking run with wandb version 0.15.5"
      ],
      "text/plain": [
       "<IPython.core.display.HTML object>"
      ]
     },
     "metadata": {},
     "output_type": "display_data"
    },
    {
     "data": {
      "text/html": [
       "Run data is saved locally in <code>../wandb/run-20230905_111637-7bipec6x</code>"
      ],
      "text/plain": [
       "<IPython.core.display.HTML object>"
      ]
     },
     "metadata": {},
     "output_type": "display_data"
    },
    {
     "data": {
      "text/html": [
       "Syncing run <strong><a href='https://wandb.ai/mdowicz/Equinox_PFGM%2B%2B/runs/7bipec6x' target=\"_blank\">deft-field-92</a></strong> to <a href='https://wandb.ai/mdowicz/Equinox_PFGM%2B%2B' target=\"_blank\">Weights & Biases</a> (<a href='https://wandb.me/run' target=\"_blank\">docs</a>)<br/>"
      ],
      "text/plain": [
       "<IPython.core.display.HTML object>"
      ]
     },
     "metadata": {},
     "output_type": "display_data"
    },
    {
     "data": {
      "text/html": [
       " View project at <a href='https://wandb.ai/mdowicz/Equinox_PFGM%2B%2B' target=\"_blank\">https://wandb.ai/mdowicz/Equinox_PFGM%2B%2B</a>"
      ],
      "text/plain": [
       "<IPython.core.display.HTML object>"
      ]
     },
     "metadata": {},
     "output_type": "display_data"
    },
    {
     "data": {
      "text/html": [
       " View run at <a href='https://wandb.ai/mdowicz/Equinox_PFGM%2B%2B/runs/7bipec6x' target=\"_blank\">https://wandb.ai/mdowicz/Equinox_PFGM%2B%2B/runs/7bipec6x</a>"
      ],
      "text/plain": [
       "<IPython.core.display.HTML object>"
      ]
     },
     "metadata": {},
     "output_type": "display_data"
    },
    {
     "name": "stderr",
     "output_type": "stream",
     "text": [
      "  5%|▌         | 1/20 [00:14<04:31, 14.29s/it]"
     ]
    },
    {
     "name": "stdout",
     "output_type": "stream",
     "text": [
      "epoch=0, train_loss=3.221169719213172\n"
     ]
    },
    {
     "name": "stderr",
     "output_type": "stream",
     "text": [
      " 10%|█         | 2/20 [00:24<03:37, 12.06s/it]"
     ]
    },
    {
     "name": "stdout",
     "output_type": "stream",
     "text": [
      "epoch=1, train_loss=2.422568315192114\n"
     ]
    },
    {
     "name": "stderr",
     "output_type": "stream",
     "text": [
      " 15%|█▌        | 3/20 [00:35<03:12, 11.32s/it]"
     ]
    },
    {
     "name": "stdout",
     "output_type": "stream",
     "text": [
      "epoch=2, train_loss=2.106996199752711\n"
     ]
    },
    {
     "name": "stderr",
     "output_type": "stream",
     "text": [
      " 20%|██        | 4/20 [00:45<02:54, 10.89s/it]"
     ]
    },
    {
     "name": "stdout",
     "output_type": "stream",
     "text": [
      "epoch=3, train_loss=1.7903640828555143\n"
     ]
    },
    {
     "name": "stderr",
     "output_type": "stream",
     "text": [
      " 25%|██▌       | 5/20 [00:55<02:39, 10.65s/it]"
     ]
    },
    {
     "name": "stdout",
     "output_type": "stream",
     "text": [
      "epoch=4, train_loss=1.6411920619916311\n"
     ]
    },
    {
     "name": "stderr",
     "output_type": "stream",
     "text": [
      " 30%|███       | 6/20 [01:05<02:27, 10.50s/it]"
     ]
    },
    {
     "name": "stdout",
     "output_type": "stream",
     "text": [
      "epoch=5, train_loss=1.5779448415659652\n"
     ]
    },
    {
     "name": "stderr",
     "output_type": "stream",
     "text": [
      " 35%|███▌      | 7/20 [01:16<02:15, 10.40s/it]"
     ]
    },
    {
     "name": "stdout",
     "output_type": "stream",
     "text": [
      "epoch=6, train_loss=1.5709291802176946\n"
     ]
    },
    {
     "name": "stderr",
     "output_type": "stream",
     "text": [
      " 40%|████      | 8/20 [01:26<02:04, 10.35s/it]"
     ]
    },
    {
     "name": "stdout",
     "output_type": "stream",
     "text": [
      "epoch=7, train_loss=1.502883432786676\n"
     ]
    },
    {
     "name": "stderr",
     "output_type": "stream",
     "text": [
      " 45%|████▌     | 9/20 [01:36<01:53, 10.29s/it]"
     ]
    },
    {
     "name": "stdout",
     "output_type": "stream",
     "text": [
      "epoch=8, train_loss=1.533045993575567\n"
     ]
    },
    {
     "name": "stderr",
     "output_type": "stream",
     "text": [
      " 50%|█████     | 10/20 [01:46<01:42, 10.26s/it]"
     ]
    },
    {
     "name": "stdout",
     "output_type": "stream",
     "text": [
      "epoch=9, train_loss=1.4804356641407255\n"
     ]
    },
    {
     "name": "stderr",
     "output_type": "stream",
     "text": [
      " 55%|█████▌    | 11/20 [01:56<01:32, 10.25s/it]"
     ]
    },
    {
     "name": "stdout",
     "output_type": "stream",
     "text": [
      "epoch=10, train_loss=1.4900705995438974\n"
     ]
    },
    {
     "name": "stderr",
     "output_type": "stream",
     "text": [
      " 60%|██████    | 12/20 [02:07<01:21, 10.24s/it]"
     ]
    },
    {
     "name": "stdout",
     "output_type": "stream",
     "text": [
      "epoch=11, train_loss=1.4601792051822324\n"
     ]
    },
    {
     "name": "stderr",
     "output_type": "stream",
     "text": [
      " 65%|██████▌   | 13/20 [02:17<01:11, 10.26s/it]"
     ]
    },
    {
     "name": "stdout",
     "output_type": "stream",
     "text": [
      "epoch=12, train_loss=1.4960654294943507\n"
     ]
    },
    {
     "name": "stderr",
     "output_type": "stream",
     "text": [
      " 70%|███████   | 14/20 [02:27<01:01, 10.30s/it]"
     ]
    },
    {
     "name": "stdout",
     "output_type": "stream",
     "text": [
      "epoch=13, train_loss=1.465775507914869\n"
     ]
    },
    {
     "name": "stderr",
     "output_type": "stream",
     "text": [
      " 75%|███████▌  | 15/20 [02:38<00:51, 10.35s/it]"
     ]
    },
    {
     "name": "stdout",
     "output_type": "stream",
     "text": [
      "epoch=14, train_loss=1.4754032349284691\n"
     ]
    },
    {
     "name": "stderr",
     "output_type": "stream",
     "text": [
      " 80%|████████  | 16/20 [02:48<00:41, 10.36s/it]"
     ]
    },
    {
     "name": "stdout",
     "output_type": "stream",
     "text": [
      "epoch=15, train_loss=1.4604468194744256\n"
     ]
    },
    {
     "name": "stderr",
     "output_type": "stream",
     "text": [
      " 85%|████████▌ | 17/20 [02:59<00:31, 10.38s/it]"
     ]
    },
    {
     "name": "stdout",
     "output_type": "stream",
     "text": [
      "epoch=16, train_loss=1.4499014751820625\n"
     ]
    },
    {
     "name": "stderr",
     "output_type": "stream",
     "text": [
      " 90%|█████████ | 18/20 [03:09<00:20, 10.41s/it]"
     ]
    },
    {
     "name": "stdout",
     "output_type": "stream",
     "text": [
      "epoch=17, train_loss=1.4593064875542363\n"
     ]
    },
    {
     "name": "stderr",
     "output_type": "stream",
     "text": [
      " 95%|█████████▌| 19/20 [03:19<00:10, 10.41s/it]"
     ]
    },
    {
     "name": "stdout",
     "output_type": "stream",
     "text": [
      "epoch=18, train_loss=1.441015510619441\n"
     ]
    },
    {
     "name": "stderr",
     "output_type": "stream",
     "text": [
      "100%|██████████| 20/20 [03:30<00:00, 10.52s/it]"
     ]
    },
    {
     "name": "stdout",
     "output_type": "stream",
     "text": [
      "epoch=19, train_loss=1.441108398799655\n"
     ]
    },
    {
     "name": "stderr",
     "output_type": "stream",
     "text": [
      "\n"
     ]
    }
   ],
   "source": [
    "model = train(model, train_loader, optim, D=1e5, epochs=20, key=jax.random.PRNGKey(0))"
   ]
  },
  {
   "cell_type": "markdown",
   "id": "d45bcaf2-6cf8-49d3-8dd8-47e163938519",
   "metadata": {},
   "source": [
    "# Inference"
   ]
  },
  {
   "cell_type": "code",
   "execution_count": 16,
   "id": "5735a935-c743-4632-9f63-c2599d43907c",
   "metadata": {},
   "outputs": [
    {
     "name": "stdout",
     "output_type": "stream",
     "text": [
      "(51,)\n"
     ]
    },
    {
     "name": "stderr",
     "output_type": "stream",
     "text": [
      "50it [00:05,  9.47it/s]\n"
     ]
    }
   ],
   "source": [
    "max_t = 80\n",
    "min_t = 0.1\n",
    "num_steps = 50\n",
    "sample_size = 2000\n",
    "S_churn = 0 # S_churn = 0 is the deterministic sampler from Karras et al. 2022\n",
    "S_min = 0.1\n",
    "S_max = 5\n",
    "S_noise = 1\n",
    "D = 1e5\n",
    "N = model.dim\n",
    "key = jrandom.PRNGKey(32)\n",
    "key1, key2, key3, key4, key5 = jrandom.split(key, 5) \n",
    "\n",
    "rho = 7\n",
    "latents = jrandom.normal(key1, shape=(sample_size, N))\n",
    "\n",
    "# Time step discretization (t = sigma ~ r)\n",
    "# Eqn. giiven in D.3 of PFGM++ paper\n",
    "step_indices = jnp.arange(num_steps)\n",
    "t_steps = (max_t**(1/rho) + step_indices / (num_steps - 1) * (min_t**(1/rho) - max_t**(1/rho))) ** rho\n",
    "# Convert t_steps to arr & add zero to end i.e. t_N=0\n",
    "t_steps = jnp.concatenate([t_steps, jnp.zeros_like(t_steps[:1])]) \n",
    "print(t_steps.shape)\n",
    "\n",
    "\n",
    "##########################\n",
    "### Main Sampling Loop ###\n",
    "##########################\n",
    "\n",
    "std_data = model.std_data # model.std_data = 1, it's 0.5 in Karras et al. 2022 Table 1\n",
    "\n",
    "r_max = t_steps[0] * jnp.sqrt(D) # r = sigma \\sqrt{D} formula\n",
    "\n",
    "# Sample noise from perturbatioon kernel p_r(R) = sampling from inverse-beta\n",
    "# by change-of-variable (App. B of PFGM++)\n",
    "R2 = sample_norm(N, D, sample_size, key2)\n",
    "R3 = (r_max.squeeze() * jnp.sqrt(R2 + 1e-8)).reshape(len(R2), -1)\n",
    "\n",
    "# Uniformly sample the angle component\n",
    "gaussian = jrandom.normal(key3, shape=(sample_size, N))\n",
    "unit_gaussian = gaussian / jnp.linalg.norm(gaussian, ord=2, axis=1, keepdims=True)\n",
    "\n",
    "# Construct the perturbation (similar to Algo. 2 in Karras et al. 2022)\n",
    "x_next = unit_gaussian * R3\n",
    "x_orig = x_next\n",
    "\n",
    "# Loop over consecutive elements in 't_steps', while keeping\n",
    "# track of the index of each pair\n",
    "for i, (t_cur, t_next) in tqdm(enumerate(zip(t_steps[:-1], t_steps[1:]))):\n",
    "    x_cur = x_next\n",
    "\n",
    "    # Increase noise temporarily\n",
    "    gamma = S_churn / num_steps if S_min <= t_cur <= S_max else 0\n",
    "    t_hat = t_cur + gamma * t_cur\n",
    "    x_hat = x_cur + jnp.sqrt(t_hat**2 - t_cur**2) * S_noise * jrandom.normal(key4, shape=x_cur.shape)\n",
    "\n",
    "    # Euler step & preconditions (Table 1 in Karras et al. 2022)\n",
    "    c_in = 1 / jnp.sqrt(std_data**2 + t_hat**2)\n",
    "    # print(f\"(x_hat*c_in).shape = {(x_hat*c_in).shape}\")\n",
    "    # print(f\"t_hat.shape = {t_hat.shape}\")\n",
    "    # print(f\"t_hat = {t_hat}\")\n",
    "\n",
    "    t_hat_broadcasted = jnp.broadcast_to(t_hat, (x_hat * c_in).shape[0])\n",
    "    # print(f\"t_hat_broadcasted.shape = {t_hat_broadcasted.shape}\")\n",
    "\n",
    "    denoised = jax.vmap(model)(x_hat * c_in, t_hat_broadcasted)\n",
    "    d_cur = (x_hat - denoised) / t_hat\n",
    "    x_next = x_hat + (t_next - t_hat) * d_cur\n",
    "\n",
    "    # Apply 2nd order correction:\n",
    "    if i < num_steps - 1:\n",
    "        # Preconditions \n",
    "        c_in = 1 / jnp.sqrt(std_data**2 + t_next**2)\n",
    "        \n",
    "        t_next_broadcasted = jnp.broadcast_to(t_next, (x_next * c_in).shape[0])\n",
    "        # print(f\"t_hat_broadcasted.shape = {t_hat_broadcasted.shape}\")\n",
    "        \n",
    "        denoised = jax.vmap(model)(x_next * c_in, t_next_broadcasted)\n",
    "        d_prime = (x_next - denoised) / t_next\n",
    "        x_next = x_hat + (t_next - t_hat) * (0.5 * d_cur + 0.5 * d_prime)"
   ]
  },
  {
   "cell_type": "code",
   "execution_count": 17,
   "id": "c3cf15cd-b122-4191-b30e-62e12b3829d3",
   "metadata": {},
   "outputs": [
    {
     "data": {
      "text/plain": [
       "<matplotlib.legend.Legend at 0x7f79cc7bca90>"
      ]
     },
     "execution_count": 17,
     "metadata": {},
     "output_type": "execute_result"
    },
    {
     "data": {
      "image/png": "[encoded data removed]",
      "text/plain": [
       "<Figure size 1152x288 with 3 Axes>"
      ]
     },
     "metadata": {
      "needs_background": "light"
     },
     "output_type": "display_data"
    }
   ],
   "source": [
    "# size = 2000 # N\n",
    "std = 0.2\n",
    "mean_scale = 1\n",
    "\n",
    "var_data = std**2 + mean_scale**2 \n",
    "std_data = jnp.sqrt(var_data)\n",
    "\n",
    "generated_X = x_next * std_data\n",
    "\n",
    "fig, (ax0, ax1, ax2) = plt.subplots(1, 3, figsize=(16, 4))\n",
    "\n",
    "ax0.scatter(x_orig[:, 0], x_orig[:, 1], label='Generated Data', alpha=0.5)\n",
    "ax0.set_title(f'$D={D}$', fontsize=20)\n",
    "ax0.set_xlabel('$x_0$', fontsize=15)\n",
    "ax0.set_ylabel('$x_1$', fontsize=15)\n",
    "ax0.legend()\n",
    "\n",
    "ax1.scatter(generated_X[:, 0], generated_X[:, 1], label='Denoised Generated data', alpha=0.5)\n",
    "ax1.set_title(f'$D={D}$', fontsize=20)\n",
    "ax1.set_xlabel('$x_0$', fontsize=15)\n",
    "ax1.set_ylabel('$x_1$', fontsize=15)\n",
    "ax1.legend()\n",
    "\n",
    "ax2.scatter(X[:, 0], X[:, 1], label='True Data', alpha=0.5, color='orange')\n",
    "ax2.set_title(f'$D={D}$', fontsize=20)\n",
    "ax2.set_xlabel('$x_0$', fontsize=15)\n",
    "ax2.set_ylabel('$x_1$', fontsize=15)\n",
    "ax2.legend()"
   ]
  },
  {
   "cell_type": "code",
   "execution_count": null,
   "id": "c92f8600-6156-46be-92d9-9295fb55017f",
   "metadata": {},
   "outputs": [],
   "source": []
  },
  {
   "cell_type": "code",
   "execution_count": null,
   "id": "e1daf383-991e-4ec1-9341-da7833e3fa10",
   "metadata": {},
   "outputs": [],
   "source": []
  }
 ],
 "metadata": {
  "kernelspec": {
   "display_name": "Python 3",
   "language": "python",
   "name": "python3"
  },
  "language_info": {
   "codemirror_mode": {
    "name": "ipython",
    "version": 3
   },
   "file_extension": ".py",
   "mimetype": "text/x-python",
   "name": "python",
   "nbconvert_exporter": "python",
   "pygments_lexer": "ipython3",
   "version": "3.8.13"
  }
 },
 "nbformat": 4,
 "nbformat_minor": 5
}
