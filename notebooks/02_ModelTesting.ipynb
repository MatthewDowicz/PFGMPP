{
 "cells": [
  {
   "cell_type": "code",
   "execution_count": 1,
   "id": "752a774d-47fe-4bd1-8bf6-586e6e118e21",
   "metadata": {},
   "outputs": [],
   "source": [
    "import os\n",
    "from typing import Any, Sequence, Optional, Tuple, Iterator, Dict, Callable, Union, Type, List\n",
    "import numpy as np\n",
    "import matplotlib.pyplot as plt\n",
    "\n",
    "# Changing fonts to be latex typesetting\n",
    "from matplotlib import rcParams\n",
    "rcParams['mathtext.fontset'] = 'dejavuserif'\n",
    "rcParams['font.family'] = 'serif'\n",
    "\n",
    "# # PyTorch for Dataloaders\n",
    "import torch\n",
    "\n",
    "# JAX/Flax\n",
    "import jax\n",
    "import jax.numpy as jnp\n",
    "from jax import random\n",
    "from flax import linen as nn\n",
    "import wandb\n",
    "\n",
    "from visualization import visualize as vis\n",
    "from data import data_functions as df\n",
    "from models import model_architecture as march\n",
    "from models import train_model as trm\n",
    "from models import generate_model as gen"
   ]
  },
  {
   "cell_type": "code",
   "execution_count": 2,
   "id": "4a87ccc2-97fb-4282-9c2e-15834d7c4787",
   "metadata": {},
   "outputs": [],
   "source": [
    "class DoubleDense(nn.Module):\n",
    "    in_features: int\n",
    "    hidden_features: int\n",
    "    out_features: int\n",
    "\n",
    "    def setup(self):\n",
    "        self.dense1 = nn.Dense(self.hidden_features)\n",
    "        self.dense2 = nn.Dense(self.out_features)\n",
    "\n",
    "    def __call__(self, x):\n",
    "        x = self.dense1(x)\n",
    "        x = nn.gelu(x)\n",
    "        x = self.dense2(x)\n",
    "        return nn.gelu(x)\n",
    "\n",
    "class Down(nn.Module):\n",
    "    in_features: int\n",
    "    out_features: int\n",
    "\n",
    "    def setup(self):\n",
    "        self.dense1 = DoubleDense(self.in_features, self.in_features, self.out_features)\n",
    "        self.emb_layer = nn.Dense(self.out_features)\n",
    "\n",
    "    def __call__(self, x, t):\n",
    "        x = self.dense1(x)\n",
    "        emb = self.emb_layer(t)\n",
    "        return x + emb\n",
    "\n",
    "\n",
    "class Up(nn.Module):\n",
    "    in_features: int\n",
    "    out_features: int\n",
    "\n",
    "    def setup(self):\n",
    "        self.dense1 = DoubleDense(self.in_features, self.in_features // 2, self.out_features)\n",
    "        self.emb_layer = nn.Dense(self.out_features)\n",
    "\n",
    "    def __call__(self, x, skip_x, t):\n",
    "        x = jnp.concatenate([skip_x, x], axis=-1)\n",
    "        x = self.dense1(x)\n",
    "        emb = self.emb_layer(t)\n",
    "        return x + emb\n",
    "\n",
    "\n",
    "class UNet(nn.Module):\n",
    "    in_features: int = 2\n",
    "    out_features: int = 2\n",
    "    std_data: float = 0.5\n",
    "\n",
    "    def setup(self):\n",
    "        self.inc = DoubleDense(self.in_features, 64, 64)\n",
    "        self.down1 = Down(64, 128)\n",
    "        self.down2 = Down(128, 256)\n",
    "        self.down3 = Down(256, 256)\n",
    "\n",
    "        self.bot1 = DoubleDense(256, 512, 512)\n",
    "        self.bot2 = DoubleDense(512, 512, 512)\n",
    "        self.bot3 = DoubleDense(512, 256, 256)\n",
    "\n",
    "        self.up1 = Up(512, 128)\n",
    "        self.up2 = Up(256, 64)\n",
    "        self.up3 = Up(128, 64)\n",
    "        self.outc = nn.Dense(self.out_features)\n",
    "\n",
    "    def __call__(self, x, t):\n",
    "        t = t.squeeze()\n",
    "        c_out = t * self.std_data / jnp.sqrt(self.std_data**2 + t**2)\n",
    "        c_skip = self.std_data**2 / (self.std_data**2 + t**2)\n",
    "\n",
    "        t = jnp.log(t.flatten()) / 4.\n",
    "        t = self.pos_encoding(t, 64)\n",
    "        x_orig = x\n",
    "\n",
    "        x1 = self.inc(x) # 2 -> 64\n",
    "        x2 = self.down1(x1, t) # 64 -> 128\n",
    "        x3 = self.down2(x2, t) # 128 -> 256\n",
    "        x4 = self.down3(x3, t) # 256 -> 256\n",
    "\n",
    "        x4 = self.bot1(x4) # 256 -> 512\n",
    "        x4 = self.bot2(x4) # 512 -> 512\n",
    "        x4 = self.bot3(x4) # 512 -> 256\n",
    "\n",
    "        x = self.up1(x4, x3, t) # 512 -> 128\n",
    "        x = self.up2(x, x2, t) # 256 -> 64\n",
    "        x = self.up3(x, x1, t) # 128 -> 64\n",
    "        output = self.outc(x) # 2 -> 2\n",
    "\n",
    "        # Reshape c_out & c_skip to match dimensions for broadcasting\n",
    "        c_out = jnp.reshape(c_out, (-1,1))\n",
    "        c_skip = jnp.reshape(c_skip, (-1,1))\n",
    "        return c_out * output + c_skip * x_orig\n",
    "\n",
    "    def pos_encoding(self, t, channels):\n",
    "        t = jnp.expand_dims(t, axis=-1)  # Add an additional dimension to t\n",
    "        inv_freq = 1.0 / (10000 ** (jnp.arange(0, channels, 2).astype(jnp.float32) / channels))\n",
    "        pos_enc_a = jnp.sin(t * inv_freq)\n",
    "        pos_enc_b = jnp.cos(t * inv_freq)\n",
    "        pos_enc = jnp.concatenate([pos_enc_a, pos_enc_b], axis=-1)\n",
    "        return pos_enc"
   ]
  },
  {
   "cell_type": "code",
   "execution_count": 5,
   "id": "2ccfa283-0cbb-4598-a2dc-585bdd241547",
   "metadata": {
    "scrolled": true
   },
   "outputs": [
    {
     "name": "stdout",
     "output_type": "stream",
     "text": [
      "(40000, 2)\n",
      "\n",
      "\u001b[3m                                            UNet Summary                                             \u001b[0m\n",
      "┏━━━━━━━━━━━━━━━━━━━━━┳━━━━━━━━━━━━━┳━━━━━━━━━━━━━━━━━━━━┳━━━━━━━━━━━━━━━━━━┳━━━━━━━━━━━━━━━━━━━━━━━┓\n",
      "┃\u001b[1m \u001b[0m\u001b[1mpath               \u001b[0m\u001b[1m \u001b[0m┃\u001b[1m \u001b[0m\u001b[1mmodule     \u001b[0m\u001b[1m \u001b[0m┃\u001b[1m \u001b[0m\u001b[1minputs            \u001b[0m\u001b[1m \u001b[0m┃\u001b[1m \u001b[0m\u001b[1moutputs         \u001b[0m\u001b[1m \u001b[0m┃\u001b[1m \u001b[0m\u001b[1mparams               \u001b[0m\u001b[1m \u001b[0m┃\n",
      "┡━━━━━━━━━━━━━━━━━━━━━╇━━━━━━━━━━━━━╇━━━━━━━━━━━━━━━━━━━━╇━━━━━━━━━━━━━━━━━━╇━━━━━━━━━━━━━━━━━━━━━━━┩\n",
      "│                     │ UNet        │ - \u001b[2mfloat32\u001b[0m[128,2]   │ \u001b[2mfloat32\u001b[0m[128,2]   │                       │\n",
      "│                     │             │ - \u001b[2mfloat32\u001b[0m[128]     │                  │                       │\n",
      "├─────────────────────┼─────────────┼────────────────────┼──────────────────┼───────────────────────┤\n",
      "│ inc                 │ DoubleDense │ \u001b[2mfloat32\u001b[0m[128,2]     │ \u001b[2mfloat32\u001b[0m[128,64]  │                       │\n",
      "├─────────────────────┼─────────────┼────────────────────┼──────────────────┼───────────────────────┤\n",
      "│ inc/dense1          │ Dense       │ \u001b[2mfloat32\u001b[0m[128,2]     │ \u001b[2mfloat32\u001b[0m[128,64]  │ bias: \u001b[2mfloat32\u001b[0m[64]     │\n",
      "│                     │             │                    │                  │ kernel: \u001b[2mfloat32\u001b[0m[2,64] │\n",
      "│                     │             │                    │                  │                       │\n",
      "│                     │             │                    │                  │ \u001b[1m192 \u001b[0m\u001b[1;2m(768 B)\u001b[0m           │\n",
      "├─────────────────────┼─────────────┼────────────────────┼──────────────────┼───────────────────────┤\n",
      "│ inc/dense2          │ Dense       │ \u001b[2mfloat32\u001b[0m[128,64]    │ \u001b[2mfloat32\u001b[0m[128,64]  │ bias: \u001b[2mfloat32\u001b[0m[64]     │\n",
      "│                     │             │                    │                  │ kernel:               │\n",
      "│                     │             │                    │                  │ \u001b[2mfloat32\u001b[0m[64,64]        │\n",
      "│                     │             │                    │                  │                       │\n",
      "│                     │             │                    │                  │ \u001b[1m4,160 \u001b[0m\u001b[1;2m(16.6 KB)\u001b[0m       │\n",
      "├─────────────────────┼─────────────┼────────────────────┼──────────────────┼───────────────────────┤\n",
      "│ down1               │ Down        │ - \u001b[2mfloat32\u001b[0m[128,64]  │ \u001b[2mfloat32\u001b[0m[128,128] │                       │\n",
      "│                     │             │ - \u001b[2mfloat32\u001b[0m[128,64]  │                  │                       │\n",
      "├─────────────────────┼─────────────┼────────────────────┼──────────────────┼───────────────────────┤\n",
      "│ down1/dense1        │ DoubleDense │ \u001b[2mfloat32\u001b[0m[128,64]    │ \u001b[2mfloat32\u001b[0m[128,128] │                       │\n",
      "├─────────────────────┼─────────────┼────────────────────┼──────────────────┼───────────────────────┤\n",
      "│ down1/dense1/dense1 │ Dense       │ \u001b[2mfloat32\u001b[0m[128,64]    │ \u001b[2mfloat32\u001b[0m[128,64]  │ bias: \u001b[2mfloat32\u001b[0m[64]     │\n",
      "│                     │             │                    │                  │ kernel:               │\n",
      "│                     │             │                    │                  │ \u001b[2mfloat32\u001b[0m[64,64]        │\n",
      "│                     │             │                    │                  │                       │\n",
      "│                     │             │                    │                  │ \u001b[1m4,160 \u001b[0m\u001b[1;2m(16.6 KB)\u001b[0m       │\n",
      "├─────────────────────┼─────────────┼────────────────────┼──────────────────┼───────────────────────┤\n",
      "│ down1/dense1/dense2 │ Dense       │ \u001b[2mfloat32\u001b[0m[128,64]    │ \u001b[2mfloat32\u001b[0m[128,128] │ bias: \u001b[2mfloat32\u001b[0m[128]    │\n",
      "│                     │             │                    │                  │ kernel:               │\n",
      "│                     │             │                    │                  │ \u001b[2mfloat32\u001b[0m[64,128]       │\n",
      "│                     │             │                    │                  │                       │\n",
      "│                     │             │                    │                  │ \u001b[1m8,320 \u001b[0m\u001b[1;2m(33.3 KB)\u001b[0m       │\n",
      "├─────────────────────┼─────────────┼────────────────────┼──────────────────┼───────────────────────┤\n",
      "│ down1/emb_layer     │ Dense       │ \u001b[2mfloat32\u001b[0m[128,64]    │ \u001b[2mfloat32\u001b[0m[128,128] │ bias: \u001b[2mfloat32\u001b[0m[128]    │\n",
      "│                     │             │                    │                  │ kernel:               │\n",
      "│                     │             │                    │                  │ \u001b[2mfloat32\u001b[0m[64,128]       │\n",
      "│                     │             │                    │                  │                       │\n",
      "│                     │             │                    │                  │ \u001b[1m8,320 \u001b[0m\u001b[1;2m(33.3 KB)\u001b[0m       │\n",
      "├─────────────────────┼─────────────┼────────────────────┼──────────────────┼───────────────────────┤\n",
      "│ down2               │ Down        │ - \u001b[2mfloat32\u001b[0m[128,128] │ \u001b[2mfloat32\u001b[0m[128,256] │                       │\n",
      "│                     │             │ - \u001b[2mfloat32\u001b[0m[128,64]  │                  │                       │\n",
      "├─────────────────────┼─────────────┼────────────────────┼──────────────────┼───────────────────────┤\n",
      "│ down2/dense1        │ DoubleDense │ \u001b[2mfloat32\u001b[0m[128,128]   │ \u001b[2mfloat32\u001b[0m[128,256] │                       │\n",
      "├─────────────────────┼─────────────┼────────────────────┼──────────────────┼───────────────────────┤\n",
      "│ down2/dense1/dense1 │ Dense       │ \u001b[2mfloat32\u001b[0m[128,128]   │ \u001b[2mfloat32\u001b[0m[128,128] │ bias: \u001b[2mfloat32\u001b[0m[128]    │\n",
      "│                     │             │                    │                  │ kernel:               │\n",
      "│                     │             │                    │                  │ \u001b[2mfloat32\u001b[0m[128,128]      │\n",
      "│                     │             │                    │                  │                       │\n",
      "│                     │             │                    │                  │ \u001b[1m16,512 \u001b[0m\u001b[1;2m(66.0 KB)\u001b[0m      │\n",
      "├─────────────────────┼─────────────┼────────────────────┼──────────────────┼───────────────────────┤\n",
      "│ down2/dense1/dense2 │ Dense       │ \u001b[2mfloat32\u001b[0m[128,128]   │ \u001b[2mfloat32\u001b[0m[128,256] │ bias: \u001b[2mfloat32\u001b[0m[256]    │\n",
      "│                     │             │                    │                  │ kernel:               │\n",
      "│                     │             │                    │                  │ \u001b[2mfloat32\u001b[0m[128,256]      │\n",
      "│                     │             │                    │                  │                       │\n",
      "│                     │             │                    │                  │ \u001b[1m33,024 \u001b[0m\u001b[1;2m(132.1 KB)\u001b[0m     │\n",
      "├─────────────────────┼─────────────┼────────────────────┼──────────────────┼───────────────────────┤\n",
      "│ down2/emb_layer     │ Dense       │ \u001b[2mfloat32\u001b[0m[128,64]    │ \u001b[2mfloat32\u001b[0m[128,256] │ bias: \u001b[2mfloat32\u001b[0m[256]    │\n",
      "│                     │             │                    │                  │ kernel:               │\n",
      "│                     │             │                    │                  │ \u001b[2mfloat32\u001b[0m[64,256]       │\n",
      "│                     │             │                    │                  │                       │\n",
      "│                     │             │                    │                  │ \u001b[1m16,640 \u001b[0m\u001b[1;2m(66.6 KB)\u001b[0m      │\n",
      "├─────────────────────┼─────────────┼────────────────────┼──────────────────┼───────────────────────┤\n",
      "│ down3               │ Down        │ - \u001b[2mfloat32\u001b[0m[128,256] │ \u001b[2mfloat32\u001b[0m[128,256] │                       │\n",
      "│                     │             │ - \u001b[2mfloat32\u001b[0m[128,64]  │                  │                       │\n",
      "├─────────────────────┼─────────────┼────────────────────┼──────────────────┼───────────────────────┤\n",
      "│ down3/dense1        │ DoubleDense │ \u001b[2mfloat32\u001b[0m[128,256]   │ \u001b[2mfloat32\u001b[0m[128,256] │                       │\n",
      "├─────────────────────┼─────────────┼────────────────────┼──────────────────┼───────────────────────┤\n",
      "│ down3/dense1/dense1 │ Dense       │ \u001b[2mfloat32\u001b[0m[128,256]   │ \u001b[2mfloat32\u001b[0m[128,256] │ bias: \u001b[2mfloat32\u001b[0m[256]    │\n",
      "│                     │             │                    │                  │ kernel:               │\n",
      "│                     │             │                    │                  │ \u001b[2mfloat32\u001b[0m[256,256]      │\n",
      "│                     │             │                    │                  │                       │\n",
      "│                     │             │                    │                  │ \u001b[1m65,792 \u001b[0m\u001b[1;2m(263.2 KB)\u001b[0m     │\n",
      "├─────────────────────┼─────────────┼────────────────────┼──────────────────┼───────────────────────┤\n",
      "│ down3/dense1/dense2 │ Dense       │ \u001b[2mfloat32\u001b[0m[128,256]   │ \u001b[2mfloat32\u001b[0m[128,256] │ bias: \u001b[2mfloat32\u001b[0m[256]    │\n",
      "│                     │             │                    │                  │ kernel:               │\n",
      "│                     │             │                    │                  │ \u001b[2mfloat32\u001b[0m[256,256]      │\n",
      "│                     │             │                    │                  │                       │\n",
      "│                     │             │                    │                  │ \u001b[1m65,792 \u001b[0m\u001b[1;2m(263.2 KB)\u001b[0m     │\n",
      "├─────────────────────┼─────────────┼────────────────────┼──────────────────┼───────────────────────┤\n",
      "│ down3/emb_layer     │ Dense       │ \u001b[2mfloat32\u001b[0m[128,64]    │ \u001b[2mfloat32\u001b[0m[128,256] │ bias: \u001b[2mfloat32\u001b[0m[256]    │\n",
      "│                     │             │                    │                  │ kernel:               │\n",
      "│                     │             │                    │                  │ \u001b[2mfloat32\u001b[0m[64,256]       │\n",
      "│                     │             │                    │                  │                       │\n",
      "│                     │             │                    │                  │ \u001b[1m16,640 \u001b[0m\u001b[1;2m(66.6 KB)\u001b[0m      │\n",
      "├─────────────────────┼─────────────┼────────────────────┼──────────────────┼───────────────────────┤\n",
      "│ bot1                │ DoubleDense │ \u001b[2mfloat32\u001b[0m[128,256]   │ \u001b[2mfloat32\u001b[0m[128,512] │                       │\n",
      "├─────────────────────┼─────────────┼────────────────────┼──────────────────┼───────────────────────┤\n",
      "│ bot1/dense1         │ Dense       │ \u001b[2mfloat32\u001b[0m[128,256]   │ \u001b[2mfloat32\u001b[0m[128,512] │ bias: \u001b[2mfloat32\u001b[0m[512]    │\n",
      "│                     │             │                    │                  │ kernel:               │\n",
      "│                     │             │                    │                  │ \u001b[2mfloat32\u001b[0m[256,512]      │\n",
      "│                     │             │                    │                  │                       │\n",
      "│                     │             │                    │                  │ \u001b[1m131,584 \u001b[0m\u001b[1;2m(526.3 KB)\u001b[0m    │\n",
      "├─────────────────────┼─────────────┼────────────────────┼──────────────────┼───────────────────────┤\n",
      "│ bot1/dense2         │ Dense       │ \u001b[2mfloat32\u001b[0m[128,512]   │ \u001b[2mfloat32\u001b[0m[128,512] │ bias: \u001b[2mfloat32\u001b[0m[512]    │\n",
      "│                     │             │                    │                  │ kernel:               │\n",
      "│                     │             │                    │                  │ \u001b[2mfloat32\u001b[0m[512,512]      │\n",
      "│                     │             │                    │                  │                       │\n",
      "│                     │             │                    │                  │ \u001b[1m262,656 \u001b[0m\u001b[1;2m(1.1 MB)\u001b[0m      │\n",
      "├─────────────────────┼─────────────┼────────────────────┼──────────────────┼───────────────────────┤\n",
      "│ bot2                │ DoubleDense │ \u001b[2mfloat32\u001b[0m[128,512]   │ \u001b[2mfloat32\u001b[0m[128,512] │                       │\n",
      "├─────────────────────┼─────────────┼────────────────────┼──────────────────┼───────────────────────┤\n",
      "│ bot2/dense1         │ Dense       │ \u001b[2mfloat32\u001b[0m[128,512]   │ \u001b[2mfloat32\u001b[0m[128,512] │ bias: \u001b[2mfloat32\u001b[0m[512]    │\n",
      "│                     │             │                    │                  │ kernel:               │\n",
      "│                     │             │                    │                  │ \u001b[2mfloat32\u001b[0m[512,512]      │\n",
      "│                     │             │                    │                  │                       │\n",
      "│                     │             │                    │                  │ \u001b[1m262,656 \u001b[0m\u001b[1;2m(1.1 MB)\u001b[0m      │\n",
      "├─────────────────────┼─────────────┼────────────────────┼──────────────────┼───────────────────────┤\n",
      "│ bot2/dense2         │ Dense       │ \u001b[2mfloat32\u001b[0m[128,512]   │ \u001b[2mfloat32\u001b[0m[128,512] │ bias: \u001b[2mfloat32\u001b[0m[512]    │\n",
      "│                     │             │                    │                  │ kernel:               │\n",
      "│                     │             │                    │                  │ \u001b[2mfloat32\u001b[0m[512,512]      │\n",
      "│                     │             │                    │                  │                       │\n",
      "│                     │             │                    │                  │ \u001b[1m262,656 \u001b[0m\u001b[1;2m(1.1 MB)\u001b[0m      │\n",
      "├─────────────────────┼─────────────┼────────────────────┼──────────────────┼───────────────────────┤\n",
      "│ bot3                │ DoubleDense │ \u001b[2mfloat32\u001b[0m[128,512]   │ \u001b[2mfloat32\u001b[0m[128,256] │                       │\n",
      "├─────────────────────┼─────────────┼────────────────────┼──────────────────┼───────────────────────┤\n",
      "│ bot3/dense1         │ Dense       │ \u001b[2mfloat32\u001b[0m[128,512]   │ \u001b[2mfloat32\u001b[0m[128,256] │ bias: \u001b[2mfloat32\u001b[0m[256]    │\n",
      "│                     │             │                    │                  │ kernel:               │\n",
      "│                     │             │                    │                  │ \u001b[2mfloat32\u001b[0m[512,256]      │\n",
      "│                     │             │                    │                  │                       │\n",
      "│                     │             │                    │                  │ \u001b[1m131,328 \u001b[0m\u001b[1;2m(525.3 KB)\u001b[0m    │\n",
      "├─────────────────────┼─────────────┼────────────────────┼──────────────────┼───────────────────────┤\n",
      "│ bot3/dense2         │ Dense       │ \u001b[2mfloat32\u001b[0m[128,256]   │ \u001b[2mfloat32\u001b[0m[128,256] │ bias: \u001b[2mfloat32\u001b[0m[256]    │\n",
      "│                     │             │                    │                  │ kernel:               │\n",
      "│                     │             │                    │                  │ \u001b[2mfloat32\u001b[0m[256,256]      │\n",
      "│                     │             │                    │                  │                       │\n",
      "│                     │             │                    │                  │ \u001b[1m65,792 \u001b[0m\u001b[1;2m(263.2 KB)\u001b[0m     │\n",
      "├─────────────────────┼─────────────┼────────────────────┼──────────────────┼───────────────────────┤\n",
      "│ up1                 │ Up          │ - \u001b[2mfloat32\u001b[0m[128,256] │ \u001b[2mfloat32\u001b[0m[128,128] │                       │\n",
      "│                     │             │ - \u001b[2mfloat32\u001b[0m[128,256] │                  │                       │\n",
      "│                     │             │ - \u001b[2mfloat32\u001b[0m[128,64]  │                  │                       │\n",
      "├─────────────────────┼─────────────┼────────────────────┼──────────────────┼───────────────────────┤\n",
      "│ up1/dense1          │ DoubleDense │ \u001b[2mfloat32\u001b[0m[128,512]   │ \u001b[2mfloat32\u001b[0m[128,128] │                       │\n",
      "├─────────────────────┼─────────────┼────────────────────┼──────────────────┼───────────────────────┤\n",
      "│ up1/dense1/dense1   │ Dense       │ \u001b[2mfloat32\u001b[0m[128,512]   │ \u001b[2mfloat32\u001b[0m[128,256] │ bias: \u001b[2mfloat32\u001b[0m[256]    │\n",
      "│                     │             │                    │                  │ kernel:               │\n",
      "│                     │             │                    │                  │ \u001b[2mfloat32\u001b[0m[512,256]      │\n",
      "│                     │             │                    │                  │                       │\n",
      "│                     │             │                    │                  │ \u001b[1m131,328 \u001b[0m\u001b[1;2m(525.3 KB)\u001b[0m    │\n",
      "├─────────────────────┼─────────────┼────────────────────┼──────────────────┼───────────────────────┤\n",
      "│ up1/dense1/dense2   │ Dense       │ \u001b[2mfloat32\u001b[0m[128,256]   │ \u001b[2mfloat32\u001b[0m[128,128] │ bias: \u001b[2mfloat32\u001b[0m[128]    │\n",
      "│                     │             │                    │                  │ kernel:               │\n",
      "│                     │             │                    │                  │ \u001b[2mfloat32\u001b[0m[256,128]      │\n",
      "│                     │             │                    │                  │                       │\n",
      "│                     │             │                    │                  │ \u001b[1m32,896 \u001b[0m\u001b[1;2m(131.6 KB)\u001b[0m     │\n",
      "├─────────────────────┼─────────────┼────────────────────┼──────────────────┼───────────────────────┤\n",
      "│ up1/emb_layer       │ Dense       │ \u001b[2mfloat32\u001b[0m[128,64]    │ \u001b[2mfloat32\u001b[0m[128,128] │ bias: \u001b[2mfloat32\u001b[0m[128]    │\n",
      "│                     │             │                    │                  │ kernel:               │\n",
      "│                     │             │                    │                  │ \u001b[2mfloat32\u001b[0m[64,128]       │\n",
      "│                     │             │                    │                  │                       │\n",
      "│                     │             │                    │                  │ \u001b[1m8,320 \u001b[0m\u001b[1;2m(33.3 KB)\u001b[0m       │\n",
      "├─────────────────────┼─────────────┼────────────────────┼──────────────────┼───────────────────────┤\n",
      "│ up2                 │ Up          │ - \u001b[2mfloat32\u001b[0m[128,128] │ \u001b[2mfloat32\u001b[0m[128,64]  │                       │\n",
      "│                     │             │ - \u001b[2mfloat32\u001b[0m[128,128] │                  │                       │\n",
      "│                     │             │ - \u001b[2mfloat32\u001b[0m[128,64]  │                  │                       │\n",
      "├─────────────────────┼─────────────┼────────────────────┼──────────────────┼───────────────────────┤\n",
      "│ up2/dense1          │ DoubleDense │ \u001b[2mfloat32\u001b[0m[128,256]   │ \u001b[2mfloat32\u001b[0m[128,64]  │                       │\n",
      "├─────────────────────┼─────────────┼────────────────────┼──────────────────┼───────────────────────┤\n",
      "│ up2/dense1/dense1   │ Dense       │ \u001b[2mfloat32\u001b[0m[128,256]   │ \u001b[2mfloat32\u001b[0m[128,128] │ bias: \u001b[2mfloat32\u001b[0m[128]    │\n",
      "│                     │             │                    │                  │ kernel:               │\n",
      "│                     │             │                    │                  │ \u001b[2mfloat32\u001b[0m[256,128]      │\n",
      "│                     │             │                    │                  │                       │\n",
      "│                     │             │                    │                  │ \u001b[1m32,896 \u001b[0m\u001b[1;2m(131.6 KB)\u001b[0m     │\n",
      "├─────────────────────┼─────────────┼────────────────────┼──────────────────┼───────────────────────┤\n",
      "│ up2/dense1/dense2   │ Dense       │ \u001b[2mfloat32\u001b[0m[128,128]   │ \u001b[2mfloat32\u001b[0m[128,64]  │ bias: \u001b[2mfloat32\u001b[0m[64]     │\n",
      "│                     │             │                    │                  │ kernel:               │\n",
      "│                     │             │                    │                  │ \u001b[2mfloat32\u001b[0m[128,64]       │\n",
      "│                     │             │                    │                  │                       │\n",
      "│                     │             │                    │                  │ \u001b[1m8,256 \u001b[0m\u001b[1;2m(33.0 KB)\u001b[0m       │\n",
      "├─────────────────────┼─────────────┼────────────────────┼──────────────────┼───────────────────────┤\n",
      "│ up2/emb_layer       │ Dense       │ \u001b[2mfloat32\u001b[0m[128,64]    │ \u001b[2mfloat32\u001b[0m[128,64]  │ bias: \u001b[2mfloat32\u001b[0m[64]     │\n",
      "│                     │             │                    │                  │ kernel:               │\n",
      "│                     │             │                    │                  │ \u001b[2mfloat32\u001b[0m[64,64]        │\n",
      "│                     │             │                    │                  │                       │\n",
      "│                     │             │                    │                  │ \u001b[1m4,160 \u001b[0m\u001b[1;2m(16.6 KB)\u001b[0m       │\n",
      "├─────────────────────┼─────────────┼────────────────────┼──────────────────┼───────────────────────┤\n",
      "│ up3                 │ Up          │ - \u001b[2mfloat32\u001b[0m[128,64]  │ \u001b[2mfloat32\u001b[0m[128,64]  │                       │\n",
      "│                     │             │ - \u001b[2mfloat32\u001b[0m[128,64]  │                  │                       │\n",
      "│                     │             │ - \u001b[2mfloat32\u001b[0m[128,64]  │                  │                       │\n",
      "├─────────────────────┼─────────────┼────────────────────┼──────────────────┼───────────────────────┤\n",
      "│ up3/dense1          │ DoubleDense │ \u001b[2mfloat32\u001b[0m[128,128]   │ \u001b[2mfloat32\u001b[0m[128,64]  │                       │\n",
      "├─────────────────────┼─────────────┼────────────────────┼──────────────────┼───────────────────────┤\n",
      "│ up3/dense1/dense1   │ Dense       │ \u001b[2mfloat32\u001b[0m[128,128]   │ \u001b[2mfloat32\u001b[0m[128,64]  │ bias: \u001b[2mfloat32\u001b[0m[64]     │\n",
      "│                     │             │                    │                  │ kernel:               │\n",
      "│                     │             │                    │                  │ \u001b[2mfloat32\u001b[0m[128,64]       │\n",
      "│                     │             │                    │                  │                       │\n",
      "│                     │             │                    │                  │ \u001b[1m8,256 \u001b[0m\u001b[1;2m(33.0 KB)\u001b[0m       │\n",
      "├─────────────────────┼─────────────┼────────────────────┼──────────────────┼───────────────────────┤\n",
      "│ up3/dense1/dense2   │ Dense       │ \u001b[2mfloat32\u001b[0m[128,64]    │ \u001b[2mfloat32\u001b[0m[128,64]  │ bias: \u001b[2mfloat32\u001b[0m[64]     │\n",
      "│                     │             │                    │                  │ kernel:               │\n",
      "│                     │             │                    │                  │ \u001b[2mfloat32\u001b[0m[64,64]        │\n",
      "│                     │             │                    │                  │                       │\n",
      "│                     │             │                    │                  │ \u001b[1m4,160 \u001b[0m\u001b[1;2m(16.6 KB)\u001b[0m       │\n",
      "├─────────────────────┼─────────────┼────────────────────┼──────────────────┼───────────────────────┤\n",
      "│ up3/emb_layer       │ Dense       │ \u001b[2mfloat32\u001b[0m[128,64]    │ \u001b[2mfloat32\u001b[0m[128,64]  │ bias: \u001b[2mfloat32\u001b[0m[64]     │\n",
      "│                     │             │                    │                  │ kernel:               │\n",
      "│                     │             │                    │                  │ \u001b[2mfloat32\u001b[0m[64,64]        │\n",
      "│                     │             │                    │                  │                       │\n",
      "│                     │             │                    │                  │ \u001b[1m4,160 \u001b[0m\u001b[1;2m(16.6 KB)\u001b[0m       │\n",
      "├─────────────────────┼─────────────┼────────────────────┼──────────────────┼───────────────────────┤\n",
      "│ outc                │ Dense       │ \u001b[2mfloat32\u001b[0m[128,64]    │ \u001b[2mfloat32\u001b[0m[128,2]   │ bias: \u001b[2mfloat32\u001b[0m[2]      │\n",
      "│                     │             │                    │                  │ kernel: \u001b[2mfloat32\u001b[0m[64,2] │\n",
      "│                     │             │                    │                  │                       │\n",
      "│                     │             │                    │                  │ \u001b[1m130 \u001b[0m\u001b[1;2m(520 B)\u001b[0m           │\n",
      "├─────────────────────┼─────────────┼────────────────────┼──────────────────┼───────────────────────┤\n",
      "│\u001b[1m \u001b[0m\u001b[1m                   \u001b[0m\u001b[1m \u001b[0m│\u001b[1m \u001b[0m\u001b[1m           \u001b[0m\u001b[1m \u001b[0m│\u001b[1m \u001b[0m\u001b[1m                  \u001b[0m\u001b[1m \u001b[0m│\u001b[1m \u001b[0m\u001b[1m           Total\u001b[0m\u001b[1m \u001b[0m│\u001b[1m \u001b[0m\u001b[1m1,590,786 \u001b[0m\u001b[1;2m(6.4 MB)\u001b[0m\u001b[1m   \u001b[0m\u001b[1m \u001b[0m│\n",
      "└─────────────────────┴─────────────┴────────────────────┴──────────────────┴───────────────────────┘\n",
      "\u001b[1m                                                                                                     \u001b[0m\n",
      "\u001b[1m                                Total Parameters: 1,590,786 \u001b[0m\u001b[1;2m(6.4 MB)\u001b[0m\u001b[1m                                 \u001b[0m\n",
      "\n",
      "\n"
     ]
    }
   ],
   "source": [
    "# Generate dataset of 2D Gaussians\n",
    "X = df.generate_data(43, 20000)\n",
    "print(X.shape)\n",
    "\n",
    "# Make the data suitable for a JAX Dataloader\n",
    "train_dataset = df.JaxDataset(X=X)\n",
    "train_loader = df.NumpyLoader(dataset=train_dataset,\n",
    "                              batch_size=128,\n",
    "                              shuffle=True)\n",
    "batch = next(iter(train_loader))\n",
    "\n",
    "# Create random array of noise to instantiate model to print model summary\n",
    "model = UNet(in_features=2, out_features=2)\n",
    "rng = random.PRNGKey(2)\n",
    "rnd_normal = random.normal(rng, shape=(batch.shape[0], 1))\n",
    "t = jnp.exp(rnd_normal * 1.2 - 1.2)\n",
    "t = t.squeeze()\n",
    "t = jnp.log(t.flatten()) / 4.\n",
    "\n",
    "print(model.tabulate(jax.random.PRNGKey(9), batch, t))"
   ]
  },
  {
   "cell_type": "markdown",
   "id": "6f4ca9f0-edb9-4582-bcc1-58718e043ba9",
   "metadata": {},
   "source": [
    "# 3. Training Loop"
   ]
  },
  {
   "cell_type": "code",
   "execution_count": 10,
   "id": "59a9c807-4247-4f0a-bf57-1152fc3054f9",
   "metadata": {},
   "outputs": [
    {
     "data": {
      "text/html": [
       "Finishing last run (ID:3fpc05km) before initializing another..."
      ],
      "text/plain": [
       "<IPython.core.display.HTML object>"
      ]
     },
     "metadata": {},
     "output_type": "display_data"
    },
    {
     "data": {
      "text/html": [
       "Waiting for W&B process to finish... <strong style=\"color:green\">(success).</strong>"
      ],
      "text/plain": [
       "<IPython.core.display.HTML object>"
      ]
     },
     "metadata": {},
     "output_type": "display_data"
    },
    {
     "data": {
      "text/html": [
       "<style>\n",
       "    table.wandb td:nth-child(1) { padding: 0 10px; text-align: left ; width: auto;} td:nth-child(2) {text-align: left ; width: 100%}\n",
       "    .wandb-row { display: flex; flex-direction: row; flex-wrap: wrap; justify-content: flex-start; width: 100% }\n",
       "    .wandb-col { display: flex; flex-direction: column; flex-basis: 100%; flex: 1; padding: 10px; }\n",
       "    </style>\n",
       "<div class=\"wandb-row\"><div class=\"wandb-col\"><h3>Run history:</h3><br/><table class=\"wandb\"><tr><td>Train Loss</td><td>█▂▁▁▁▁▁▁▁▁▁▁▁▁▁▁▁▁▁▁▁▁▁▁▁▁▁▁▁▁▁▁▁▁▁▁▁▁▁▁</td></tr></table><br/></div><div class=\"wandb-col\"><h3>Run summary:</h3><br/><table class=\"wandb\"><tr><td>Train Loss</td><td>1.24067</td></tr></table><br/></div></div>"
      ],
      "text/plain": [
       "<IPython.core.display.HTML object>"
      ]
     },
     "metadata": {},
     "output_type": "display_data"
    },
    {
     "data": {
      "text/html": [
       " View run <strong style=\"color:#cdcd00\">atomic-gorge-107</strong> at: <a href='https://wandb.ai/mdowicz/toy_pfgmpp/runs/3fpc05km' target=\"_blank\">https://wandb.ai/mdowicz/toy_pfgmpp/runs/3fpc05km</a><br/>Synced 6 W&B file(s), 0 media file(s), 0 artifact file(s) and 0 other file(s)"
      ],
      "text/plain": [
       "<IPython.core.display.HTML object>"
      ]
     },
     "metadata": {},
     "output_type": "display_data"
    },
    {
     "data": {
      "text/html": [
       "Find logs at: <code>/home/mdowicz/PFGMPP/saved_models/toy/wandb/run-20230731_220422-3fpc05km/logs</code>"
      ],
      "text/plain": [
       "<IPython.core.display.HTML object>"
      ]
     },
     "metadata": {},
     "output_type": "display_data"
    },
    {
     "data": {
      "text/html": [
       "Successfully finished last run (ID:3fpc05km). Initializing new run:<br/>"
      ],
      "text/plain": [
       "<IPython.core.display.HTML object>"
      ]
     },
     "metadata": {},
     "output_type": "display_data"
    },
    {
     "data": {
      "text/html": [
       "wandb version 0.15.7 is available!  To upgrade, please run:\n",
       " $ pip install wandb --upgrade"
      ],
      "text/plain": [
       "<IPython.core.display.HTML object>"
      ]
     },
     "metadata": {},
     "output_type": "display_data"
    },
    {
     "data": {
      "text/html": [
       "Tracking run with wandb version 0.15.5"
      ],
      "text/plain": [
       "<IPython.core.display.HTML object>"
      ]
     },
     "metadata": {},
     "output_type": "display_data"
    },
    {
     "data": {
      "text/html": [
       "Run data is saved locally in <code>/home/mdowicz/PFGMPP/saved_models/toy/wandb/run-20230731_225037-gw53bxyu</code>"
      ],
      "text/plain": [
       "<IPython.core.display.HTML object>"
      ]
     },
     "metadata": {},
     "output_type": "display_data"
    },
    {
     "data": {
      "text/html": [
       "Syncing run <strong><a href='https://wandb.ai/mdowicz/toy_pfgmpp/runs/gw53bxyu' target=\"_blank\">ruby-galaxy-108</a></strong> to <a href='https://wandb.ai/mdowicz/toy_pfgmpp' target=\"_blank\">Weights & Biases</a> (<a href='https://wandb.me/run' target=\"_blank\">docs</a>)<br/>"
      ],
      "text/plain": [
       "<IPython.core.display.HTML object>"
      ]
     },
     "metadata": {},
     "output_type": "display_data"
    },
    {
     "data": {
      "text/html": [
       " View project at <a href='https://wandb.ai/mdowicz/toy_pfgmpp' target=\"_blank\">https://wandb.ai/mdowicz/toy_pfgmpp</a>"
      ],
      "text/plain": [
       "<IPython.core.display.HTML object>"
      ]
     },
     "metadata": {},
     "output_type": "display_data"
    },
    {
     "data": {
      "text/html": [
       " View run at <a href='https://wandb.ai/mdowicz/toy_pfgmpp/runs/gw53bxyu' target=\"_blank\">https://wandb.ai/mdowicz/toy_pfgmpp/runs/gw53bxyu</a>"
      ],
      "text/plain": [
       "<IPython.core.display.HTML object>"
      ]
     },
     "metadata": {},
     "output_type": "display_data"
    },
    {
     "name": "stderr",
     "output_type": "stream",
     "text": [
      "100%|██████████| 20/20 [14:05<00:00, 42.28s/it]\n"
     ]
    }
   ],
   "source": [
    "config = {\n",
    "    'seed': 47,\n",
    "    'batch_size': 128,\n",
    "    'learning_rate': 1e-4,\n",
    "    'epochs': 20,\n",
    "    'std_data': 0.5, \n",
    "    'in_features': 2,\n",
    "    'out_features': 2,\n",
    "    'D': 1024,\n",
    "    'N': 2\n",
    "}\n",
    "\n",
    "# Get the rng & model instantiated\n",
    "init_rng = random.PRNGKey(config['seed'])\n",
    "model = UNet(in_features=config['in_features'],\n",
    "             out_features=config['out_features'],\n",
    "             std_data=config['std_data'])\n",
    "\n",
    "# Sample the noise distribution\n",
    "subkey4 = random.PRNGKey(32)\n",
    "rnd_normal = random.normal(subkey4, shape=(batch.shape[0], 1))\n",
    "t = jnp.exp(rnd_normal * 1.2 - 1.2)  \n",
    "\n",
    "# Initialize the models state\n",
    "state = trm.init_train_state(model=model,\n",
    "                               random_key=init_rng,\n",
    "                               x_shape=batch.shape,\n",
    "                               t_shape=t.shape,\n",
    "                               learning_rate=config['learning_rate'])\n",
    "\n",
    "# Call the training function\n",
    "model, state = trm.train_model(train_loader, model, state, config, wandb_logging=True)"
   ]
  },
  {
   "cell_type": "markdown",
   "id": "cc846609-d24b-4cb9-bbdc-6734ed2744e3",
   "metadata": {},
   "source": [
    "# 4. Sampling Loop"
   ]
  },
  {
   "cell_type": "code",
   "execution_count": 11,
   "id": "a0c038de-e071-45b6-ad2b-4aa973247e80",
   "metadata": {},
   "outputs": [],
   "source": [
    "config = {'std_data': 0.5, \n",
    "          'in_features': 2,\n",
    "          'out_features': 2}\n",
    "\n",
    "# Get the rng & model instantiated\n",
    "model = UNet(in_features=config['in_features'],\n",
    "             out_features=config['out_features'],\n",
    "             std_data=config['std_data'])  \n",
    "\n",
    "batch = next(iter(train_loader))\n",
    "\n",
    "updated_model = gen.load_checkpoint(ckpt_dir='PFGMPP/saved_models/toy/checkpoint_20.flax',\n",
    "                                ckpt_file='checkpoint',\n",
    "                                model=model)"
   ]
  },
  {
   "cell_type": "code",
   "execution_count": 12,
   "id": "2ca8b834-f4d8-4b69-8f15-dda01614a6ac",
   "metadata": {},
   "outputs": [
    {
     "name": "stderr",
     "output_type": "stream",
     "text": [
      "50it [00:07,  7.04it/s]\n"
     ]
    }
   ],
   "source": [
    "samples, orig = gen.sample_loop(updated_model,\n",
    "                                  num_steps=50,\n",
    "                                  max_t=80,\n",
    "                                  min_t=0.1,\n",
    "                                  sample_size=2000,\n",
    "                                  S_churn=0,\n",
    "                                  S_min=0.01,\n",
    "                                  S_max=2,\n",
    "                                  S_noise=1,\n",
    "                                  D=2048,\n",
    "                                  N=2,\n",
    "                                  rho=7,\n",
    "                                  std_data=0.5,\n",
    "                                  key_seed=43)"
   ]
  },
  {
   "cell_type": "markdown",
   "id": "a79c3bee-0796-4623-998f-4f3e771a171c",
   "metadata": {},
   "source": [
    "# 5. Visualize Generated Data"
   ]
  },
  {
   "cell_type": "code",
   "execution_count": 13,
   "id": "70e8b07f-6966-4b3b-8e1b-745c90b02b4e",
   "metadata": {},
   "outputs": [
    {
     "data": {
      "image/png": "[encoded data removed]",
      "text/plain": [
       "<Figure size 1152x288 with 3 Axes>"
      ]
     },
     "metadata": {
      "needs_background": "light"
     },
     "output_type": "display_data"
    }
   ],
   "source": [
    "vis.sampling2D(prior_data=orig,\n",
    "               true_data=X,\n",
    "               sampled_data=samples,\n",
    "               std=0.2,\n",
    "               mean_scale=1)"
   ]
  },
  {
   "cell_type": "code",
   "execution_count": null,
   "id": "cdc93a2d-6b5e-4c6a-be91-48dbd33ed524",
   "metadata": {},
   "outputs": [],
   "source": []
  }
 ],
 "metadata": {
  "kernelspec": {
   "display_name": "Python 3",
   "language": "python",
   "name": "python3"
  },
  "language_info": {
   "codemirror_mode": {
    "name": "ipython",
    "version": 3
   },
   "file_extension": ".py",
   "mimetype": "text/x-python",
   "name": "python",
   "nbconvert_exporter": "python",
   "pygments_lexer": "ipython3",
   "version": "3.8.13"
  }
 },
 "nbformat": 4,
 "nbformat_minor": 5
}
