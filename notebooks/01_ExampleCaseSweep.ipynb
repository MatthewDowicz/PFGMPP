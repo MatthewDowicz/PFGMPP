{
 "cells": [
  {
   "cell_type": "code",
   "execution_count": 1,
   "id": "752a774d-47fe-4bd1-8bf6-586e6e118e21",
   "metadata": {},
   "outputs": [],
   "source": [
    "import os\n",
    "from typing import Any, Sequence, Optional, Tuple, Iterator, Dict, Callable, Union, Type, List\n",
    "import numpy as np\n",
    "import matplotlib.pyplot as plt\n",
    "import pprint\n",
    "\n",
    "# Changing fonts to be latex typesetting\n",
    "from matplotlib import rcParams\n",
    "rcParams['mathtext.fontset'] = 'dejavuserif'\n",
    "rcParams['font.family'] = 'serif'\n",
    "\n",
    "# JAX/Flax\n",
    "import jax\n",
    "import jax.numpy as jnp\n",
    "from jax import random\n",
    "import wandb\n",
    "\n",
    "from visualization import visualize as vis\n",
    "from data import data_functions as df\n",
    "from models import model_architecture as march\n",
    "from models import train_model as trm\n",
    "from models import generate_model as gen"
   ]
  },
  {
   "cell_type": "code",
   "execution_count": 2,
   "id": "753e0574-e5b8-45a7-9fce-9b564921ed40",
   "metadata": {},
   "outputs": [
    {
     "name": "stdout",
     "output_type": "stream",
     "text": [
      "{'method': 'random',\n",
      " 'metric': {'goal': 'minimize', 'name': 'Loss'},\n",
      " 'parameters': {'D': {'values': [128, 1024, 2048, 4096]},\n",
      "                'N': {'value': 2},\n",
      "                'batch_size': {'values': [128, 256, 512, 1024]},\n",
      "                'epochs': {'value': 50},\n",
      "                'gen_data_key': {'value': 21},\n",
      "                'latent_dim': {'values': [64, 128, 256, 512, 1024]},\n",
      "                'learning_rate': {'values': [0.01, 0.001, 0.0001, 1e-05]},\n",
      "                'optimizer': {'value': 'adam'},\n",
      "                'size': {'values': [2000, 4000, 6000]},\n",
      "                'std_data': {'value': 0.5},\n",
      "                'train_model_key': {'value': 47}}}\n"
     ]
    }
   ],
   "source": [
    "sweep_config = {\n",
    "    'method': 'random',\n",
    "    'metric': {\n",
    "        'name': 'Loss',\n",
    "        'goal': 'minimize'\n",
    "    },\n",
    "    'parameters': {\n",
    "        'optimizer': {\n",
    "            'value': 'adam'\n",
    "        },\n",
    "        'latent_dim': {\n",
    "            'values': [64, 128, 256, 512, 1024]\n",
    "        },\n",
    "        'epochs': {\n",
    "            'value': 50\n",
    "        },\n",
    "        'batch_size': {\n",
    "            'values': [128, 256, 512, 1024]\n",
    "        },\n",
    "        'learning_rate': {\n",
    "            'values': [1e-2, 1e-3, 1e-4, 1e-5]\n",
    "        },\n",
    "        'N': {\n",
    "            'value': 2\n",
    "        },\n",
    "        'D': {\n",
    "            'values': [128, 1024, 2048, 4096]\n",
    "        },\n",
    "        'std_data': {\n",
    "            'value': 0.5\n",
    "        },\n",
    "        'size': {\n",
    "            'values': [2000, 4000, 6000]\n",
    "        },\n",
    "        'gen_data_key': {\n",
    "            'value': 21\n",
    "        },\n",
    "        'train_model_key': {\n",
    "            'value': 47\n",
    "        }\n",
    "    }\n",
    "}\n",
    "\n",
    "pprint.pprint(sweep_config)"
   ]
  },
  {
   "cell_type": "code",
   "execution_count": 3,
   "id": "8214b961-a0a0-48c9-a3c1-7e7fe40c5193",
   "metadata": {},
   "outputs": [],
   "source": [
    "def train_sweep(config=None):\n",
    "    # Create random PRNG keys for training\n",
    "    init_rng = random.PRNGKey(0)\n",
    "    rng, subkey1, subkey2, subkey3 = random.split(init_rng, num=4)\n",
    "    \n",
    "    # Initialize a new wandb run\n",
    "    with wandb.init(config=config, dir=os.path.join(os.path.expanduser('~'),\n",
    "                                                    'PFGMPP/saved_models/toy')):\n",
    "        # If called by wandb.agent, as below,\n",
    "        # this config will be set by Sweep Controller\n",
    "        config = wandb.config\n",
    "        \n",
    "        # Generate dataset of 2D Gaussians\n",
    "        X = df.generate_data(config['gen_data_key'], config['size'])\n",
    "        \n",
    "        # Make the data suitable for a JAX Dataloader\n",
    "        train_dataset = df.JaxDataset(X=X)\n",
    "        train_loader = df.NumpyLoader(dataset=train_dataset,\n",
    "                                      batch_size=config['batch_size'],\n",
    "                                      shuffle=True)\n",
    "        batch = next(iter(train_loader))\n",
    "        \n",
    "        # Get the rng & model instantiated\n",
    "        model = march.ScoreNet(dim=config['N'],\n",
    "                               latent_dim=config['latent_dim'],\n",
    "                               std_data=config['std_data'])\n",
    "        \n",
    "        # Sample the noise distribution\n",
    "        rnd_normal = random.normal(subkey2, shape=(batch.shape[0], 1))\n",
    "        t = jnp.exp(rnd_normal * 1.2 - 1.2)  \n",
    "    \n",
    "    \n",
    "        # Initialize the models state\n",
    "        state = trm.init_train_state(model=model,\n",
    "                                     random_key=subkey3,\n",
    "                                     x_shape=batch.shape,\n",
    "                                     t_shape=t.shape,\n",
    "                                     learning_rate=config['learning_rate'])\n",
    "        \n",
    "        model, state = trm.train_model_sweep(train_loader,\n",
    "                                             model,\n",
    "                                             state,\n",
    "                                             config)"
   ]
  },
  {
   "cell_type": "code",
   "execution_count": null,
   "id": "f3a005b8-b837-4c9f-8fee-9ecc8326c17a",
   "metadata": {},
   "outputs": [
    {
     "name": "stderr",
     "output_type": "stream",
     "text": [
      "Failed to detect the name of this notebook, you can set it manually with the WANDB_NOTEBOOK_NAME environment variable to enable code saving.\n"
     ]
    },
    {
     "name": "stdout",
     "output_type": "stream",
     "text": [
      "Create sweep with ID: 0200zm40\n",
      "Sweep URL: https://wandb.ai/mdowicz/toy_pfgmpp/sweeps/0200zm40\n"
     ]
    },
    {
     "name": "stderr",
     "output_type": "stream",
     "text": [
      "\u001b[34m\u001b[1mwandb\u001b[0m: Agent Starting Run: ob43pt5u with config:\n",
      "\u001b[34m\u001b[1mwandb\u001b[0m: \tD: 1024\n",
      "\u001b[34m\u001b[1mwandb\u001b[0m: \tN: 2\n",
      "\u001b[34m\u001b[1mwandb\u001b[0m: \tbatch_size: 512\n",
      "\u001b[34m\u001b[1mwandb\u001b[0m: \tepochs: 50\n",
      "\u001b[34m\u001b[1mwandb\u001b[0m: \tgen_data_key: 21\n",
      "\u001b[34m\u001b[1mwandb\u001b[0m: \tlatent_dim: 128\n",
      "\u001b[34m\u001b[1mwandb\u001b[0m: \tlearning_rate: 0.001\n",
      "\u001b[34m\u001b[1mwandb\u001b[0m: \toptimizer: adam\n",
      "\u001b[34m\u001b[1mwandb\u001b[0m: \tsize: 6000\n",
      "\u001b[34m\u001b[1mwandb\u001b[0m: \tstd_data: 0.5\n",
      "\u001b[34m\u001b[1mwandb\u001b[0m: \ttrain_model_key: 47\n",
      "Failed to detect the name of this notebook, you can set it manually with the WANDB_NOTEBOOK_NAME environment variable to enable code saving.\n",
      "\u001b[34m\u001b[1mwandb\u001b[0m: Currently logged in as: \u001b[33mmdowicz\u001b[0m. Use \u001b[1m`wandb login --relogin`\u001b[0m to force relogin\n"
     ]
    },
    {
     "data": {
      "text/html": [
       "wandb version 0.15.7 is available!  To upgrade, please run:\n",
       " $ pip install wandb --upgrade"
      ],
      "text/plain": [
       "<IPython.core.display.HTML object>"
      ]
     },
     "metadata": {},
     "output_type": "display_data"
    },
    {
     "data": {
      "text/html": [
       "Tracking run with wandb version 0.15.5"
      ],
      "text/plain": [
       "<IPython.core.display.HTML object>"
      ]
     },
     "metadata": {},
     "output_type": "display_data"
    },
    {
     "data": {
      "text/html": [
       "Run data is saved locally in <code>/home/mdowicz/PFGMPP/saved_models/toy/wandb/run-20230731_104255-ob43pt5u</code>"
      ],
      "text/plain": [
       "<IPython.core.display.HTML object>"
      ]
     },
     "metadata": {},
     "output_type": "display_data"
    },
    {
     "data": {
      "text/html": [
       "Syncing run <strong><a href='https://wandb.ai/mdowicz/toy_pfgmpp/runs/ob43pt5u' target=\"_blank\">sage-sweep-1</a></strong> to <a href='https://wandb.ai/mdowicz/toy_pfgmpp' target=\"_blank\">Weights & Biases</a> (<a href='https://wandb.me/run' target=\"_blank\">docs</a>)<br/>Sweep page: <a href='https://wandb.ai/mdowicz/toy_pfgmpp/sweeps/0200zm40' target=\"_blank\">https://wandb.ai/mdowicz/toy_pfgmpp/sweeps/0200zm40</a>"
      ],
      "text/plain": [
       "<IPython.core.display.HTML object>"
      ]
     },
     "metadata": {},
     "output_type": "display_data"
    },
    {
     "data": {
      "text/html": [
       " View project at <a href='https://wandb.ai/mdowicz/toy_pfgmpp' target=\"_blank\">https://wandb.ai/mdowicz/toy_pfgmpp</a>"
      ],
      "text/plain": [
       "<IPython.core.display.HTML object>"
      ]
     },
     "metadata": {},
     "output_type": "display_data"
    },
    {
     "data": {
      "text/html": [
       " View sweep at <a href='https://wandb.ai/mdowicz/toy_pfgmpp/sweeps/0200zm40' target=\"_blank\">https://wandb.ai/mdowicz/toy_pfgmpp/sweeps/0200zm40</a>"
      ],
      "text/plain": [
       "<IPython.core.display.HTML object>"
      ]
     },
     "metadata": {},
     "output_type": "display_data"
    },
    {
     "data": {
      "text/html": [
       " View run at <a href='https://wandb.ai/mdowicz/toy_pfgmpp/runs/ob43pt5u' target=\"_blank\">https://wandb.ai/mdowicz/toy_pfgmpp/runs/ob43pt5u</a>"
      ],
      "text/plain": [
       "<IPython.core.display.HTML object>"
      ]
     },
     "metadata": {},
     "output_type": "display_data"
    },
    {
     "name": "stderr",
     "output_type": "stream",
     "text": [
      " 26%|██▌       | 13/50 [02:39<07:27, 12.10s/it]"
     ]
    }
   ],
   "source": [
    "sweep_id = wandb.sweep(sweep_config, project=\"toy_pfgmpp\")\n",
    "wandb.agent(sweep_id, train_sweep, count=20)"
   ]
  }
 ],
 "metadata": {
  "kernelspec": {
   "display_name": "Python 3",
   "language": "python",
   "name": "python3"
  },
  "language_info": {
   "codemirror_mode": {
    "name": "ipython",
    "version": 3
   },
   "file_extension": ".py",
   "mimetype": "text/x-python",
   "name": "python",
   "nbconvert_exporter": "python",
   "pygments_lexer": "ipython3",
   "version": "3.8.13"
  }
 },
 "nbformat": 4,
 "nbformat_minor": 5
}
