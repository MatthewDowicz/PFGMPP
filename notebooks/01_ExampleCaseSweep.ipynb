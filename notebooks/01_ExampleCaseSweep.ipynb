{
 "cells": [
  {
   "cell_type": "code",
   "execution_count": 1,
   "id": "752a774d-47fe-4bd1-8bf6-586e6e118e21",
   "metadata": {},
   "outputs": [],
   "source": [
    "import os\n",
    "os.environ[\"CUDA_VISIBLE_DEVICES\"] = \"1\"\n",
    "from typing import Any, Sequence, Optional, Tuple, Iterator, Dict, Callable, Union, Type, List\n",
    "import numpy as np\n",
    "import matplotlib.pyplot as plt\n",
    "import pprint\n",
    "\n",
    "# Changing fonts to be latex typesetting\n",
    "from matplotlib import rcParams\n",
    "rcParams['mathtext.fontset'] = 'dejavuserif'\n",
    "rcParams['font.family'] = 'serif'\n",
    "\n",
    "# JAX/Flax\n",
    "import jax\n",
    "import jax.numpy as jnp\n",
    "from jax import random\n",
    "import wandb\n",
    "\n",
    "from visualization import visualize as vis\n",
    "from data import data_functions as df\n",
    "from models import model_architecture as march\n",
    "from models import train_model as trm\n",
    "from models import generate_model as gen"
   ]
  },
  {
   "cell_type": "code",
   "execution_count": 10,
   "id": "753e0574-e5b8-45a7-9fce-9b564921ed40",
   "metadata": {},
   "outputs": [
    {
     "name": "stdout",
     "output_type": "stream",
     "text": [
      "{'method': 'random',\n",
      " 'metric': {'goal': 'minimize', 'name': 'Loss'},\n",
      " 'parameters': {'D': {'values': [100, 1000, 2000, 4000]},\n",
      "                'N': {'value': 2},\n",
      "                'batch_size': {'values': [64, 128, 256]},\n",
      "                'depth': {'values': [2, 3, 4, 5, 6]},\n",
      "                'embedding_dim': {'values': [32, 64, 128, 256]},\n",
      "                'epochs': {'value': 30},\n",
      "                'gen_data_key': {'value': 21},\n",
      "                'initial_feature': {'values': [16, 32, 64, 128, 256]},\n",
      "                'learning_rate': {'values': [0.001, 0.0001, 1e-05]},\n",
      "                'optimizer': {'value': 'adam'},\n",
      "                'out_feature': {'value': 2},\n",
      "                'size': {'values': [2000, 4000]},\n",
      "                'std_data': {'value': 0.5},\n",
      "                'train_model_key': {'value': 47}}}\n"
     ]
    }
   ],
   "source": [
    "sweep_config = {\n",
    "    'method': 'random',\n",
    "    'metric': {\n",
    "        'name': 'Loss',\n",
    "        'goal': 'minimize'\n",
    "    },\n",
    "    'parameters': {\n",
    "        'optimizer': {\n",
    "            'value': 'adam'\n",
    "        },\n",
    "        'embedding_dim': {\n",
    "            'values': [32, 64, 128, 256]\n",
    "        },\n",
    "        'epochs': {\n",
    "            'value': 30\n",
    "        },\n",
    "        'batch_size': {\n",
    "            'values': [64, 128, 256]\n",
    "        },\n",
    "        'learning_rate': {\n",
    "            'values': [1e-3, 1e-4, 1e-5]\n",
    "        },\n",
    "        'N': {\n",
    "            'value': 2\n",
    "        },\n",
    "        'D': {\n",
    "            'values': [100, 1000, 2000, 4000]\n",
    "        },\n",
    "        'std_data': {\n",
    "            'value': 0.5\n",
    "        },\n",
    "        'depth': {\n",
    "            'values': [2, 3, 4, 5, 6]\n",
    "        },\n",
    "        'initial_feature': {\n",
    "            'values': [16, 32, 64, 128, 256]\n",
    "        },\n",
    "        'out_feature': {\n",
    "            'value': 2\n",
    "        },\n",
    "        'size': {\n",
    "            'values': [2000, 4000]\n",
    "        },\n",
    "        'gen_data_key': {\n",
    "            'value': 21\n",
    "        },\n",
    "        'train_model_key': {\n",
    "            'value': 47\n",
    "        }\n",
    "    }\n",
    "}\n",
    "\n",
    "pprint.pprint(sweep_config)"
   ]
  },
  {
   "cell_type": "code",
   "execution_count": 11,
   "id": "8214b961-a0a0-48c9-a3c1-7e7fe40c5193",
   "metadata": {},
   "outputs": [],
   "source": [
    "def train_sweep(config=None):\n",
    "    # Create random PRNG keys for training\n",
    "    init_rng = random.PRNGKey(0)\n",
    "    rng, subkey1, subkey2, subkey3 = random.split(init_rng, num=4)\n",
    "\n",
    "    # Get the current directory (notebooks directory in your case)\n",
    "    current_dir = os.getcwd()\n",
    "    # Move up one level to the parent directory (PFGMPP)\n",
    "    parent_dir = os.path.dirname(current_dir)\n",
    "    # Construct the wandb directory path\n",
    "    wandb_dir = os.path.join(parent_dir, 'wandb')\n",
    "    \n",
    "    # Initialize a new wandb run\n",
    "    with wandb.init(config=config, dir=wandb_dir):\n",
    "        # If called by wandb.agent, as below,\n",
    "        # this config will be set by Sweep Controller\n",
    "        config = wandb.config\n",
    "        \n",
    "        # Generate dataset of 2D Gaussians\n",
    "        X = df.generate_data(config['gen_data_key'], config['size'])\n",
    "        \n",
    "        # Make the data suitable for a JAX Dataloader\n",
    "        train_dataset = df.JaxDataset(X=X)\n",
    "        train_loader = df.NumpyLoader(dataset=train_dataset,\n",
    "                                      batch_size=config['batch_size'],\n",
    "                                      shuffle=True)\n",
    "        batch = next(iter(train_loader))\n",
    "        \n",
    "        # Get the rng & model instantiated\n",
    "        model = march.UNet(depth=config['depth'],\n",
    "                           initial_feature=config['initial_feature'],\n",
    "                           std_data=config['std_data'],\n",
    "                           out_feature=config['out_feature'],\n",
    "                           embedding_dim=config['embedding_dim'])\n",
    "        \n",
    "        # Sample the noise distribution\n",
    "        rnd_normal = random.normal(subkey2, shape=(batch.shape[0], 1))\n",
    "        t = jnp.exp(rnd_normal * 1.2 - 1.2)  \n",
    "    \n",
    "    \n",
    "        # Initialize the models state\n",
    "        state = trm.init_train_state(model=model,\n",
    "                                     random_key=subkey3,\n",
    "                                     x_shape=batch.shape,\n",
    "                                     t_shape=t.shape,\n",
    "                                     learning_rate=config['learning_rate'])\n",
    "        \n",
    "        model, state = trm.train_model_sweep(train_loader,\n",
    "                                             model,\n",
    "                                             state,\n",
    "                                             config)\n",
    "\n",
    "        del state\n",
    "        del model\n",
    "        del train_dataset\n",
    "        del train_loader\n",
    "        del X\n",
    "        del t \n",
    "        del batch\n",
    "        wandb.finish()"
   ]
  },
  {
   "cell_type": "code",
   "execution_count": 12,
   "id": "f3a005b8-b837-4c9f-8fee-9ecc8326c17a",
   "metadata": {},
   "outputs": [
    {
     "name": "stdout",
     "output_type": "stream",
     "text": [
      "Create sweep with ID: 2vch61jw\n",
      "Sweep URL: https://wandb.ai/mdowicz/toy_pfgmpp/sweeps/2vch61jw\n"
     ]
    },
    {
     "name": "stderr",
     "output_type": "stream",
     "text": [
      "\u001b[34m\u001b[1mwandb\u001b[0m: Agent Starting Run: 42ig95xw with config:\n",
      "\u001b[34m\u001b[1mwandb\u001b[0m: \tD: 100\n",
      "\u001b[34m\u001b[1mwandb\u001b[0m: \tN: 2\n",
      "\u001b[34m\u001b[1mwandb\u001b[0m: \tbatch_size: 256\n",
      "\u001b[34m\u001b[1mwandb\u001b[0m: \tdepth: 5\n",
      "\u001b[34m\u001b[1mwandb\u001b[0m: \tembedding_dim: 128\n",
      "\u001b[34m\u001b[1mwandb\u001b[0m: \tepochs: 30\n",
      "\u001b[34m\u001b[1mwandb\u001b[0m: \tgen_data_key: 21\n",
      "\u001b[34m\u001b[1mwandb\u001b[0m: \tinitial_feature: 256\n",
      "\u001b[34m\u001b[1mwandb\u001b[0m: \tlearning_rate: 1e-05\n",
      "\u001b[34m\u001b[1mwandb\u001b[0m: \toptimizer: adam\n",
      "\u001b[34m\u001b[1mwandb\u001b[0m: \tout_feature: 2\n",
      "\u001b[34m\u001b[1mwandb\u001b[0m: \tsize: 2000\n",
      "\u001b[34m\u001b[1mwandb\u001b[0m: \tstd_data: 0.5\n",
      "\u001b[34m\u001b[1mwandb\u001b[0m: \ttrain_model_key: 47\n",
      "Failed to detect the name of this notebook, you can set it manually with the WANDB_NOTEBOOK_NAME environment variable to enable code saving.\n"
     ]
    },
    {
     "data": {
      "text/html": [
       "wandb version 0.15.8 is available!  To upgrade, please run:\n",
       " $ pip install wandb --upgrade"
      ],
      "text/plain": [
       "<IPython.core.display.HTML object>"
      ]
     },
     "metadata": {},
     "output_type": "display_data"
    },
    {
     "data": {
      "text/html": [
       "Tracking run with wandb version 0.15.5"
      ],
      "text/plain": [
       "<IPython.core.display.HTML object>"
      ]
     },
     "metadata": {},
     "output_type": "display_data"
    },
    {
     "data": {
      "text/html": [
       "Run data is saved locally in <code>/home/mdowicz/PFGMPP/wandb/wandb/run-20230809_095113-42ig95xw</code>"
      ],
      "text/plain": [
       "<IPython.core.display.HTML object>"
      ]
     },
     "metadata": {},
     "output_type": "display_data"
    },
    {
     "data": {
      "text/html": [
       "Syncing run <strong><a href='https://wandb.ai/mdowicz/toy_pfgmpp/runs/42ig95xw' target=\"_blank\">pleasant-sweep-1</a></strong> to <a href='https://wandb.ai/mdowicz/toy_pfgmpp' target=\"_blank\">Weights & Biases</a> (<a href='https://wandb.me/run' target=\"_blank\">docs</a>)<br/>Sweep page: <a href='https://wandb.ai/mdowicz/toy_pfgmpp/sweeps/2vch61jw' target=\"_blank\">https://wandb.ai/mdowicz/toy_pfgmpp/sweeps/2vch61jw</a>"
      ],
      "text/plain": [
       "<IPython.core.display.HTML object>"
      ]
     },
     "metadata": {},
     "output_type": "display_data"
    },
    {
     "data": {
      "text/html": [
       " View project at <a href='https://wandb.ai/mdowicz/toy_pfgmpp' target=\"_blank\">https://wandb.ai/mdowicz/toy_pfgmpp</a>"
      ],
      "text/plain": [
       "<IPython.core.display.HTML object>"
      ]
     },
     "metadata": {},
     "output_type": "display_data"
    },
    {
     "data": {
      "text/html": [
       " View sweep at <a href='https://wandb.ai/mdowicz/toy_pfgmpp/sweeps/2vch61jw' target=\"_blank\">https://wandb.ai/mdowicz/toy_pfgmpp/sweeps/2vch61jw</a>"
      ],
      "text/plain": [
       "<IPython.core.display.HTML object>"
      ]
     },
     "metadata": {},
     "output_type": "display_data"
    },
    {
     "data": {
      "text/html": [
       " View run at <a href='https://wandb.ai/mdowicz/toy_pfgmpp/runs/42ig95xw' target=\"_blank\">https://wandb.ai/mdowicz/toy_pfgmpp/runs/42ig95xw</a>"
      ],
      "text/plain": [
       "<IPython.core.display.HTML object>"
      ]
     },
     "metadata": {},
     "output_type": "display_data"
    },
    {
     "name": "stderr",
     "output_type": "stream",
     "text": [
      "100%|██████████| 30/30 [02:19<00:00,  4.66s/it]\n"
     ]
    },
    {
     "data": {
      "text/html": [
       "Waiting for W&B process to finish... <strong style=\"color:green\">(success).</strong>"
      ],
      "text/plain": [
       "<IPython.core.display.HTML object>"
      ]
     },
     "metadata": {},
     "output_type": "display_data"
    },
    {
     "data": {
      "text/html": [
       "<style>\n",
       "    table.wandb td:nth-child(1) { padding: 0 10px; text-align: left ; width: auto;} td:nth-child(2) {text-align: left ; width: 100%}\n",
       "    .wandb-row { display: flex; flex-direction: row; flex-wrap: wrap; justify-content: flex-start; width: 100% }\n",
       "    .wandb-col { display: flex; flex-direction: column; flex-basis: 100%; flex: 1; padding: 10px; }\n",
       "    </style>\n",
       "<div class=\"wandb-row\"><div class=\"wandb-col\"><h3>Run history:</h3><br/><table class=\"wandb\"><tr><td>Train Loss</td><td>███▇▆▆▅▄▃▂▂▂▁▂▁▁▁▁▁▁▁▁▁▁▁▁▁▁▁▁</td></tr></table><br/></div><div class=\"wandb-col\"><h3>Run summary:</h3><br/><table class=\"wandb\"><tr><td>Train Loss</td><td>22.62677</td></tr></table><br/></div></div>"
      ],
      "text/plain": [
       "<IPython.core.display.HTML object>"
      ]
     },
     "metadata": {},
     "output_type": "display_data"
    },
    {
     "data": {
      "text/html": [
       " View run <strong style=\"color:#cdcd00\">pleasant-sweep-1</strong> at: <a href='https://wandb.ai/mdowicz/toy_pfgmpp/runs/42ig95xw' target=\"_blank\">https://wandb.ai/mdowicz/toy_pfgmpp/runs/42ig95xw</a><br/>Synced 6 W&B file(s), 0 media file(s), 0 artifact file(s) and 0 other file(s)"
      ],
      "text/plain": [
       "<IPython.core.display.HTML object>"
      ]
     },
     "metadata": {},
     "output_type": "display_data"
    },
    {
     "data": {
      "text/html": [
       "Find logs at: <code>/home/mdowicz/PFGMPP/wandb/wandb/run-20230809_095113-42ig95xw/logs</code>"
      ],
      "text/plain": [
       "<IPython.core.display.HTML object>"
      ]
     },
     "metadata": {},
     "output_type": "display_data"
    },
    {
     "name": "stderr",
     "output_type": "stream",
     "text": [
      "\u001b[34m\u001b[1mwandb\u001b[0m: Agent Starting Run: nx9amuel with config:\n",
      "\u001b[34m\u001b[1mwandb\u001b[0m: \tD: 4000\n",
      "\u001b[34m\u001b[1mwandb\u001b[0m: \tN: 2\n",
      "\u001b[34m\u001b[1mwandb\u001b[0m: \tbatch_size: 64\n",
      "\u001b[34m\u001b[1mwandb\u001b[0m: \tdepth: 3\n",
      "\u001b[34m\u001b[1mwandb\u001b[0m: \tembedding_dim: 32\n",
      "\u001b[34m\u001b[1mwandb\u001b[0m: \tepochs: 30\n",
      "\u001b[34m\u001b[1mwandb\u001b[0m: \tgen_data_key: 21\n",
      "\u001b[34m\u001b[1mwandb\u001b[0m: \tinitial_feature: 64\n",
      "\u001b[34m\u001b[1mwandb\u001b[0m: \tlearning_rate: 0.001\n",
      "\u001b[34m\u001b[1mwandb\u001b[0m: \toptimizer: adam\n",
      "\u001b[34m\u001b[1mwandb\u001b[0m: \tout_feature: 2\n",
      "\u001b[34m\u001b[1mwandb\u001b[0m: \tsize: 4000\n",
      "\u001b[34m\u001b[1mwandb\u001b[0m: \tstd_data: 0.5\n",
      "\u001b[34m\u001b[1mwandb\u001b[0m: \ttrain_model_key: 47\n",
      "Failed to detect the name of this notebook, you can set it manually with the WANDB_NOTEBOOK_NAME environment variable to enable code saving.\n"
     ]
    },
    {
     "data": {
      "text/html": [
       "wandb version 0.15.8 is available!  To upgrade, please run:\n",
       " $ pip install wandb --upgrade"
      ],
      "text/plain": [
       "<IPython.core.display.HTML object>"
      ]
     },
     "metadata": {},
     "output_type": "display_data"
    },
    {
     "data": {
      "text/html": [
       "Tracking run with wandb version 0.15.5"
      ],
      "text/plain": [
       "<IPython.core.display.HTML object>"
      ]
     },
     "metadata": {},
     "output_type": "display_data"
    },
    {
     "data": {
      "text/html": [
       "Run data is saved locally in <code>/home/mdowicz/PFGMPP/wandb/wandb/run-20230809_095350-nx9amuel</code>"
      ],
      "text/plain": [
       "<IPython.core.display.HTML object>"
      ]
     },
     "metadata": {},
     "output_type": "display_data"
    },
    {
     "data": {
      "text/html": [
       "Syncing run <strong><a href='https://wandb.ai/mdowicz/toy_pfgmpp/runs/nx9amuel' target=\"_blank\">resilient-sweep-2</a></strong> to <a href='https://wandb.ai/mdowicz/toy_pfgmpp' target=\"_blank\">Weights & Biases</a> (<a href='https://wandb.me/run' target=\"_blank\">docs</a>)<br/>Sweep page: <a href='https://wandb.ai/mdowicz/toy_pfgmpp/sweeps/2vch61jw' target=\"_blank\">https://wandb.ai/mdowicz/toy_pfgmpp/sweeps/2vch61jw</a>"
      ],
      "text/plain": [
       "<IPython.core.display.HTML object>"
      ]
     },
     "metadata": {},
     "output_type": "display_data"
    },
    {
     "data": {
      "text/html": [
       " View project at <a href='https://wandb.ai/mdowicz/toy_pfgmpp' target=\"_blank\">https://wandb.ai/mdowicz/toy_pfgmpp</a>"
      ],
      "text/plain": [
       "<IPython.core.display.HTML object>"
      ]
     },
     "metadata": {},
     "output_type": "display_data"
    },
    {
     "data": {
      "text/html": [
       " View sweep at <a href='https://wandb.ai/mdowicz/toy_pfgmpp/sweeps/2vch61jw' target=\"_blank\">https://wandb.ai/mdowicz/toy_pfgmpp/sweeps/2vch61jw</a>"
      ],
      "text/plain": [
       "<IPython.core.display.HTML object>"
      ]
     },
     "metadata": {},
     "output_type": "display_data"
    },
    {
     "data": {
      "text/html": [
       " View run at <a href='https://wandb.ai/mdowicz/toy_pfgmpp/runs/nx9amuel' target=\"_blank\">https://wandb.ai/mdowicz/toy_pfgmpp/runs/nx9amuel</a>"
      ],
      "text/plain": [
       "<IPython.core.display.HTML object>"
      ]
     },
     "metadata": {},
     "output_type": "display_data"
    },
    {
     "name": "stderr",
     "output_type": "stream",
     "text": [
      "100%|██████████| 30/30 [04:14<00:00,  8.48s/it]\n"
     ]
    },
    {
     "data": {
      "text/html": [
       "Waiting for W&B process to finish... <strong style=\"color:green\">(success).</strong>"
      ],
      "text/plain": [
       "<IPython.core.display.HTML object>"
      ]
     },
     "metadata": {},
     "output_type": "display_data"
    },
    {
     "data": {
      "text/html": [
       "<style>\n",
       "    table.wandb td:nth-child(1) { padding: 0 10px; text-align: left ; width: auto;} td:nth-child(2) {text-align: left ; width: 100%}\n",
       "    .wandb-row { display: flex; flex-direction: row; flex-wrap: wrap; justify-content: flex-start; width: 100% }\n",
       "    .wandb-col { display: flex; flex-direction: column; flex-basis: 100%; flex: 1; padding: 10px; }\n",
       "    </style>\n",
       "<div class=\"wandb-row\"><div class=\"wandb-col\"><h3>Run history:</h3><br/><table class=\"wandb\"><tr><td>Train Loss</td><td>█▁▁▁▁▁▁▁▁▁▁▁▁▁▁▁▁▁▁▁▁▁▁▁▁▁▁▁▁▁</td></tr></table><br/></div><div class=\"wandb-col\"><h3>Run summary:</h3><br/><table class=\"wandb\"><tr><td>Train Loss</td><td>1.01083</td></tr></table><br/></div></div>"
      ],
      "text/plain": [
       "<IPython.core.display.HTML object>"
      ]
     },
     "metadata": {},
     "output_type": "display_data"
    },
    {
     "data": {
      "text/html": [
       " View run <strong style=\"color:#cdcd00\">resilient-sweep-2</strong> at: <a href='https://wandb.ai/mdowicz/toy_pfgmpp/runs/nx9amuel' target=\"_blank\">https://wandb.ai/mdowicz/toy_pfgmpp/runs/nx9amuel</a><br/>Synced 6 W&B file(s), 0 media file(s), 0 artifact file(s) and 0 other file(s)"
      ],
      "text/plain": [
       "<IPython.core.display.HTML object>"
      ]
     },
     "metadata": {},
     "output_type": "display_data"
    },
    {
     "data": {
      "text/html": [
       "Find logs at: <code>/home/mdowicz/PFGMPP/wandb/wandb/run-20230809_095350-nx9amuel/logs</code>"
      ],
      "text/plain": [
       "<IPython.core.display.HTML object>"
      ]
     },
     "metadata": {},
     "output_type": "display_data"
    },
    {
     "name": "stderr",
     "output_type": "stream",
     "text": [
      "\u001b[34m\u001b[1mwandb\u001b[0m: Agent Starting Run: 1021nxn6 with config:\n",
      "\u001b[34m\u001b[1mwandb\u001b[0m: \tD: 1000\n",
      "\u001b[34m\u001b[1mwandb\u001b[0m: \tN: 2\n",
      "\u001b[34m\u001b[1mwandb\u001b[0m: \tbatch_size: 256\n",
      "\u001b[34m\u001b[1mwandb\u001b[0m: \tdepth: 6\n",
      "\u001b[34m\u001b[1mwandb\u001b[0m: \tembedding_dim: 256\n",
      "\u001b[34m\u001b[1mwandb\u001b[0m: \tepochs: 30\n",
      "\u001b[34m\u001b[1mwandb\u001b[0m: \tgen_data_key: 21\n",
      "\u001b[34m\u001b[1mwandb\u001b[0m: \tinitial_feature: 128\n",
      "\u001b[34m\u001b[1mwandb\u001b[0m: \tlearning_rate: 0.0001\n",
      "\u001b[34m\u001b[1mwandb\u001b[0m: \toptimizer: adam\n",
      "\u001b[34m\u001b[1mwandb\u001b[0m: \tout_feature: 2\n",
      "\u001b[34m\u001b[1mwandb\u001b[0m: \tsize: 2000\n",
      "\u001b[34m\u001b[1mwandb\u001b[0m: \tstd_data: 0.5\n",
      "\u001b[34m\u001b[1mwandb\u001b[0m: \ttrain_model_key: 47\n",
      "Failed to detect the name of this notebook, you can set it manually with the WANDB_NOTEBOOK_NAME environment variable to enable code saving.\n"
     ]
    },
    {
     "data": {
      "text/html": [
       "wandb version 0.15.8 is available!  To upgrade, please run:\n",
       " $ pip install wandb --upgrade"
      ],
      "text/plain": [
       "<IPython.core.display.HTML object>"
      ]
     },
     "metadata": {},
     "output_type": "display_data"
    },
    {
     "data": {
      "text/html": [
       "Tracking run with wandb version 0.15.5"
      ],
      "text/plain": [
       "<IPython.core.display.HTML object>"
      ]
     },
     "metadata": {},
     "output_type": "display_data"
    },
    {
     "data": {
      "text/html": [
       "Run data is saved locally in <code>/home/mdowicz/PFGMPP/wandb/wandb/run-20230809_095820-1021nxn6</code>"
      ],
      "text/plain": [
       "<IPython.core.display.HTML object>"
      ]
     },
     "metadata": {},
     "output_type": "display_data"
    },
    {
     "data": {
      "text/html": [
       "Syncing run <strong><a href='https://wandb.ai/mdowicz/toy_pfgmpp/runs/1021nxn6' target=\"_blank\">crisp-sweep-3</a></strong> to <a href='https://wandb.ai/mdowicz/toy_pfgmpp' target=\"_blank\">Weights & Biases</a> (<a href='https://wandb.me/run' target=\"_blank\">docs</a>)<br/>Sweep page: <a href='https://wandb.ai/mdowicz/toy_pfgmpp/sweeps/2vch61jw' target=\"_blank\">https://wandb.ai/mdowicz/toy_pfgmpp/sweeps/2vch61jw</a>"
      ],
      "text/plain": [
       "<IPython.core.display.HTML object>"
      ]
     },
     "metadata": {},
     "output_type": "display_data"
    },
    {
     "data": {
      "text/html": [
       " View project at <a href='https://wandb.ai/mdowicz/toy_pfgmpp' target=\"_blank\">https://wandb.ai/mdowicz/toy_pfgmpp</a>"
      ],
      "text/plain": [
       "<IPython.core.display.HTML object>"
      ]
     },
     "metadata": {},
     "output_type": "display_data"
    },
    {
     "data": {
      "text/html": [
       " View sweep at <a href='https://wandb.ai/mdowicz/toy_pfgmpp/sweeps/2vch61jw' target=\"_blank\">https://wandb.ai/mdowicz/toy_pfgmpp/sweeps/2vch61jw</a>"
      ],
      "text/plain": [
       "<IPython.core.display.HTML object>"
      ]
     },
     "metadata": {},
     "output_type": "display_data"
    },
    {
     "data": {
      "text/html": [
       " View run at <a href='https://wandb.ai/mdowicz/toy_pfgmpp/runs/1021nxn6' target=\"_blank\">https://wandb.ai/mdowicz/toy_pfgmpp/runs/1021nxn6</a>"
      ],
      "text/plain": [
       "<IPython.core.display.HTML object>"
      ]
     },
     "metadata": {},
     "output_type": "display_data"
    },
    {
     "name": "stderr",
     "output_type": "stream",
     "text": [
      "100%|██████████| 30/30 [02:20<00:00,  4.69s/it]\n"
     ]
    },
    {
     "data": {
      "text/html": [
       "Waiting for W&B process to finish... <strong style=\"color:green\">(success).</strong>"
      ],
      "text/plain": [
       "<IPython.core.display.HTML object>"
      ]
     },
     "metadata": {},
     "output_type": "display_data"
    },
    {
     "data": {
      "text/html": [
       "<style>\n",
       "    table.wandb td:nth-child(1) { padding: 0 10px; text-align: left ; width: auto;} td:nth-child(2) {text-align: left ; width: 100%}\n",
       "    .wandb-row { display: flex; flex-direction: row; flex-wrap: wrap; justify-content: flex-start; width: 100% }\n",
       "    .wandb-col { display: flex; flex-direction: column; flex-basis: 100%; flex: 1; padding: 10px; }\n",
       "    </style>\n",
       "<div class=\"wandb-row\"><div class=\"wandb-col\"><h3>Run history:</h3><br/><table class=\"wandb\"><tr><td>Train Loss</td><td>██▆▆▆▅█▇▆▅▄▄▃▂▁▁▁▁▁▁▁▂▁▁▁▁▁▁▁▁</td></tr></table><br/></div><div class=\"wandb-col\"><h3>Run summary:</h3><br/><table class=\"wandb\"><tr><td>Train Loss</td><td>10.96415</td></tr></table><br/></div></div>"
      ],
      "text/plain": [
       "<IPython.core.display.HTML object>"
      ]
     },
     "metadata": {},
     "output_type": "display_data"
    },
    {
     "data": {
      "text/html": [
       " View run <strong style=\"color:#cdcd00\">crisp-sweep-3</strong> at: <a href='https://wandb.ai/mdowicz/toy_pfgmpp/runs/1021nxn6' target=\"_blank\">https://wandb.ai/mdowicz/toy_pfgmpp/runs/1021nxn6</a><br/>Synced 6 W&B file(s), 0 media file(s), 0 artifact file(s) and 0 other file(s)"
      ],
      "text/plain": [
       "<IPython.core.display.HTML object>"
      ]
     },
     "metadata": {},
     "output_type": "display_data"
    },
    {
     "data": {
      "text/html": [
       "Find logs at: <code>/home/mdowicz/PFGMPP/wandb/wandb/run-20230809_095820-1021nxn6/logs</code>"
      ],
      "text/plain": [
       "<IPython.core.display.HTML object>"
      ]
     },
     "metadata": {},
     "output_type": "display_data"
    },
    {
     "name": "stderr",
     "output_type": "stream",
     "text": [
      "\u001b[34m\u001b[1mwandb\u001b[0m: Agent Starting Run: lbkta4jw with config:\n",
      "\u001b[34m\u001b[1mwandb\u001b[0m: \tD: 100\n",
      "\u001b[34m\u001b[1mwandb\u001b[0m: \tN: 2\n",
      "\u001b[34m\u001b[1mwandb\u001b[0m: \tbatch_size: 256\n",
      "\u001b[34m\u001b[1mwandb\u001b[0m: \tdepth: 6\n",
      "\u001b[34m\u001b[1mwandb\u001b[0m: \tembedding_dim: 256\n",
      "\u001b[34m\u001b[1mwandb\u001b[0m: \tepochs: 30\n",
      "\u001b[34m\u001b[1mwandb\u001b[0m: \tgen_data_key: 21\n",
      "\u001b[34m\u001b[1mwandb\u001b[0m: \tinitial_feature: 16\n",
      "\u001b[34m\u001b[1mwandb\u001b[0m: \tlearning_rate: 0.0001\n",
      "\u001b[34m\u001b[1mwandb\u001b[0m: \toptimizer: adam\n",
      "\u001b[34m\u001b[1mwandb\u001b[0m: \tout_feature: 2\n",
      "\u001b[34m\u001b[1mwandb\u001b[0m: \tsize: 2000\n",
      "\u001b[34m\u001b[1mwandb\u001b[0m: \tstd_data: 0.5\n",
      "\u001b[34m\u001b[1mwandb\u001b[0m: \ttrain_model_key: 47\n",
      "Failed to detect the name of this notebook, you can set it manually with the WANDB_NOTEBOOK_NAME environment variable to enable code saving.\n"
     ]
    },
    {
     "data": {
      "text/html": [
       "wandb version 0.15.8 is available!  To upgrade, please run:\n",
       " $ pip install wandb --upgrade"
      ],
      "text/plain": [
       "<IPython.core.display.HTML object>"
      ]
     },
     "metadata": {},
     "output_type": "display_data"
    },
    {
     "data": {
      "text/html": [
       "Tracking run with wandb version 0.15.5"
      ],
      "text/plain": [
       "<IPython.core.display.HTML object>"
      ]
     },
     "metadata": {},
     "output_type": "display_data"
    },
    {
     "data": {
      "text/html": [
       "Run data is saved locally in <code>/home/mdowicz/PFGMPP/wandb/wandb/run-20230809_100053-lbkta4jw</code>"
      ],
      "text/plain": [
       "<IPython.core.display.HTML object>"
      ]
     },
     "metadata": {},
     "output_type": "display_data"
    },
    {
     "data": {
      "text/html": [
       "Syncing run <strong><a href='https://wandb.ai/mdowicz/toy_pfgmpp/runs/lbkta4jw' target=\"_blank\">curious-sweep-4</a></strong> to <a href='https://wandb.ai/mdowicz/toy_pfgmpp' target=\"_blank\">Weights & Biases</a> (<a href='https://wandb.me/run' target=\"_blank\">docs</a>)<br/>Sweep page: <a href='https://wandb.ai/mdowicz/toy_pfgmpp/sweeps/2vch61jw' target=\"_blank\">https://wandb.ai/mdowicz/toy_pfgmpp/sweeps/2vch61jw</a>"
      ],
      "text/plain": [
       "<IPython.core.display.HTML object>"
      ]
     },
     "metadata": {},
     "output_type": "display_data"
    },
    {
     "data": {
      "text/html": [
       " View project at <a href='https://wandb.ai/mdowicz/toy_pfgmpp' target=\"_blank\">https://wandb.ai/mdowicz/toy_pfgmpp</a>"
      ],
      "text/plain": [
       "<IPython.core.display.HTML object>"
      ]
     },
     "metadata": {},
     "output_type": "display_data"
    },
    {
     "data": {
      "text/html": [
       " View sweep at <a href='https://wandb.ai/mdowicz/toy_pfgmpp/sweeps/2vch61jw' target=\"_blank\">https://wandb.ai/mdowicz/toy_pfgmpp/sweeps/2vch61jw</a>"
      ],
      "text/plain": [
       "<IPython.core.display.HTML object>"
      ]
     },
     "metadata": {},
     "output_type": "display_data"
    },
    {
     "data": {
      "text/html": [
       " View run at <a href='https://wandb.ai/mdowicz/toy_pfgmpp/runs/lbkta4jw' target=\"_blank\">https://wandb.ai/mdowicz/toy_pfgmpp/runs/lbkta4jw</a>"
      ],
      "text/plain": [
       "<IPython.core.display.HTML object>"
      ]
     },
     "metadata": {},
     "output_type": "display_data"
    },
    {
     "name": "stderr",
     "output_type": "stream",
     "text": [
      "100%|██████████| 30/30 [02:10<00:00,  4.33s/it]\n"
     ]
    },
    {
     "data": {
      "text/html": [
       "Waiting for W&B process to finish... <strong style=\"color:green\">(success).</strong>"
      ],
      "text/plain": [
       "<IPython.core.display.HTML object>"
      ]
     },
     "metadata": {},
     "output_type": "display_data"
    },
    {
     "data": {
      "text/html": [
       "<style>\n",
       "    table.wandb td:nth-child(1) { padding: 0 10px; text-align: left ; width: auto;} td:nth-child(2) {text-align: left ; width: 100%}\n",
       "    .wandb-row { display: flex; flex-direction: row; flex-wrap: wrap; justify-content: flex-start; width: 100% }\n",
       "    .wandb-col { display: flex; flex-direction: column; flex-basis: 100%; flex: 1; padding: 10px; }\n",
       "    </style>\n",
       "<div class=\"wandb-row\"><div class=\"wandb-col\"><h3>Run history:</h3><br/><table class=\"wandb\"><tr><td>Train Loss</td><td>██████▇▆▅▄▃▂▂▂▂▂▂▂▁▁▁▁▁▁▁▁▁▁▁▁</td></tr></table><br/></div><div class=\"wandb-col\"><h3>Run summary:</h3><br/><table class=\"wandb\"><tr><td>Train Loss</td><td>22.93505</td></tr></table><br/></div></div>"
      ],
      "text/plain": [
       "<IPython.core.display.HTML object>"
      ]
     },
     "metadata": {},
     "output_type": "display_data"
    },
    {
     "data": {
      "text/html": [
       " View run <strong style=\"color:#cdcd00\">curious-sweep-4</strong> at: <a href='https://wandb.ai/mdowicz/toy_pfgmpp/runs/lbkta4jw' target=\"_blank\">https://wandb.ai/mdowicz/toy_pfgmpp/runs/lbkta4jw</a><br/>Synced 6 W&B file(s), 0 media file(s), 0 artifact file(s) and 0 other file(s)"
      ],
      "text/plain": [
       "<IPython.core.display.HTML object>"
      ]
     },
     "metadata": {},
     "output_type": "display_data"
    },
    {
     "data": {
      "text/html": [
       "Find logs at: <code>/home/mdowicz/PFGMPP/wandb/wandb/run-20230809_100053-lbkta4jw/logs</code>"
      ],
      "text/plain": [
       "<IPython.core.display.HTML object>"
      ]
     },
     "metadata": {},
     "output_type": "display_data"
    },
    {
     "name": "stderr",
     "output_type": "stream",
     "text": [
      "\u001b[34m\u001b[1mwandb\u001b[0m: Agent Starting Run: y7u7ygbm with config:\n",
      "\u001b[34m\u001b[1mwandb\u001b[0m: \tD: 1000\n",
      "\u001b[34m\u001b[1mwandb\u001b[0m: \tN: 2\n",
      "\u001b[34m\u001b[1mwandb\u001b[0m: \tbatch_size: 64\n",
      "\u001b[34m\u001b[1mwandb\u001b[0m: \tdepth: 4\n",
      "\u001b[34m\u001b[1mwandb\u001b[0m: \tembedding_dim: 256\n",
      "\u001b[34m\u001b[1mwandb\u001b[0m: \tepochs: 30\n",
      "\u001b[34m\u001b[1mwandb\u001b[0m: \tgen_data_key: 21\n",
      "\u001b[34m\u001b[1mwandb\u001b[0m: \tinitial_feature: 128\n",
      "\u001b[34m\u001b[1mwandb\u001b[0m: \tlearning_rate: 0.001\n",
      "\u001b[34m\u001b[1mwandb\u001b[0m: \toptimizer: adam\n",
      "\u001b[34m\u001b[1mwandb\u001b[0m: \tout_feature: 2\n",
      "\u001b[34m\u001b[1mwandb\u001b[0m: \tsize: 2000\n",
      "\u001b[34m\u001b[1mwandb\u001b[0m: \tstd_data: 0.5\n",
      "\u001b[34m\u001b[1mwandb\u001b[0m: \ttrain_model_key: 47\n",
      "Failed to detect the name of this notebook, you can set it manually with the WANDB_NOTEBOOK_NAME environment variable to enable code saving.\n"
     ]
    },
    {
     "data": {
      "text/html": [
       "wandb version 0.15.8 is available!  To upgrade, please run:\n",
       " $ pip install wandb --upgrade"
      ],
      "text/plain": [
       "<IPython.core.display.HTML object>"
      ]
     },
     "metadata": {},
     "output_type": "display_data"
    },
    {
     "data": {
      "text/html": [
       "Tracking run with wandb version 0.15.5"
      ],
      "text/plain": [
       "<IPython.core.display.HTML object>"
      ]
     },
     "metadata": {},
     "output_type": "display_data"
    },
    {
     "data": {
      "text/html": [
       "Run data is saved locally in <code>/home/mdowicz/PFGMPP/wandb/wandb/run-20230809_100316-y7u7ygbm</code>"
      ],
      "text/plain": [
       "<IPython.core.display.HTML object>"
      ]
     },
     "metadata": {},
     "output_type": "display_data"
    },
    {
     "data": {
      "text/html": [
       "Syncing run <strong><a href='https://wandb.ai/mdowicz/toy_pfgmpp/runs/y7u7ygbm' target=\"_blank\">electric-sweep-5</a></strong> to <a href='https://wandb.ai/mdowicz/toy_pfgmpp' target=\"_blank\">Weights & Biases</a> (<a href='https://wandb.me/run' target=\"_blank\">docs</a>)<br/>Sweep page: <a href='https://wandb.ai/mdowicz/toy_pfgmpp/sweeps/2vch61jw' target=\"_blank\">https://wandb.ai/mdowicz/toy_pfgmpp/sweeps/2vch61jw</a>"
      ],
      "text/plain": [
       "<IPython.core.display.HTML object>"
      ]
     },
     "metadata": {},
     "output_type": "display_data"
    },
    {
     "data": {
      "text/html": [
       " View project at <a href='https://wandb.ai/mdowicz/toy_pfgmpp' target=\"_blank\">https://wandb.ai/mdowicz/toy_pfgmpp</a>"
      ],
      "text/plain": [
       "<IPython.core.display.HTML object>"
      ]
     },
     "metadata": {},
     "output_type": "display_data"
    },
    {
     "data": {
      "text/html": [
       " View sweep at <a href='https://wandb.ai/mdowicz/toy_pfgmpp/sweeps/2vch61jw' target=\"_blank\">https://wandb.ai/mdowicz/toy_pfgmpp/sweeps/2vch61jw</a>"
      ],
      "text/plain": [
       "<IPython.core.display.HTML object>"
      ]
     },
     "metadata": {},
     "output_type": "display_data"
    },
    {
     "data": {
      "text/html": [
       " View run at <a href='https://wandb.ai/mdowicz/toy_pfgmpp/runs/y7u7ygbm' target=\"_blank\">https://wandb.ai/mdowicz/toy_pfgmpp/runs/y7u7ygbm</a>"
      ],
      "text/plain": [
       "<IPython.core.display.HTML object>"
      ]
     },
     "metadata": {},
     "output_type": "display_data"
    },
    {
     "name": "stderr",
     "output_type": "stream",
     "text": [
      "100%|██████████| 30/30 [02:12<00:00,  4.40s/it]\n"
     ]
    },
    {
     "data": {
      "text/html": [
       "Waiting for W&B process to finish... <strong style=\"color:green\">(success).</strong>"
      ],
      "text/plain": [
       "<IPython.core.display.HTML object>"
      ]
     },
     "metadata": {},
     "output_type": "display_data"
    },
    {
     "data": {
      "text/html": [
       "<style>\n",
       "    table.wandb td:nth-child(1) { padding: 0 10px; text-align: left ; width: auto;} td:nth-child(2) {text-align: left ; width: 100%}\n",
       "    .wandb-row { display: flex; flex-direction: row; flex-wrap: wrap; justify-content: flex-start; width: 100% }\n",
       "    .wandb-col { display: flex; flex-direction: column; flex-basis: 100%; flex: 1; padding: 10px; }\n",
       "    </style>\n",
       "<div class=\"wandb-row\"><div class=\"wandb-col\"><h3>Run history:</h3><br/><table class=\"wandb\"><tr><td>Train Loss</td><td>█▂▁▁▁▁▁▁▁▁▁▁▁▁▁▁▁▁▁▁▁▁▁▁▁▁▁▁▁▁</td></tr></table><br/></div><div class=\"wandb-col\"><h3>Run summary:</h3><br/><table class=\"wandb\"><tr><td>Train Loss</td><td>1.33211</td></tr></table><br/></div></div>"
      ],
      "text/plain": [
       "<IPython.core.display.HTML object>"
      ]
     },
     "metadata": {},
     "output_type": "display_data"
    },
    {
     "data": {
      "text/html": [
       " View run <strong style=\"color:#cdcd00\">electric-sweep-5</strong> at: <a href='https://wandb.ai/mdowicz/toy_pfgmpp/runs/y7u7ygbm' target=\"_blank\">https://wandb.ai/mdowicz/toy_pfgmpp/runs/y7u7ygbm</a><br/>Synced 6 W&B file(s), 0 media file(s), 0 artifact file(s) and 0 other file(s)"
      ],
      "text/plain": [
       "<IPython.core.display.HTML object>"
      ]
     },
     "metadata": {},
     "output_type": "display_data"
    },
    {
     "data": {
      "text/html": [
       "Find logs at: <code>/home/mdowicz/PFGMPP/wandb/wandb/run-20230809_100316-y7u7ygbm/logs</code>"
      ],
      "text/plain": [
       "<IPython.core.display.HTML object>"
      ]
     },
     "metadata": {},
     "output_type": "display_data"
    },
    {
     "name": "stderr",
     "output_type": "stream",
     "text": [
      "\u001b[34m\u001b[1mwandb\u001b[0m: Agent Starting Run: 8zrrfbwa with config:\n",
      "\u001b[34m\u001b[1mwandb\u001b[0m: \tD: 1000\n",
      "\u001b[34m\u001b[1mwandb\u001b[0m: \tN: 2\n",
      "\u001b[34m\u001b[1mwandb\u001b[0m: \tbatch_size: 128\n",
      "\u001b[34m\u001b[1mwandb\u001b[0m: \tdepth: 2\n",
      "\u001b[34m\u001b[1mwandb\u001b[0m: \tembedding_dim: 32\n",
      "\u001b[34m\u001b[1mwandb\u001b[0m: \tepochs: 30\n",
      "\u001b[34m\u001b[1mwandb\u001b[0m: \tgen_data_key: 21\n",
      "\u001b[34m\u001b[1mwandb\u001b[0m: \tinitial_feature: 256\n",
      "\u001b[34m\u001b[1mwandb\u001b[0m: \tlearning_rate: 0.0001\n",
      "\u001b[34m\u001b[1mwandb\u001b[0m: \toptimizer: adam\n",
      "\u001b[34m\u001b[1mwandb\u001b[0m: \tout_feature: 2\n",
      "\u001b[34m\u001b[1mwandb\u001b[0m: \tsize: 2000\n",
      "\u001b[34m\u001b[1mwandb\u001b[0m: \tstd_data: 0.5\n",
      "\u001b[34m\u001b[1mwandb\u001b[0m: \ttrain_model_key: 47\n",
      "Failed to detect the name of this notebook, you can set it manually with the WANDB_NOTEBOOK_NAME environment variable to enable code saving.\n"
     ]
    },
    {
     "data": {
      "text/html": [
       "wandb version 0.15.8 is available!  To upgrade, please run:\n",
       " $ pip install wandb --upgrade"
      ],
      "text/plain": [
       "<IPython.core.display.HTML object>"
      ]
     },
     "metadata": {},
     "output_type": "display_data"
    },
    {
     "data": {
      "text/html": [
       "Tracking run with wandb version 0.15.5"
      ],
      "text/plain": [
       "<IPython.core.display.HTML object>"
      ]
     },
     "metadata": {},
     "output_type": "display_data"
    },
    {
     "data": {
      "text/html": [
       "Run data is saved locally in <code>/home/mdowicz/PFGMPP/wandb/wandb/run-20230809_100539-8zrrfbwa</code>"
      ],
      "text/plain": [
       "<IPython.core.display.HTML object>"
      ]
     },
     "metadata": {},
     "output_type": "display_data"
    },
    {
     "data": {
      "text/html": [
       "Syncing run <strong><a href='https://wandb.ai/mdowicz/toy_pfgmpp/runs/8zrrfbwa' target=\"_blank\">fragrant-sweep-6</a></strong> to <a href='https://wandb.ai/mdowicz/toy_pfgmpp' target=\"_blank\">Weights & Biases</a> (<a href='https://wandb.me/run' target=\"_blank\">docs</a>)<br/>Sweep page: <a href='https://wandb.ai/mdowicz/toy_pfgmpp/sweeps/2vch61jw' target=\"_blank\">https://wandb.ai/mdowicz/toy_pfgmpp/sweeps/2vch61jw</a>"
      ],
      "text/plain": [
       "<IPython.core.display.HTML object>"
      ]
     },
     "metadata": {},
     "output_type": "display_data"
    },
    {
     "data": {
      "text/html": [
       " View project at <a href='https://wandb.ai/mdowicz/toy_pfgmpp' target=\"_blank\">https://wandb.ai/mdowicz/toy_pfgmpp</a>"
      ],
      "text/plain": [
       "<IPython.core.display.HTML object>"
      ]
     },
     "metadata": {},
     "output_type": "display_data"
    },
    {
     "data": {
      "text/html": [
       " View sweep at <a href='https://wandb.ai/mdowicz/toy_pfgmpp/sweeps/2vch61jw' target=\"_blank\">https://wandb.ai/mdowicz/toy_pfgmpp/sweeps/2vch61jw</a>"
      ],
      "text/plain": [
       "<IPython.core.display.HTML object>"
      ]
     },
     "metadata": {},
     "output_type": "display_data"
    },
    {
     "data": {
      "text/html": [
       " View run at <a href='https://wandb.ai/mdowicz/toy_pfgmpp/runs/8zrrfbwa' target=\"_blank\">https://wandb.ai/mdowicz/toy_pfgmpp/runs/8zrrfbwa</a>"
      ],
      "text/plain": [
       "<IPython.core.display.HTML object>"
      ]
     },
     "metadata": {},
     "output_type": "display_data"
    },
    {
     "name": "stderr",
     "output_type": "stream",
     "text": [
      "100%|██████████| 30/30 [02:06<00:00,  4.23s/it]\n"
     ]
    },
    {
     "data": {
      "text/html": [
       "Waiting for W&B process to finish... <strong style=\"color:green\">(success).</strong>"
      ],
      "text/plain": [
       "<IPython.core.display.HTML object>"
      ]
     },
     "metadata": {},
     "output_type": "display_data"
    },
    {
     "data": {
      "text/html": [
       "<style>\n",
       "    table.wandb td:nth-child(1) { padding: 0 10px; text-align: left ; width: auto;} td:nth-child(2) {text-align: left ; width: 100%}\n",
       "    .wandb-row { display: flex; flex-direction: row; flex-wrap: wrap; justify-content: flex-start; width: 100% }\n",
       "    .wandb-col { display: flex; flex-direction: column; flex-basis: 100%; flex: 1; padding: 10px; }\n",
       "    </style>\n",
       "<div class=\"wandb-row\"><div class=\"wandb-col\"><h3>Run history:</h3><br/><table class=\"wandb\"><tr><td>Train Loss</td><td>█▇▅▃▂▂▁▁▁▁▁▁▁▁▁▁▁▁▁▁▁▁▁▁▁▁▁▁▁▁</td></tr></table><br/></div><div class=\"wandb-col\"><h3>Run summary:</h3><br/><table class=\"wandb\"><tr><td>Train Loss</td><td>6.32395</td></tr></table><br/></div></div>"
      ],
      "text/plain": [
       "<IPython.core.display.HTML object>"
      ]
     },
     "metadata": {},
     "output_type": "display_data"
    },
    {
     "data": {
      "text/html": [
       " View run <strong style=\"color:#cdcd00\">fragrant-sweep-6</strong> at: <a href='https://wandb.ai/mdowicz/toy_pfgmpp/runs/8zrrfbwa' target=\"_blank\">https://wandb.ai/mdowicz/toy_pfgmpp/runs/8zrrfbwa</a><br/>Synced 6 W&B file(s), 0 media file(s), 0 artifact file(s) and 0 other file(s)"
      ],
      "text/plain": [
       "<IPython.core.display.HTML object>"
      ]
     },
     "metadata": {},
     "output_type": "display_data"
    },
    {
     "data": {
      "text/html": [
       "Find logs at: <code>/home/mdowicz/PFGMPP/wandb/wandb/run-20230809_100539-8zrrfbwa/logs</code>"
      ],
      "text/plain": [
       "<IPython.core.display.HTML object>"
      ]
     },
     "metadata": {},
     "output_type": "display_data"
    },
    {
     "name": "stderr",
     "output_type": "stream",
     "text": [
      "\u001b[34m\u001b[1mwandb\u001b[0m: Agent Starting Run: fgd49wzz with config:\n",
      "\u001b[34m\u001b[1mwandb\u001b[0m: \tD: 4000\n",
      "\u001b[34m\u001b[1mwandb\u001b[0m: \tN: 2\n",
      "\u001b[34m\u001b[1mwandb\u001b[0m: \tbatch_size: 256\n",
      "\u001b[34m\u001b[1mwandb\u001b[0m: \tdepth: 6\n",
      "\u001b[34m\u001b[1mwandb\u001b[0m: \tembedding_dim: 256\n",
      "\u001b[34m\u001b[1mwandb\u001b[0m: \tepochs: 30\n",
      "\u001b[34m\u001b[1mwandb\u001b[0m: \tgen_data_key: 21\n",
      "\u001b[34m\u001b[1mwandb\u001b[0m: \tinitial_feature: 256\n",
      "\u001b[34m\u001b[1mwandb\u001b[0m: \tlearning_rate: 0.0001\n",
      "\u001b[34m\u001b[1mwandb\u001b[0m: \toptimizer: adam\n",
      "\u001b[34m\u001b[1mwandb\u001b[0m: \tout_feature: 2\n",
      "\u001b[34m\u001b[1mwandb\u001b[0m: \tsize: 4000\n",
      "\u001b[34m\u001b[1mwandb\u001b[0m: \tstd_data: 0.5\n",
      "\u001b[34m\u001b[1mwandb\u001b[0m: \ttrain_model_key: 47\n",
      "Failed to detect the name of this notebook, you can set it manually with the WANDB_NOTEBOOK_NAME environment variable to enable code saving.\n"
     ]
    },
    {
     "data": {
      "text/html": [
       "wandb version 0.15.8 is available!  To upgrade, please run:\n",
       " $ pip install wandb --upgrade"
      ],
      "text/plain": [
       "<IPython.core.display.HTML object>"
      ]
     },
     "metadata": {},
     "output_type": "display_data"
    },
    {
     "data": {
      "text/html": [
       "Tracking run with wandb version 0.15.5"
      ],
      "text/plain": [
       "<IPython.core.display.HTML object>"
      ]
     },
     "metadata": {},
     "output_type": "display_data"
    },
    {
     "data": {
      "text/html": [
       "Run data is saved locally in <code>/home/mdowicz/PFGMPP/wandb/wandb/run-20230809_100756-fgd49wzz</code>"
      ],
      "text/plain": [
       "<IPython.core.display.HTML object>"
      ]
     },
     "metadata": {},
     "output_type": "display_data"
    },
    {
     "data": {
      "text/html": [
       "Syncing run <strong><a href='https://wandb.ai/mdowicz/toy_pfgmpp/runs/fgd49wzz' target=\"_blank\">wise-sweep-7</a></strong> to <a href='https://wandb.ai/mdowicz/toy_pfgmpp' target=\"_blank\">Weights & Biases</a> (<a href='https://wandb.me/run' target=\"_blank\">docs</a>)<br/>Sweep page: <a href='https://wandb.ai/mdowicz/toy_pfgmpp/sweeps/2vch61jw' target=\"_blank\">https://wandb.ai/mdowicz/toy_pfgmpp/sweeps/2vch61jw</a>"
      ],
      "text/plain": [
       "<IPython.core.display.HTML object>"
      ]
     },
     "metadata": {},
     "output_type": "display_data"
    },
    {
     "data": {
      "text/html": [
       " View project at <a href='https://wandb.ai/mdowicz/toy_pfgmpp' target=\"_blank\">https://wandb.ai/mdowicz/toy_pfgmpp</a>"
      ],
      "text/plain": [
       "<IPython.core.display.HTML object>"
      ]
     },
     "metadata": {},
     "output_type": "display_data"
    },
    {
     "data": {
      "text/html": [
       " View sweep at <a href='https://wandb.ai/mdowicz/toy_pfgmpp/sweeps/2vch61jw' target=\"_blank\">https://wandb.ai/mdowicz/toy_pfgmpp/sweeps/2vch61jw</a>"
      ],
      "text/plain": [
       "<IPython.core.display.HTML object>"
      ]
     },
     "metadata": {},
     "output_type": "display_data"
    },
    {
     "data": {
      "text/html": [
       " View run at <a href='https://wandb.ai/mdowicz/toy_pfgmpp/runs/fgd49wzz' target=\"_blank\">https://wandb.ai/mdowicz/toy_pfgmpp/runs/fgd49wzz</a>"
      ],
      "text/plain": [
       "<IPython.core.display.HTML object>"
      ]
     },
     "metadata": {},
     "output_type": "display_data"
    },
    {
     "name": "stderr",
     "output_type": "stream",
     "text": [
      "  0%|          | 0/30 [00:13<?, ?it/s]\n"
     ]
    },
    {
     "data": {
      "text/html": [
       "Waiting for W&B process to finish... <strong style=\"color:red\">(failed 1).</strong> Press Control-C to abort syncing."
      ],
      "text/plain": [
       "<IPython.core.display.HTML object>"
      ]
     },
     "metadata": {},
     "output_type": "display_data"
    },
    {
     "data": {
      "text/html": [
       " View run <strong style=\"color:#cdcd00\">wise-sweep-7</strong> at: <a href='https://wandb.ai/mdowicz/toy_pfgmpp/runs/fgd49wzz' target=\"_blank\">https://wandb.ai/mdowicz/toy_pfgmpp/runs/fgd49wzz</a><br/>Synced 6 W&B file(s), 0 media file(s), 0 artifact file(s) and 0 other file(s)"
      ],
      "text/plain": [
       "<IPython.core.display.HTML object>"
      ]
     },
     "metadata": {},
     "output_type": "display_data"
    },
    {
     "data": {
      "text/html": [
       "Find logs at: <code>/home/mdowicz/PFGMPP/wandb/wandb/run-20230809_100756-fgd49wzz/logs</code>"
      ],
      "text/plain": [
       "<IPython.core.display.HTML object>"
      ]
     },
     "metadata": {},
     "output_type": "display_data"
    },
    {
     "name": "stderr",
     "output_type": "stream",
     "text": [
      "Run fgd49wzz errored: XlaRuntimeError('RESOURCE_EXHAUSTED: Out of memory while trying to allocate 268435456 bytes.\\nBufferAssignment OOM Debugging.\\nBufferAssignment stats:\\n             parameter allocation:   10.82GiB\\n              constant allocation:       588B\\n        maybe_live_out allocation:   10.82GiB\\n     preallocated temp allocation:    14.1KiB\\n                 total allocation:   21.64GiB\\n              total fragmentation:    14.7KiB (0.00%)\\nPeak buffers:\\n\\tBuffer 1:\\n\\t\\tSize: 1.00GiB\\n\\t\\tEntry Parameter Subshape: f32[16384,16384]\\n\\t\\t==========================\\n\\n\\tBuffer 2:\\n\\t\\tSize: 1.00GiB\\n\\t\\tEntry Parameter Subshape: f32[16384,16384]\\n\\t\\t==========================\\n\\n\\tBuffer 3:\\n\\t\\tSize: 1.00GiB\\n\\t\\tEntry Parameter Subshape: f32[16384,16384]\\n\\t\\t==========================\\n\\n\\tBuffer 4:\\n\\t\\tSize: 1.00GiB\\n\\t\\tOperator: op_name=\"jit(train_step)/jit(main)/add\" source_file=\"/home/mdowicz/PFGMPP/src/models/train_model.py\" source_line=117\\n\\t\\tXLA Label: fusion\\n\\t\\tShape: f32[16384,16384]\\n\\t\\t==========================\\n\\n\\tBuffer 5:\\n\\t\\tSize: 1.00GiB\\n\\t\\tOperator: op_name=\"jit(train_step)/jit(main)/add\" source_file=\"/home/mdowicz/PFGMPP/src/models/train_model.py\" source_line=117\\n\\t\\tXLA Label: fusion\\n\\t\\tShape: f32[16384,16384]\\n\\t\\t==========================\\n\\n\\tBuffer 6:\\n\\t\\tSize: 1.00GiB\\n\\t\\tOperator: op_name=\"jit(train_step)/jit(main)/add\" source_file=\"/home/mdowicz/PFGMPP/src/models/train_model.py\" source_line=117\\n\\t\\tXLA Label: fusion\\n\\t\\tShape: f32[16384,16384]\\n\\t\\t==========================\\n\\n\\tBuffer 7:\\n\\t\\tSize: 512.00MiB\\n\\t\\tEntry Parameter Subshape: f32[8192,16384]\\n\\t\\t==========================\\n\\n\\tBuffer 8:\\n\\t\\tSize: 512.00MiB\\n\\t\\tEntry Parameter Subshape: f32[16384,8192]\\n\\t\\t==========================\\n\\n\\tBuffer 9:\\n\\t\\tSize: 512.00MiB\\n\\t\\tEntry Parameter Subshape: f32[8192,16384]\\n\\t\\t==========================\\n\\n\\tBuffer 10:\\n\\t\\tSize: 512.00MiB\\n\\t\\tOperator: op_name=\"jit(train_step)/jit(main)/add\" source_file=\"/home/mdowicz/PFGMPP/src/models/train_model.py\" source_line=117\\n\\t\\tXLA Label: fusion\\n\\t\\tShape: f32[16384,8192]\\n\\t\\t==========================\\n\\n\\tBuffer 11:\\n\\t\\tSize: 512.00MiB\\n\\t\\tOperator: op_name=\"jit(train_step)/jit(main)/add\" source_file=\"/home/mdowicz/PFGMPP/src/models/train_model.py\" source_line=117\\n\\t\\tXLA Label: fusion\\n\\t\\tShape: f32[16384,8192]\\n\\t\\t==========================\\n\\n\\tBuffer 12:\\n\\t\\tSize: 512.00MiB\\n\\t\\tOperator: op_name=\"jit(train_step)/jit(main)/add\" source_file=\"/home/mdowicz/PFGMPP/src/models/train_model.py\" source_line=117\\n\\t\\tXLA Label: fusion\\n\\t\\tShape: f32[16384,8192]\\n\\t\\t==========================\\n\\n\\tBuffer 13:\\n\\t\\tSize: 512.00MiB\\n\\t\\tOperator: op_name=\"jit(train_step)/jit(main)/add\" source_file=\"/home/mdowicz/PFGMPP/src/models/train_model.py\" source_line=117\\n\\t\\tXLA Label: fusion\\n\\t\\tShape: f32[8192,16384]\\n\\t\\t==========================\\n\\n\\tBuffer 14:\\n\\t\\tSize: 512.00MiB\\n\\t\\tOperator: op_name=\"jit(train_step)/jit(main)/add\" source_file=\"/home/mdowicz/PFGMPP/src/models/train_model.py\" source_line=117\\n\\t\\tXLA Label: fusion\\n\\t\\tShape: f32[8192,16384]\\n\\t\\t==========================\\n\\n\\tBuffer 15:\\n\\t\\tSize: 512.00MiB\\n\\t\\tOperator: op_name=\"jit(train_step)/jit(main)/add\" source_file=\"/home/mdowicz/PFGMPP/src/models/train_model.py\" source_line=117\\n\\t\\tXLA Label: fusion\\n\\t\\tShape: f32[8192,16384]\\n\\t\\t==========================\\n\\n')\n",
      "\u001b[34m\u001b[1mwandb\u001b[0m: \u001b[32m\u001b[41mERROR\u001b[0m Run fgd49wzz errored: XlaRuntimeError('RESOURCE_EXHAUSTED: Out of memory while trying to allocate 268435456 bytes.\\nBufferAssignment OOM Debugging.\\nBufferAssignment stats:\\n             parameter allocation:   10.82GiB\\n              constant allocation:       588B\\n        maybe_live_out allocation:   10.82GiB\\n     preallocated temp allocation:    14.1KiB\\n                 total allocation:   21.64GiB\\n              total fragmentation:    14.7KiB (0.00%)\\nPeak buffers:\\n\\tBuffer 1:\\n\\t\\tSize: 1.00GiB\\n\\t\\tEntry Parameter Subshape: f32[16384,16384]\\n\\t\\t==========================\\n\\n\\tBuffer 2:\\n\\t\\tSize: 1.00GiB\\n\\t\\tEntry Parameter Subshape: f32[16384,16384]\\n\\t\\t==========================\\n\\n\\tBuffer 3:\\n\\t\\tSize: 1.00GiB\\n\\t\\tEntry Parameter Subshape: f32[16384,16384]\\n\\t\\t==========================\\n\\n\\tBuffer 4:\\n\\t\\tSize: 1.00GiB\\n\\t\\tOperator: op_name=\"jit(train_step)/jit(main)/add\" source_file=\"/home/mdowicz/PFGMPP/src/models/train_model.py\" source_line=117\\n\\t\\tXLA Label: fusion\\n\\t\\tShape: f32[16384,16384]\\n\\t\\t==========================\\n\\n\\tBuffer 5:\\n\\t\\tSize: 1.00GiB\\n\\t\\tOperator: op_name=\"jit(train_step)/jit(main)/add\" source_file=\"/home/mdowicz/PFGMPP/src/models/train_model.py\" source_line=117\\n\\t\\tXLA Label: fusion\\n\\t\\tShape: f32[16384,16384]\\n\\t\\t==========================\\n\\n\\tBuffer 6:\\n\\t\\tSize: 1.00GiB\\n\\t\\tOperator: op_name=\"jit(train_step)/jit(main)/add\" source_file=\"/home/mdowicz/PFGMPP/src/models/train_model.py\" source_line=117\\n\\t\\tXLA Label: fusion\\n\\t\\tShape: f32[16384,16384]\\n\\t\\t==========================\\n\\n\\tBuffer 7:\\n\\t\\tSize: 512.00MiB\\n\\t\\tEntry Parameter Subshape: f32[8192,16384]\\n\\t\\t==========================\\n\\n\\tBuffer 8:\\n\\t\\tSize: 512.00MiB\\n\\t\\tEntry Parameter Subshape: f32[16384,8192]\\n\\t\\t==========================\\n\\n\\tBuffer 9:\\n\\t\\tSize: 512.00MiB\\n\\t\\tEntry Parameter Subshape: f32[8192,16384]\\n\\t\\t==========================\\n\\n\\tBuffer 10:\\n\\t\\tSize: 512.00MiB\\n\\t\\tOperator: op_name=\"jit(train_step)/jit(main)/add\" source_file=\"/home/mdowicz/PFGMPP/src/models/train_model.py\" source_line=117\\n\\t\\tXLA Label: fusion\\n\\t\\tShape: f32[16384,8192]\\n\\t\\t==========================\\n\\n\\tBuffer 11:\\n\\t\\tSize: 512.00MiB\\n\\t\\tOperator: op_name=\"jit(train_step)/jit(main)/add\" source_file=\"/home/mdowicz/PFGMPP/src/models/train_model.py\" source_line=117\\n\\t\\tXLA Label: fusion\\n\\t\\tShape: f32[16384,8192]\\n\\t\\t==========================\\n\\n\\tBuffer 12:\\n\\t\\tSize: 512.00MiB\\n\\t\\tOperator: op_name=\"jit(train_step)/jit(main)/add\" source_file=\"/home/mdowicz/PFGMPP/src/models/train_model.py\" source_line=117\\n\\t\\tXLA Label: fusion\\n\\t\\tShape: f32[16384,8192]\\n\\t\\t==========================\\n\\n\\tBuffer 13:\\n\\t\\tSize: 512.00MiB\\n\\t\\tOperator: op_name=\"jit(train_step)/jit(main)/add\" source_file=\"/home/mdowicz/PFGMPP/src/models/train_model.py\" source_line=117\\n\\t\\tXLA Label: fusion\\n\\t\\tShape: f32[8192,16384]\\n\\t\\t==========================\\n\\n\\tBuffer 14:\\n\\t\\tSize: 512.00MiB\\n\\t\\tOperator: op_name=\"jit(train_step)/jit(main)/add\" source_file=\"/home/mdowicz/PFGMPP/src/models/train_model.py\" source_line=117\\n\\t\\tXLA Label: fusion\\n\\t\\tShape: f32[8192,16384]\\n\\t\\t==========================\\n\\n\\tBuffer 15:\\n\\t\\tSize: 512.00MiB\\n\\t\\tOperator: op_name=\"jit(train_step)/jit(main)/add\" source_file=\"/home/mdowicz/PFGMPP/src/models/train_model.py\" source_line=117\\n\\t\\tXLA Label: fusion\\n\\t\\tShape: f32[8192,16384]\\n\\t\\t==========================\\n\\n')\n",
      "\u001b[34m\u001b[1mwandb\u001b[0m: Agent Starting Run: thx2ijcm with config:\n",
      "\u001b[34m\u001b[1mwandb\u001b[0m: \tD: 2000\n",
      "\u001b[34m\u001b[1mwandb\u001b[0m: \tN: 2\n",
      "\u001b[34m\u001b[1mwandb\u001b[0m: \tbatch_size: 64\n",
      "\u001b[34m\u001b[1mwandb\u001b[0m: \tdepth: 3\n",
      "\u001b[34m\u001b[1mwandb\u001b[0m: \tembedding_dim: 256\n",
      "\u001b[34m\u001b[1mwandb\u001b[0m: \tepochs: 30\n",
      "\u001b[34m\u001b[1mwandb\u001b[0m: \tgen_data_key: 21\n",
      "\u001b[34m\u001b[1mwandb\u001b[0m: \tinitial_feature: 256\n",
      "\u001b[34m\u001b[1mwandb\u001b[0m: \tlearning_rate: 0.001\n",
      "\u001b[34m\u001b[1mwandb\u001b[0m: \toptimizer: adam\n",
      "\u001b[34m\u001b[1mwandb\u001b[0m: \tout_feature: 2\n",
      "\u001b[34m\u001b[1mwandb\u001b[0m: \tsize: 2000\n",
      "\u001b[34m\u001b[1mwandb\u001b[0m: \tstd_data: 0.5\n",
      "\u001b[34m\u001b[1mwandb\u001b[0m: \ttrain_model_key: 47\n",
      "Run thx2ijcm errored: XlaRuntimeError('RESOURCE_EXHAUSTED: Out of memory while trying to allocate 4 bytes.')\n",
      "\u001b[34m\u001b[1mwandb\u001b[0m: \u001b[32m\u001b[41mERROR\u001b[0m Run thx2ijcm errored: XlaRuntimeError('RESOURCE_EXHAUSTED: Out of memory while trying to allocate 4 bytes.')\n",
      "\u001b[34m\u001b[1mwandb\u001b[0m: Sweep Agent: Waiting for job.\n",
      "\u001b[34m\u001b[1mwandb\u001b[0m: Job received.\n",
      "\u001b[34m\u001b[1mwandb\u001b[0m: Agent Starting Run: r6lfojqr with config:\n",
      "\u001b[34m\u001b[1mwandb\u001b[0m: \tD: 4000\n",
      "\u001b[34m\u001b[1mwandb\u001b[0m: \tN: 2\n",
      "\u001b[34m\u001b[1mwandb\u001b[0m: \tbatch_size: 256\n",
      "\u001b[34m\u001b[1mwandb\u001b[0m: \tdepth: 2\n",
      "\u001b[34m\u001b[1mwandb\u001b[0m: \tembedding_dim: 32\n",
      "\u001b[34m\u001b[1mwandb\u001b[0m: \tepochs: 30\n",
      "\u001b[34m\u001b[1mwandb\u001b[0m: \tgen_data_key: 21\n",
      "\u001b[34m\u001b[1mwandb\u001b[0m: \tinitial_feature: 16\n",
      "\u001b[34m\u001b[1mwandb\u001b[0m: \tlearning_rate: 1e-05\n",
      "\u001b[34m\u001b[1mwandb\u001b[0m: \toptimizer: adam\n",
      "\u001b[34m\u001b[1mwandb\u001b[0m: \tout_feature: 2\n",
      "\u001b[34m\u001b[1mwandb\u001b[0m: \tsize: 2000\n",
      "\u001b[34m\u001b[1mwandb\u001b[0m: \tstd_data: 0.5\n",
      "\u001b[34m\u001b[1mwandb\u001b[0m: \ttrain_model_key: 47\n",
      "Run r6lfojqr errored: XlaRuntimeError('RESOURCE_EXHAUSTED: Out of memory while trying to allocate 4 bytes.')\n",
      "\u001b[34m\u001b[1mwandb\u001b[0m: \u001b[32m\u001b[41mERROR\u001b[0m Run r6lfojqr errored: XlaRuntimeError('RESOURCE_EXHAUSTED: Out of memory while trying to allocate 4 bytes.')\n",
      "\u001b[34m\u001b[1mwandb\u001b[0m: Agent Starting Run: r65d5slc with config:\n",
      "\u001b[34m\u001b[1mwandb\u001b[0m: \tD: 100\n",
      "\u001b[34m\u001b[1mwandb\u001b[0m: \tN: 2\n",
      "\u001b[34m\u001b[1mwandb\u001b[0m: \tbatch_size: 128\n",
      "\u001b[34m\u001b[1mwandb\u001b[0m: \tdepth: 2\n",
      "\u001b[34m\u001b[1mwandb\u001b[0m: \tembedding_dim: 128\n",
      "\u001b[34m\u001b[1mwandb\u001b[0m: \tepochs: 30\n",
      "\u001b[34m\u001b[1mwandb\u001b[0m: \tgen_data_key: 21\n",
      "\u001b[34m\u001b[1mwandb\u001b[0m: \tinitial_feature: 128\n",
      "\u001b[34m\u001b[1mwandb\u001b[0m: \tlearning_rate: 0.001\n",
      "\u001b[34m\u001b[1mwandb\u001b[0m: \toptimizer: adam\n",
      "\u001b[34m\u001b[1mwandb\u001b[0m: \tout_feature: 2\n",
      "\u001b[34m\u001b[1mwandb\u001b[0m: \tsize: 2000\n",
      "\u001b[34m\u001b[1mwandb\u001b[0m: \tstd_data: 0.5\n",
      "\u001b[34m\u001b[1mwandb\u001b[0m: \ttrain_model_key: 47\n",
      "Run r65d5slc errored: XlaRuntimeError('RESOURCE_EXHAUSTED: Out of memory while trying to allocate 4 bytes.')\n",
      "\u001b[34m\u001b[1mwandb\u001b[0m: \u001b[32m\u001b[41mERROR\u001b[0m Run r65d5slc errored: XlaRuntimeError('RESOURCE_EXHAUSTED: Out of memory while trying to allocate 4 bytes.')\n",
      "\u001b[34m\u001b[1mwandb\u001b[0m: Agent Starting Run: oy5pdo36 with config:\n",
      "\u001b[34m\u001b[1mwandb\u001b[0m: \tD: 2000\n",
      "\u001b[34m\u001b[1mwandb\u001b[0m: \tN: 2\n",
      "\u001b[34m\u001b[1mwandb\u001b[0m: \tbatch_size: 128\n",
      "\u001b[34m\u001b[1mwandb\u001b[0m: \tdepth: 6\n",
      "\u001b[34m\u001b[1mwandb\u001b[0m: \tembedding_dim: 64\n",
      "\u001b[34m\u001b[1mwandb\u001b[0m: \tepochs: 30\n",
      "\u001b[34m\u001b[1mwandb\u001b[0m: \tgen_data_key: 21\n",
      "\u001b[34m\u001b[1mwandb\u001b[0m: \tinitial_feature: 64\n",
      "\u001b[34m\u001b[1mwandb\u001b[0m: \tlearning_rate: 0.0001\n",
      "\u001b[34m\u001b[1mwandb\u001b[0m: \toptimizer: adam\n",
      "\u001b[34m\u001b[1mwandb\u001b[0m: \tout_feature: 2\n",
      "\u001b[34m\u001b[1mwandb\u001b[0m: \tsize: 4000\n",
      "\u001b[34m\u001b[1mwandb\u001b[0m: \tstd_data: 0.5\n",
      "\u001b[34m\u001b[1mwandb\u001b[0m: \ttrain_model_key: 47\n",
      "Run oy5pdo36 errored: XlaRuntimeError('RESOURCE_EXHAUSTED: Out of memory while trying to allocate 4 bytes.')\n",
      "\u001b[34m\u001b[1mwandb\u001b[0m: \u001b[32m\u001b[41mERROR\u001b[0m Run oy5pdo36 errored: XlaRuntimeError('RESOURCE_EXHAUSTED: Out of memory while trying to allocate 4 bytes.')\n",
      "\u001b[34m\u001b[1mwandb\u001b[0m: Agent Starting Run: bf0t821k with config:\n",
      "\u001b[34m\u001b[1mwandb\u001b[0m: \tD: 4000\n",
      "\u001b[34m\u001b[1mwandb\u001b[0m: \tN: 2\n",
      "\u001b[34m\u001b[1mwandb\u001b[0m: \tbatch_size: 256\n",
      "\u001b[34m\u001b[1mwandb\u001b[0m: \tdepth: 3\n",
      "\u001b[34m\u001b[1mwandb\u001b[0m: \tembedding_dim: 128\n",
      "\u001b[34m\u001b[1mwandb\u001b[0m: \tepochs: 30\n",
      "\u001b[34m\u001b[1mwandb\u001b[0m: \tgen_data_key: 21\n",
      "\u001b[34m\u001b[1mwandb\u001b[0m: \tinitial_feature: 128\n",
      "\u001b[34m\u001b[1mwandb\u001b[0m: \tlearning_rate: 0.001\n",
      "\u001b[34m\u001b[1mwandb\u001b[0m: \toptimizer: adam\n",
      "\u001b[34m\u001b[1mwandb\u001b[0m: \tout_feature: 2\n",
      "\u001b[34m\u001b[1mwandb\u001b[0m: \tsize: 4000\n",
      "\u001b[34m\u001b[1mwandb\u001b[0m: \tstd_data: 0.5\n",
      "\u001b[34m\u001b[1mwandb\u001b[0m: \ttrain_model_key: 47\n",
      "Run bf0t821k errored: XlaRuntimeError('RESOURCE_EXHAUSTED: Out of memory while trying to allocate 4 bytes.')\n",
      "\u001b[34m\u001b[1mwandb\u001b[0m: \u001b[32m\u001b[41mERROR\u001b[0m Run bf0t821k errored: XlaRuntimeError('RESOURCE_EXHAUSTED: Out of memory while trying to allocate 4 bytes.')\n",
      "\u001b[34m\u001b[1mwandb\u001b[0m: Agent Starting Run: d5plfkpz with config:\n",
      "\u001b[34m\u001b[1mwandb\u001b[0m: \tD: 100\n",
      "\u001b[34m\u001b[1mwandb\u001b[0m: \tN: 2\n",
      "\u001b[34m\u001b[1mwandb\u001b[0m: \tbatch_size: 64\n",
      "\u001b[34m\u001b[1mwandb\u001b[0m: \tdepth: 6\n",
      "\u001b[34m\u001b[1mwandb\u001b[0m: \tembedding_dim: 32\n",
      "\u001b[34m\u001b[1mwandb\u001b[0m: \tepochs: 30\n",
      "\u001b[34m\u001b[1mwandb\u001b[0m: \tgen_data_key: 21\n",
      "\u001b[34m\u001b[1mwandb\u001b[0m: \tinitial_feature: 64\n",
      "\u001b[34m\u001b[1mwandb\u001b[0m: \tlearning_rate: 0.001\n",
      "\u001b[34m\u001b[1mwandb\u001b[0m: \toptimizer: adam\n",
      "\u001b[34m\u001b[1mwandb\u001b[0m: \tout_feature: 2\n",
      "\u001b[34m\u001b[1mwandb\u001b[0m: \tsize: 2000\n",
      "\u001b[34m\u001b[1mwandb\u001b[0m: \tstd_data: 0.5\n",
      "\u001b[34m\u001b[1mwandb\u001b[0m: \ttrain_model_key: 47\n",
      "Run d5plfkpz errored: XlaRuntimeError('RESOURCE_EXHAUSTED: Out of memory while trying to allocate 4 bytes.')\n",
      "\u001b[34m\u001b[1mwandb\u001b[0m: \u001b[32m\u001b[41mERROR\u001b[0m Run d5plfkpz errored: XlaRuntimeError('RESOURCE_EXHAUSTED: Out of memory while trying to allocate 4 bytes.')\n",
      "\u001b[34m\u001b[1mwandb\u001b[0m: Agent Starting Run: 0z6gt2jn with config:\n",
      "\u001b[34m\u001b[1mwandb\u001b[0m: \tD: 1000\n",
      "\u001b[34m\u001b[1mwandb\u001b[0m: \tN: 2\n",
      "\u001b[34m\u001b[1mwandb\u001b[0m: \tbatch_size: 256\n",
      "\u001b[34m\u001b[1mwandb\u001b[0m: \tdepth: 6\n",
      "\u001b[34m\u001b[1mwandb\u001b[0m: \tembedding_dim: 128\n",
      "\u001b[34m\u001b[1mwandb\u001b[0m: \tepochs: 30\n",
      "\u001b[34m\u001b[1mwandb\u001b[0m: \tgen_data_key: 21\n",
      "\u001b[34m\u001b[1mwandb\u001b[0m: \tinitial_feature: 256\n",
      "\u001b[34m\u001b[1mwandb\u001b[0m: \tlearning_rate: 0.0001\n",
      "\u001b[34m\u001b[1mwandb\u001b[0m: \toptimizer: adam\n",
      "\u001b[34m\u001b[1mwandb\u001b[0m: \tout_feature: 2\n",
      "\u001b[34m\u001b[1mwandb\u001b[0m: \tsize: 4000\n",
      "\u001b[34m\u001b[1mwandb\u001b[0m: \tstd_data: 0.5\n",
      "\u001b[34m\u001b[1mwandb\u001b[0m: \ttrain_model_key: 47\n",
      "Run 0z6gt2jn errored: XlaRuntimeError('RESOURCE_EXHAUSTED: Out of memory while trying to allocate 4 bytes.')\n",
      "\u001b[34m\u001b[1mwandb\u001b[0m: \u001b[32m\u001b[41mERROR\u001b[0m Run 0z6gt2jn errored: XlaRuntimeError('RESOURCE_EXHAUSTED: Out of memory while trying to allocate 4 bytes.')\n",
      "\u001b[34m\u001b[1mwandb\u001b[0m: Agent Starting Run: 8tuir9er with config:\n",
      "\u001b[34m\u001b[1mwandb\u001b[0m: \tD: 1000\n",
      "\u001b[34m\u001b[1mwandb\u001b[0m: \tN: 2\n",
      "\u001b[34m\u001b[1mwandb\u001b[0m: \tbatch_size: 128\n",
      "\u001b[34m\u001b[1mwandb\u001b[0m: \tdepth: 3\n",
      "\u001b[34m\u001b[1mwandb\u001b[0m: \tembedding_dim: 256\n",
      "\u001b[34m\u001b[1mwandb\u001b[0m: \tepochs: 30\n",
      "\u001b[34m\u001b[1mwandb\u001b[0m: \tgen_data_key: 21\n",
      "\u001b[34m\u001b[1mwandb\u001b[0m: \tinitial_feature: 256\n",
      "\u001b[34m\u001b[1mwandb\u001b[0m: \tlearning_rate: 1e-05\n",
      "\u001b[34m\u001b[1mwandb\u001b[0m: \toptimizer: adam\n",
      "\u001b[34m\u001b[1mwandb\u001b[0m: \tout_feature: 2\n",
      "\u001b[34m\u001b[1mwandb\u001b[0m: \tsize: 4000\n",
      "\u001b[34m\u001b[1mwandb\u001b[0m: \tstd_data: 0.5\n",
      "\u001b[34m\u001b[1mwandb\u001b[0m: \ttrain_model_key: 47\n",
      "Run 8tuir9er errored: XlaRuntimeError('RESOURCE_EXHAUSTED: Out of memory while trying to allocate 4 bytes.')\n",
      "\u001b[34m\u001b[1mwandb\u001b[0m: \u001b[32m\u001b[41mERROR\u001b[0m Run 8tuir9er errored: XlaRuntimeError('RESOURCE_EXHAUSTED: Out of memory while trying to allocate 4 bytes.')\n",
      "\u001b[34m\u001b[1mwandb\u001b[0m: Agent Starting Run: k2svfuxp with config:\n",
      "\u001b[34m\u001b[1mwandb\u001b[0m: \tD: 1000\n",
      "\u001b[34m\u001b[1mwandb\u001b[0m: \tN: 2\n",
      "\u001b[34m\u001b[1mwandb\u001b[0m: \tbatch_size: 64\n",
      "\u001b[34m\u001b[1mwandb\u001b[0m: \tdepth: 5\n",
      "\u001b[34m\u001b[1mwandb\u001b[0m: \tembedding_dim: 256\n",
      "\u001b[34m\u001b[1mwandb\u001b[0m: \tepochs: 30\n",
      "\u001b[34m\u001b[1mwandb\u001b[0m: \tgen_data_key: 21\n",
      "\u001b[34m\u001b[1mwandb\u001b[0m: \tinitial_feature: 32\n",
      "\u001b[34m\u001b[1mwandb\u001b[0m: \tlearning_rate: 1e-05\n",
      "\u001b[34m\u001b[1mwandb\u001b[0m: \toptimizer: adam\n",
      "\u001b[34m\u001b[1mwandb\u001b[0m: \tout_feature: 2\n",
      "\u001b[34m\u001b[1mwandb\u001b[0m: \tsize: 2000\n",
      "\u001b[34m\u001b[1mwandb\u001b[0m: \tstd_data: 0.5\n",
      "\u001b[34m\u001b[1mwandb\u001b[0m: \ttrain_model_key: 47\n",
      "Run k2svfuxp errored: XlaRuntimeError('RESOURCE_EXHAUSTED: Out of memory while trying to allocate 4 bytes.')\n",
      "\u001b[34m\u001b[1mwandb\u001b[0m: \u001b[32m\u001b[41mERROR\u001b[0m Run k2svfuxp errored: XlaRuntimeError('RESOURCE_EXHAUSTED: Out of memory while trying to allocate 4 bytes.')\n",
      "\u001b[34m\u001b[1mwandb\u001b[0m: Agent Starting Run: w3uz9hx8 with config:\n",
      "\u001b[34m\u001b[1mwandb\u001b[0m: \tD: 2000\n",
      "\u001b[34m\u001b[1mwandb\u001b[0m: \tN: 2\n",
      "\u001b[34m\u001b[1mwandb\u001b[0m: \tbatch_size: 64\n",
      "\u001b[34m\u001b[1mwandb\u001b[0m: \tdepth: 4\n",
      "\u001b[34m\u001b[1mwandb\u001b[0m: \tembedding_dim: 256\n",
      "\u001b[34m\u001b[1mwandb\u001b[0m: \tepochs: 30\n",
      "\u001b[34m\u001b[1mwandb\u001b[0m: \tgen_data_key: 21\n",
      "\u001b[34m\u001b[1mwandb\u001b[0m: \tinitial_feature: 128\n",
      "\u001b[34m\u001b[1mwandb\u001b[0m: \tlearning_rate: 0.001\n",
      "\u001b[34m\u001b[1mwandb\u001b[0m: \toptimizer: adam\n",
      "\u001b[34m\u001b[1mwandb\u001b[0m: \tout_feature: 2\n",
      "\u001b[34m\u001b[1mwandb\u001b[0m: \tsize: 4000\n",
      "\u001b[34m\u001b[1mwandb\u001b[0m: \tstd_data: 0.5\n",
      "\u001b[34m\u001b[1mwandb\u001b[0m: \ttrain_model_key: 47\n",
      "Run w3uz9hx8 errored: XlaRuntimeError('RESOURCE_EXHAUSTED: Out of memory while trying to allocate 4 bytes.')\n",
      "\u001b[34m\u001b[1mwandb\u001b[0m: \u001b[32m\u001b[41mERROR\u001b[0m Run w3uz9hx8 errored: XlaRuntimeError('RESOURCE_EXHAUSTED: Out of memory while trying to allocate 4 bytes.')\n",
      "\u001b[34m\u001b[1mwandb\u001b[0m: Agent Starting Run: j75sgm2m with config:\n",
      "\u001b[34m\u001b[1mwandb\u001b[0m: \tD: 2000\n",
      "\u001b[34m\u001b[1mwandb\u001b[0m: \tN: 2\n",
      "\u001b[34m\u001b[1mwandb\u001b[0m: \tbatch_size: 256\n",
      "\u001b[34m\u001b[1mwandb\u001b[0m: \tdepth: 2\n",
      "\u001b[34m\u001b[1mwandb\u001b[0m: \tembedding_dim: 128\n",
      "\u001b[34m\u001b[1mwandb\u001b[0m: \tepochs: 30\n",
      "\u001b[34m\u001b[1mwandb\u001b[0m: \tgen_data_key: 21\n",
      "\u001b[34m\u001b[1mwandb\u001b[0m: \tinitial_feature: 128\n",
      "\u001b[34m\u001b[1mwandb\u001b[0m: \tlearning_rate: 1e-05\n",
      "\u001b[34m\u001b[1mwandb\u001b[0m: \toptimizer: adam\n",
      "\u001b[34m\u001b[1mwandb\u001b[0m: \tout_feature: 2\n",
      "\u001b[34m\u001b[1mwandb\u001b[0m: \tsize: 4000\n",
      "\u001b[34m\u001b[1mwandb\u001b[0m: \tstd_data: 0.5\n",
      "\u001b[34m\u001b[1mwandb\u001b[0m: \ttrain_model_key: 47\n",
      "Run j75sgm2m errored: XlaRuntimeError('RESOURCE_EXHAUSTED: Out of memory while trying to allocate 4 bytes.')\n",
      "\u001b[34m\u001b[1mwandb\u001b[0m: \u001b[32m\u001b[41mERROR\u001b[0m Run j75sgm2m errored: XlaRuntimeError('RESOURCE_EXHAUSTED: Out of memory while trying to allocate 4 bytes.')\n",
      "\u001b[34m\u001b[1mwandb\u001b[0m: Agent Starting Run: e6sdo07a with config:\n",
      "\u001b[34m\u001b[1mwandb\u001b[0m: \tD: 4000\n",
      "\u001b[34m\u001b[1mwandb\u001b[0m: \tN: 2\n",
      "\u001b[34m\u001b[1mwandb\u001b[0m: \tbatch_size: 64\n",
      "\u001b[34m\u001b[1mwandb\u001b[0m: \tdepth: 2\n",
      "\u001b[34m\u001b[1mwandb\u001b[0m: \tembedding_dim: 256\n",
      "\u001b[34m\u001b[1mwandb\u001b[0m: \tepochs: 30\n",
      "\u001b[34m\u001b[1mwandb\u001b[0m: \tgen_data_key: 21\n",
      "\u001b[34m\u001b[1mwandb\u001b[0m: \tinitial_feature: 16\n",
      "\u001b[34m\u001b[1mwandb\u001b[0m: \tlearning_rate: 0.0001\n",
      "\u001b[34m\u001b[1mwandb\u001b[0m: \toptimizer: adam\n",
      "\u001b[34m\u001b[1mwandb\u001b[0m: \tout_feature: 2\n",
      "\u001b[34m\u001b[1mwandb\u001b[0m: \tsize: 4000\n",
      "\u001b[34m\u001b[1mwandb\u001b[0m: \tstd_data: 0.5\n",
      "\u001b[34m\u001b[1mwandb\u001b[0m: \ttrain_model_key: 47\n",
      "Run e6sdo07a errored: XlaRuntimeError('RESOURCE_EXHAUSTED: Out of memory while trying to allocate 4 bytes.')\n",
      "\u001b[34m\u001b[1mwandb\u001b[0m: \u001b[32m\u001b[41mERROR\u001b[0m Run e6sdo07a errored: XlaRuntimeError('RESOURCE_EXHAUSTED: Out of memory while trying to allocate 4 bytes.')\n",
      "\u001b[34m\u001b[1mwandb\u001b[0m: Agent Starting Run: t5i21ap7 with config:\n",
      "\u001b[34m\u001b[1mwandb\u001b[0m: \tD: 100\n",
      "\u001b[34m\u001b[1mwandb\u001b[0m: \tN: 2\n",
      "\u001b[34m\u001b[1mwandb\u001b[0m: \tbatch_size: 256\n",
      "\u001b[34m\u001b[1mwandb\u001b[0m: \tdepth: 4\n",
      "\u001b[34m\u001b[1mwandb\u001b[0m: \tembedding_dim: 64\n",
      "\u001b[34m\u001b[1mwandb\u001b[0m: \tepochs: 30\n",
      "\u001b[34m\u001b[1mwandb\u001b[0m: \tgen_data_key: 21\n",
      "\u001b[34m\u001b[1mwandb\u001b[0m: \tinitial_feature: 64\n",
      "\u001b[34m\u001b[1mwandb\u001b[0m: \tlearning_rate: 0.0001\n",
      "\u001b[34m\u001b[1mwandb\u001b[0m: \toptimizer: adam\n",
      "\u001b[34m\u001b[1mwandb\u001b[0m: \tout_feature: 2\n",
      "\u001b[34m\u001b[1mwandb\u001b[0m: \tsize: 2000\n",
      "\u001b[34m\u001b[1mwandb\u001b[0m: \tstd_data: 0.5\n",
      "\u001b[34m\u001b[1mwandb\u001b[0m: \ttrain_model_key: 47\n",
      "\u001b[34m\u001b[1mwandb\u001b[0m: Ctrl + C detected. Stopping sweep.\n"
     ]
    }
   ],
   "source": [
    "sweep_id = wandb.sweep(sweep_config, project=\"toy_pfgmpp\")\n",
    "wandb.agent(sweep_id, train_sweep, count=20)"
   ]
  },
  {
   "cell_type": "code",
   "execution_count": null,
   "id": "0e2b5773-acd6-4e71-9b9a-77df25f1fd1e",
   "metadata": {},
   "outputs": [],
   "source": []
  }
 ],
 "metadata": {
  "kernelspec": {
   "display_name": "Python 3",
   "language": "python",
   "name": "python3"
  },
  "language_info": {
   "codemirror_mode": {
    "name": "ipython",
    "version": 3
   },
   "file_extension": ".py",
   "mimetype": "text/x-python",
   "name": "python",
   "nbconvert_exporter": "python",
   "pygments_lexer": "ipython3",
   "version": "3.8.13"
  }
 },
 "nbformat": 4,
 "nbformat_minor": 5
}
