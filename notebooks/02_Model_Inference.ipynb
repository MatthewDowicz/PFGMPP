{
 "cells": [
  {
   "cell_type": "code",
   "execution_count": 1,
   "id": "752a774d-47fe-4bd1-8bf6-586e6e118e21",
   "metadata": {},
   "outputs": [],
   "source": [
    "import os\n",
    "os.environ[\"CUDA_VISIBLE_DEVICES\"] = \"1\"\n",
    "from typing import Any, Sequence, Optional, Tuple, Iterator, Dict, Callable, Union, Type, List\n",
    "import numpy as np\n",
    "import matplotlib.pyplot as plt\n",
    "\n",
    "# Changing fonts to be latex typesetting\n",
    "from matplotlib import rcParams\n",
    "rcParams['mathtext.fontset'] = 'dejavuserif'\n",
    "rcParams['font.family'] = 'serif'\n",
    "\n",
    "# # PyTorch for Dataloaders\n",
    "import torch\n",
    "\n",
    "# JAX/Flax\n",
    "import jax\n",
    "import jax.numpy as jnp\n",
    "from jax import random\n",
    "from flax import linen as nn\n",
    "import wandb\n",
    "\n",
    "from visualization import visualize as vis\n",
    "from data import data_functions as df\n",
    "from models import model_architecture as march\n",
    "from models import train_model as trm\n",
    "from models import generate_model as gen"
   ]
  },
  {
   "cell_type": "code",
   "execution_count": 2,
   "id": "a7a65735-75c1-44f6-bcaf-bbce703e6871",
   "metadata": {},
   "outputs": [],
   "source": [
    "class DoubleDense(nn.Module):\n",
    "    features: int\n",
    "\n",
    "    def setup(self):\n",
    "        self.dense1 = nn.Dense(self.features)\n",
    "        self.group1 = nn.GroupNorm()\n",
    "        self.act1 = nn.swish\n",
    "        self.dense2 = nn.Dense(self.features)        \n",
    "        self.group2 = nn.GroupNorm()\n",
    "        self.act2 = nn.swish\n",
    "\n",
    "    def __call__(self, x):\n",
    "        x = self.dense1(x)\n",
    "        x = self.group1(x)\n",
    "        x = self.act1(x)\n",
    "        x = self.dense2(x)\n",
    "        x = self.group2(x)\n",
    "        x = self.act2(x)\n",
    "        return x\n",
    "\n",
    "class Down(nn.Module):\n",
    "    features: int\n",
    "\n",
    "    def setup(self):\n",
    "        self.dense1 = DoubleDense(self.features)\n",
    "        self.emb_layer = nn.Dense(self.features)\n",
    "\n",
    "    def __call__(self, x, t):\n",
    "        x = self.dense1(x)\n",
    "        emb = self.emb_layer(t)\n",
    "        return x + emb\n",
    "\n",
    "\n",
    "class Up(nn.Module):\n",
    "    features: int\n",
    "\n",
    "    def setup(self):\n",
    "        self.dense1 = DoubleDense(self.features)\n",
    "        self.emb_layer = nn.Dense(self.features)\n",
    "\n",
    "    def __call__(self, x, skip_x, t):\n",
    "        x = jnp.concatenate([skip_x, x], axis=-1)\n",
    "        x = self.dense1(x)\n",
    "        emb = self.emb_layer(t)\n",
    "        return x + emb\n",
    "\n",
    "\n",
    "class UNet(nn.Module):\n",
    "    depth: int = 4\n",
    "    initial_feature: int = 64\n",
    "    out_feature: int = 2\n",
    "    std_data: float = 0.5\n",
    "    embedding_dim: int = 64\n",
    "\n",
    "    def setup(self):\n",
    "        # Initial dense layer\n",
    "        self.inc = DoubleDense(self.initial_feature) # 2->64\n",
    "\n",
    "        # Encoder Block (Downsampling)\n",
    "        for i in range(1, self.depth):\n",
    "            features = self.initial_feature * (2 ** i)\n",
    "            # print('Encoder features', features)\n",
    "            setattr(self, f'down{i}', Down(features))\n",
    "\n",
    "        # Bottleneck Layers\n",
    "        bottleneck_features = self.initial_feature * (2 ** (self.depth-1))\n",
    "        self.bot1 = DoubleDense(bottleneck_features) # 512->512\n",
    "        self.bot2 = DoubleDense(bottleneck_features * 2) # 512->1024\n",
    "        self.bot3 = DoubleDense(bottleneck_features) # 1024->512\n",
    "\n",
    "        # Decoder Block (Upsampling)\n",
    "        for i in reversed(range(0, self.depth-1)):\n",
    "            features = self.initial_feature * (2 ** i)\n",
    "            setattr(self, f'up{i}', Up(features))\n",
    "\n",
    "        # Final Output Layer\n",
    "        self.outc = nn.Dense(self.out_feature)\n",
    "\n",
    "    def __call__(self, x, t):\n",
    "        # Preconditioning terms\n",
    "        t = t.squeeze()\n",
    "        c_out = t * self.std_data / jnp.sqrt(self.std_data**2 + t**2)\n",
    "        c_skip = self.std_data**2 / (self.std_data**2 + t**2)\n",
    "\n",
    "        # Sampling the noise and embedding the noise via positional encoding\n",
    "        t = jnp.log(t.flatten()) / 4.\n",
    "        t = self.pos_encoding(t, self.embedding_dim)\n",
    "        x_orig = x\n",
    "\n",
    "        skip_connections = []\n",
    "\n",
    "        # Pass through the initial layer\n",
    "        x = self.inc(x) # 2 -> 64\n",
    "        skip_connections.append(x) # Store the output for skip connection\n",
    "\n",
    "        # Pass through the dynamic encoder layers\n",
    "        for i in range(1, self.depth):\n",
    "            x = getattr(self, f'down{i}')(x, t)\n",
    "            skip_connections.append(x) # Store the outputs for skip connections\n",
    "            \n",
    "        # Pass through the bottleneck layers\n",
    "        x = self.bot1(x) # 256 -> 512\n",
    "        x = self.bot2(x) # 512 -> 1024\n",
    "        x = self.bot3(x) # 1024 -> 512\n",
    "\n",
    "        # Pass through the dynamic decoder (upsampling) layers\n",
    "        skip_connections.pop() # THIS IS FOR TESTING PURPOSES FOUND THERE WAS A DISCREPANCY\n",
    "                       # WITH THE NUMBER OF PARAMS BETWEEN STATIC AND DYNAMIC MODEL\n",
    "                       # DUE TO THE SKIP CONNECTIONS TAKING WRONG DIMENSIONAL DATA\n",
    "        for i in reversed(range(0, self.depth-1)):\n",
    "            skip_output = skip_connections.pop() # Retrieve last stored output\n",
    "            x = getattr(self, f'up{i}')(x, skip_output, t)\n",
    "\n",
    "        # Pass through the final output layer\n",
    "        output = self.outc(x) # 64 -> 2\n",
    "\n",
    "        # Reshape c_out & c_skip to match dimensions for broadcasting\n",
    "        c_out = jnp.reshape(c_out, (-1,1))\n",
    "        c_skip = jnp.reshape(c_skip, (-1,1))\n",
    "        return c_out * output + c_skip * x_orig\n",
    "\n",
    "    def pos_encoding(self, t, channels):\n",
    "        t = jnp.expand_dims(t, axis=-1)  # Add an additional dimension to t\n",
    "        inv_freq = 1.0 / (10000 ** (jnp.arange(0, channels, 2).astype(jnp.float32) / channels))\n",
    "        pos_enc_a = jnp.sin(t * inv_freq)\n",
    "        pos_enc_b = jnp.cos(t * inv_freq)\n",
    "        pos_enc = jnp.concatenate([pos_enc_a, pos_enc_b], axis=-1)\n",
    "        return pos_enc"
   ]
  },
  {
   "cell_type": "code",
   "execution_count": 3,
   "id": "2ccfa283-0cbb-4598-a2dc-585bdd241547",
   "metadata": {},
   "outputs": [
    {
     "name": "stdout",
     "output_type": "stream",
     "text": [
      "(4000, 2)\n",
      "<class 'jaxlib.xla_extension.ArrayImpl'>\n",
      "\n",
      "\u001b[3m                                             UNet Summary                                              \u001b[0m\n",
      "┏━━━━━━━━━━━━━━━━━━━━━┳━━━━━━━━━━━━━┳━━━━━━━━━━━━━━━━━━━━┳━━━━━━━━━━━━━━━━━━━┳━━━━━━━━━━━━━━━━━━━━━━━━┓\n",
      "┃\u001b[1m \u001b[0m\u001b[1mpath               \u001b[0m\u001b[1m \u001b[0m┃\u001b[1m \u001b[0m\u001b[1mmodule     \u001b[0m\u001b[1m \u001b[0m┃\u001b[1m \u001b[0m\u001b[1minputs            \u001b[0m\u001b[1m \u001b[0m┃\u001b[1m \u001b[0m\u001b[1moutputs          \u001b[0m\u001b[1m \u001b[0m┃\u001b[1m \u001b[0m\u001b[1mparams                \u001b[0m\u001b[1m \u001b[0m┃\n",
      "┡━━━━━━━━━━━━━━━━━━━━━╇━━━━━━━━━━━━━╇━━━━━━━━━━━━━━━━━━━━╇━━━━━━━━━━━━━━━━━━━╇━━━━━━━━━━━━━━━━━━━━━━━━┩\n",
      "│                     │ UNet        │ - \u001b[2mfloat32\u001b[0m[128,2]   │ \u001b[2mfloat32\u001b[0m[128,2]    │                        │\n",
      "│                     │             │ - \u001b[2mfloat32\u001b[0m[128]     │                   │                        │\n",
      "├─────────────────────┼─────────────┼────────────────────┼───────────────────┼────────────────────────┤\n",
      "│ inc                 │ DoubleDense │ \u001b[2mfloat32\u001b[0m[128,2]     │ \u001b[2mfloat32\u001b[0m[128,64]   │                        │\n",
      "├─────────────────────┼─────────────┼────────────────────┼───────────────────┼────────────────────────┤\n",
      "│ inc/dense1          │ Dense       │ \u001b[2mfloat32\u001b[0m[128,2]     │ \u001b[2mfloat32\u001b[0m[128,64]   │ bias: \u001b[2mfloat32\u001b[0m[64]      │\n",
      "│                     │             │                    │                   │ kernel: \u001b[2mfloat32\u001b[0m[2,64]  │\n",
      "│                     │             │                    │                   │                        │\n",
      "│                     │             │                    │                   │ \u001b[1m192 \u001b[0m\u001b[1;2m(768 B)\u001b[0m            │\n",
      "├─────────────────────┼─────────────┼────────────────────┼───────────────────┼────────────────────────┤\n",
      "│ inc/group1          │ GroupNorm   │ \u001b[2mfloat32\u001b[0m[128,64]    │ \u001b[2mfloat32\u001b[0m[128,64]   │ bias: \u001b[2mfloat32\u001b[0m[64]      │\n",
      "│                     │             │                    │                   │ scale: \u001b[2mfloat32\u001b[0m[64]     │\n",
      "│                     │             │                    │                   │                        │\n",
      "│                     │             │                    │                   │ \u001b[1m128 \u001b[0m\u001b[1;2m(512 B)\u001b[0m            │\n",
      "├─────────────────────┼─────────────┼────────────────────┼───────────────────┼────────────────────────┤\n",
      "│ inc/dense2          │ Dense       │ \u001b[2mfloat32\u001b[0m[128,64]    │ \u001b[2mfloat32\u001b[0m[128,64]   │ bias: \u001b[2mfloat32\u001b[0m[64]      │\n",
      "│                     │             │                    │                   │ kernel: \u001b[2mfloat32\u001b[0m[64,64] │\n",
      "│                     │             │                    │                   │                        │\n",
      "│                     │             │                    │                   │ \u001b[1m4,160 \u001b[0m\u001b[1;2m(16.6 KB)\u001b[0m        │\n",
      "├─────────────────────┼─────────────┼────────────────────┼───────────────────┼────────────────────────┤\n",
      "│ inc/group2          │ GroupNorm   │ \u001b[2mfloat32\u001b[0m[128,64]    │ \u001b[2mfloat32\u001b[0m[128,64]   │ bias: \u001b[2mfloat32\u001b[0m[64]      │\n",
      "│                     │             │                    │                   │ scale: \u001b[2mfloat32\u001b[0m[64]     │\n",
      "│                     │             │                    │                   │                        │\n",
      "│                     │             │                    │                   │ \u001b[1m128 \u001b[0m\u001b[1;2m(512 B)\u001b[0m            │\n",
      "├─────────────────────┼─────────────┼────────────────────┼───────────────────┼────────────────────────┤\n",
      "│ down1               │ Down        │ - \u001b[2mfloat32\u001b[0m[128,64]  │ \u001b[2mfloat32\u001b[0m[128,128]  │                        │\n",
      "│                     │             │ - \u001b[2mfloat32\u001b[0m[128,64]  │                   │                        │\n",
      "├─────────────────────┼─────────────┼────────────────────┼───────────────────┼────────────────────────┤\n",
      "│ down1/dense1        │ DoubleDense │ \u001b[2mfloat32\u001b[0m[128,64]    │ \u001b[2mfloat32\u001b[0m[128,128]  │                        │\n",
      "├─────────────────────┼─────────────┼────────────────────┼───────────────────┼────────────────────────┤\n",
      "│ down1/dense1/dense1 │ Dense       │ \u001b[2mfloat32\u001b[0m[128,64]    │ \u001b[2mfloat32\u001b[0m[128,128]  │ bias: \u001b[2mfloat32\u001b[0m[128]     │\n",
      "│                     │             │                    │                   │ kernel:                │\n",
      "│                     │             │                    │                   │ \u001b[2mfloat32\u001b[0m[64,128]        │\n",
      "│                     │             │                    │                   │                        │\n",
      "│                     │             │                    │                   │ \u001b[1m8,320 \u001b[0m\u001b[1;2m(33.3 KB)\u001b[0m        │\n",
      "├─────────────────────┼─────────────┼────────────────────┼───────────────────┼────────────────────────┤\n",
      "│ down1/dense1/group1 │ GroupNorm   │ \u001b[2mfloat32\u001b[0m[128,128]   │ \u001b[2mfloat32\u001b[0m[128,128]  │ bias: \u001b[2mfloat32\u001b[0m[128]     │\n",
      "│                     │             │                    │                   │ scale: \u001b[2mfloat32\u001b[0m[128]    │\n",
      "│                     │             │                    │                   │                        │\n",
      "│                     │             │                    │                   │ \u001b[1m256 \u001b[0m\u001b[1;2m(1.0 KB)\u001b[0m           │\n",
      "├─────────────────────┼─────────────┼────────────────────┼───────────────────┼────────────────────────┤\n",
      "│ down1/dense1/dense2 │ Dense       │ \u001b[2mfloat32\u001b[0m[128,128]   │ \u001b[2mfloat32\u001b[0m[128,128]  │ bias: \u001b[2mfloat32\u001b[0m[128]     │\n",
      "│                     │             │                    │                   │ kernel:                │\n",
      "│                     │             │                    │                   │ \u001b[2mfloat32\u001b[0m[128,128]       │\n",
      "│                     │             │                    │                   │                        │\n",
      "│                     │             │                    │                   │ \u001b[1m16,512 \u001b[0m\u001b[1;2m(66.0 KB)\u001b[0m       │\n",
      "├─────────────────────┼─────────────┼────────────────────┼───────────────────┼────────────────────────┤\n",
      "│ down1/dense1/group2 │ GroupNorm   │ \u001b[2mfloat32\u001b[0m[128,128]   │ \u001b[2mfloat32\u001b[0m[128,128]  │ bias: \u001b[2mfloat32\u001b[0m[128]     │\n",
      "│                     │             │                    │                   │ scale: \u001b[2mfloat32\u001b[0m[128]    │\n",
      "│                     │             │                    │                   │                        │\n",
      "│                     │             │                    │                   │ \u001b[1m256 \u001b[0m\u001b[1;2m(1.0 KB)\u001b[0m           │\n",
      "├─────────────────────┼─────────────┼────────────────────┼───────────────────┼────────────────────────┤\n",
      "│ down1/emb_layer     │ Dense       │ \u001b[2mfloat32\u001b[0m[128,64]    │ \u001b[2mfloat32\u001b[0m[128,128]  │ bias: \u001b[2mfloat32\u001b[0m[128]     │\n",
      "│                     │             │                    │                   │ kernel:                │\n",
      "│                     │             │                    │                   │ \u001b[2mfloat32\u001b[0m[64,128]        │\n",
      "│                     │             │                    │                   │                        │\n",
      "│                     │             │                    │                   │ \u001b[1m8,320 \u001b[0m\u001b[1;2m(33.3 KB)\u001b[0m        │\n",
      "├─────────────────────┼─────────────┼────────────────────┼───────────────────┼────────────────────────┤\n",
      "│ down2               │ Down        │ - \u001b[2mfloat32\u001b[0m[128,128] │ \u001b[2mfloat32\u001b[0m[128,256]  │                        │\n",
      "│                     │             │ - \u001b[2mfloat32\u001b[0m[128,64]  │                   │                        │\n",
      "├─────────────────────┼─────────────┼────────────────────┼───────────────────┼────────────────────────┤\n",
      "│ down2/dense1        │ DoubleDense │ \u001b[2mfloat32\u001b[0m[128,128]   │ \u001b[2mfloat32\u001b[0m[128,256]  │                        │\n",
      "├─────────────────────┼─────────────┼────────────────────┼───────────────────┼────────────────────────┤\n",
      "│ down2/dense1/dense1 │ Dense       │ \u001b[2mfloat32\u001b[0m[128,128]   │ \u001b[2mfloat32\u001b[0m[128,256]  │ bias: \u001b[2mfloat32\u001b[0m[256]     │\n",
      "│                     │             │                    │                   │ kernel:                │\n",
      "│                     │             │                    │                   │ \u001b[2mfloat32\u001b[0m[128,256]       │\n",
      "│                     │             │                    │                   │                        │\n",
      "│                     │             │                    │                   │ \u001b[1m33,024 \u001b[0m\u001b[1;2m(132.1 KB)\u001b[0m      │\n",
      "├─────────────────────┼─────────────┼────────────────────┼───────────────────┼────────────────────────┤\n",
      "│ down2/dense1/group1 │ GroupNorm   │ \u001b[2mfloat32\u001b[0m[128,256]   │ \u001b[2mfloat32\u001b[0m[128,256]  │ bias: \u001b[2mfloat32\u001b[0m[256]     │\n",
      "│                     │             │                    │                   │ scale: \u001b[2mfloat32\u001b[0m[256]    │\n",
      "│                     │             │                    │                   │                        │\n",
      "│                     │             │                    │                   │ \u001b[1m512 \u001b[0m\u001b[1;2m(2.0 KB)\u001b[0m           │\n",
      "├─────────────────────┼─────────────┼────────────────────┼───────────────────┼────────────────────────┤\n",
      "│ down2/dense1/dense2 │ Dense       │ \u001b[2mfloat32\u001b[0m[128,256]   │ \u001b[2mfloat32\u001b[0m[128,256]  │ bias: \u001b[2mfloat32\u001b[0m[256]     │\n",
      "│                     │             │                    │                   │ kernel:                │\n",
      "│                     │             │                    │                   │ \u001b[2mfloat32\u001b[0m[256,256]       │\n",
      "│                     │             │                    │                   │                        │\n",
      "│                     │             │                    │                   │ \u001b[1m65,792 \u001b[0m\u001b[1;2m(263.2 KB)\u001b[0m      │\n",
      "├─────────────────────┼─────────────┼────────────────────┼───────────────────┼────────────────────────┤\n",
      "│ down2/dense1/group2 │ GroupNorm   │ \u001b[2mfloat32\u001b[0m[128,256]   │ \u001b[2mfloat32\u001b[0m[128,256]  │ bias: \u001b[2mfloat32\u001b[0m[256]     │\n",
      "│                     │             │                    │                   │ scale: \u001b[2mfloat32\u001b[0m[256]    │\n",
      "│                     │             │                    │                   │                        │\n",
      "│                     │             │                    │                   │ \u001b[1m512 \u001b[0m\u001b[1;2m(2.0 KB)\u001b[0m           │\n",
      "├─────────────────────┼─────────────┼────────────────────┼───────────────────┼────────────────────────┤\n",
      "│ down2/emb_layer     │ Dense       │ \u001b[2mfloat32\u001b[0m[128,64]    │ \u001b[2mfloat32\u001b[0m[128,256]  │ bias: \u001b[2mfloat32\u001b[0m[256]     │\n",
      "│                     │             │                    │                   │ kernel:                │\n",
      "│                     │             │                    │                   │ \u001b[2mfloat32\u001b[0m[64,256]        │\n",
      "│                     │             │                    │                   │                        │\n",
      "│                     │             │                    │                   │ \u001b[1m16,640 \u001b[0m\u001b[1;2m(66.6 KB)\u001b[0m       │\n",
      "├─────────────────────┼─────────────┼────────────────────┼───────────────────┼────────────────────────┤\n",
      "│ down3               │ Down        │ - \u001b[2mfloat32\u001b[0m[128,256] │ \u001b[2mfloat32\u001b[0m[128,512]  │                        │\n",
      "│                     │             │ - \u001b[2mfloat32\u001b[0m[128,64]  │                   │                        │\n",
      "├─────────────────────┼─────────────┼────────────────────┼───────────────────┼────────────────────────┤\n",
      "│ down3/dense1        │ DoubleDense │ \u001b[2mfloat32\u001b[0m[128,256]   │ \u001b[2mfloat32\u001b[0m[128,512]  │                        │\n",
      "├─────────────────────┼─────────────┼────────────────────┼───────────────────┼────────────────────────┤\n",
      "│ down3/dense1/dense1 │ Dense       │ \u001b[2mfloat32\u001b[0m[128,256]   │ \u001b[2mfloat32\u001b[0m[128,512]  │ bias: \u001b[2mfloat32\u001b[0m[512]     │\n",
      "│                     │             │                    │                   │ kernel:                │\n",
      "│                     │             │                    │                   │ \u001b[2mfloat32\u001b[0m[256,512]       │\n",
      "│                     │             │                    │                   │                        │\n",
      "│                     │             │                    │                   │ \u001b[1m131,584 \u001b[0m\u001b[1;2m(526.3 KB)\u001b[0m     │\n",
      "├─────────────────────┼─────────────┼────────────────────┼───────────────────┼────────────────────────┤\n",
      "│ down3/dense1/group1 │ GroupNorm   │ \u001b[2mfloat32\u001b[0m[128,512]   │ \u001b[2mfloat32\u001b[0m[128,512]  │ bias: \u001b[2mfloat32\u001b[0m[512]     │\n",
      "│                     │             │                    │                   │ scale: \u001b[2mfloat32\u001b[0m[512]    │\n",
      "│                     │             │                    │                   │                        │\n",
      "│                     │             │                    │                   │ \u001b[1m1,024 \u001b[0m\u001b[1;2m(4.1 KB)\u001b[0m         │\n",
      "├─────────────────────┼─────────────┼────────────────────┼───────────────────┼────────────────────────┤\n",
      "│ down3/dense1/dense2 │ Dense       │ \u001b[2mfloat32\u001b[0m[128,512]   │ \u001b[2mfloat32\u001b[0m[128,512]  │ bias: \u001b[2mfloat32\u001b[0m[512]     │\n",
      "│                     │             │                    │                   │ kernel:                │\n",
      "│                     │             │                    │                   │ \u001b[2mfloat32\u001b[0m[512,512]       │\n",
      "│                     │             │                    │                   │                        │\n",
      "│                     │             │                    │                   │ \u001b[1m262,656 \u001b[0m\u001b[1;2m(1.1 MB)\u001b[0m       │\n",
      "├─────────────────────┼─────────────┼────────────────────┼───────────────────┼────────────────────────┤\n",
      "│ down3/dense1/group2 │ GroupNorm   │ \u001b[2mfloat32\u001b[0m[128,512]   │ \u001b[2mfloat32\u001b[0m[128,512]  │ bias: \u001b[2mfloat32\u001b[0m[512]     │\n",
      "│                     │             │                    │                   │ scale: \u001b[2mfloat32\u001b[0m[512]    │\n",
      "│                     │             │                    │                   │                        │\n",
      "│                     │             │                    │                   │ \u001b[1m1,024 \u001b[0m\u001b[1;2m(4.1 KB)\u001b[0m         │\n",
      "├─────────────────────┼─────────────┼────────────────────┼───────────────────┼────────────────────────┤\n",
      "│ down3/emb_layer     │ Dense       │ \u001b[2mfloat32\u001b[0m[128,64]    │ \u001b[2mfloat32\u001b[0m[128,512]  │ bias: \u001b[2mfloat32\u001b[0m[512]     │\n",
      "│                     │             │                    │                   │ kernel:                │\n",
      "│                     │             │                    │                   │ \u001b[2mfloat32\u001b[0m[64,512]        │\n",
      "│                     │             │                    │                   │                        │\n",
      "│                     │             │                    │                   │ \u001b[1m33,280 \u001b[0m\u001b[1;2m(133.1 KB)\u001b[0m      │\n",
      "├─────────────────────┼─────────────┼────────────────────┼───────────────────┼────────────────────────┤\n",
      "│ bot1                │ DoubleDense │ \u001b[2mfloat32\u001b[0m[128,512]   │ \u001b[2mfloat32\u001b[0m[128,512]  │                        │\n",
      "├─────────────────────┼─────────────┼────────────────────┼───────────────────┼────────────────────────┤\n",
      "│ bot1/dense1         │ Dense       │ \u001b[2mfloat32\u001b[0m[128,512]   │ \u001b[2mfloat32\u001b[0m[128,512]  │ bias: \u001b[2mfloat32\u001b[0m[512]     │\n",
      "│                     │             │                    │                   │ kernel:                │\n",
      "│                     │             │                    │                   │ \u001b[2mfloat32\u001b[0m[512,512]       │\n",
      "│                     │             │                    │                   │                        │\n",
      "│                     │             │                    │                   │ \u001b[1m262,656 \u001b[0m\u001b[1;2m(1.1 MB)\u001b[0m       │\n",
      "├─────────────────────┼─────────────┼────────────────────┼───────────────────┼────────────────────────┤\n",
      "│ bot1/group1         │ GroupNorm   │ \u001b[2mfloat32\u001b[0m[128,512]   │ \u001b[2mfloat32\u001b[0m[128,512]  │ bias: \u001b[2mfloat32\u001b[0m[512]     │\n",
      "│                     │             │                    │                   │ scale: \u001b[2mfloat32\u001b[0m[512]    │\n",
      "│                     │             │                    │                   │                        │\n",
      "│                     │             │                    │                   │ \u001b[1m1,024 \u001b[0m\u001b[1;2m(4.1 KB)\u001b[0m         │\n",
      "├─────────────────────┼─────────────┼────────────────────┼───────────────────┼────────────────────────┤\n",
      "│ bot1/dense2         │ Dense       │ \u001b[2mfloat32\u001b[0m[128,512]   │ \u001b[2mfloat32\u001b[0m[128,512]  │ bias: \u001b[2mfloat32\u001b[0m[512]     │\n",
      "│                     │             │                    │                   │ kernel:                │\n",
      "│                     │             │                    │                   │ \u001b[2mfloat32\u001b[0m[512,512]       │\n",
      "│                     │             │                    │                   │                        │\n",
      "│                     │             │                    │                   │ \u001b[1m262,656 \u001b[0m\u001b[1;2m(1.1 MB)\u001b[0m       │\n",
      "├─────────────────────┼─────────────┼────────────────────┼───────────────────┼────────────────────────┤\n",
      "│ bot1/group2         │ GroupNorm   │ \u001b[2mfloat32\u001b[0m[128,512]   │ \u001b[2mfloat32\u001b[0m[128,512]  │ bias: \u001b[2mfloat32\u001b[0m[512]     │\n",
      "│                     │             │                    │                   │ scale: \u001b[2mfloat32\u001b[0m[512]    │\n",
      "│                     │             │                    │                   │                        │\n",
      "│                     │             │                    │                   │ \u001b[1m1,024 \u001b[0m\u001b[1;2m(4.1 KB)\u001b[0m         │\n",
      "├─────────────────────┼─────────────┼────────────────────┼───────────────────┼────────────────────────┤\n",
      "│ bot2                │ DoubleDense │ \u001b[2mfloat32\u001b[0m[128,512]   │ \u001b[2mfloat32\u001b[0m[128,1024] │                        │\n",
      "├─────────────────────┼─────────────┼────────────────────┼───────────────────┼────────────────────────┤\n",
      "│ bot2/dense1         │ Dense       │ \u001b[2mfloat32\u001b[0m[128,512]   │ \u001b[2mfloat32\u001b[0m[128,1024] │ bias: \u001b[2mfloat32\u001b[0m[1024]    │\n",
      "│                     │             │                    │                   │ kernel:                │\n",
      "│                     │             │                    │                   │ \u001b[2mfloat32\u001b[0m[512,1024]      │\n",
      "│                     │             │                    │                   │                        │\n",
      "│                     │             │                    │                   │ \u001b[1m525,312 \u001b[0m\u001b[1;2m(2.1 MB)\u001b[0m       │\n",
      "├─────────────────────┼─────────────┼────────────────────┼───────────────────┼────────────────────────┤\n",
      "│ bot2/group1         │ GroupNorm   │ \u001b[2mfloat32\u001b[0m[128,1024]  │ \u001b[2mfloat32\u001b[0m[128,1024] │ bias: \u001b[2mfloat32\u001b[0m[1024]    │\n",
      "│                     │             │                    │                   │ scale: \u001b[2mfloat32\u001b[0m[1024]   │\n",
      "│                     │             │                    │                   │                        │\n",
      "│                     │             │                    │                   │ \u001b[1m2,048 \u001b[0m\u001b[1;2m(8.2 KB)\u001b[0m         │\n",
      "├─────────────────────┼─────────────┼────────────────────┼───────────────────┼────────────────────────┤\n",
      "│ bot2/dense2         │ Dense       │ \u001b[2mfloat32\u001b[0m[128,1024]  │ \u001b[2mfloat32\u001b[0m[128,1024] │ bias: \u001b[2mfloat32\u001b[0m[1024]    │\n",
      "│                     │             │                    │                   │ kernel:                │\n",
      "│                     │             │                    │                   │ \u001b[2mfloat32\u001b[0m[1024,1024]     │\n",
      "│                     │             │                    │                   │                        │\n",
      "│                     │             │                    │                   │ \u001b[1m1,049,600 \u001b[0m\u001b[1;2m(4.2 MB)\u001b[0m     │\n",
      "├─────────────────────┼─────────────┼────────────────────┼───────────────────┼────────────────────────┤\n",
      "│ bot2/group2         │ GroupNorm   │ \u001b[2mfloat32\u001b[0m[128,1024]  │ \u001b[2mfloat32\u001b[0m[128,1024] │ bias: \u001b[2mfloat32\u001b[0m[1024]    │\n",
      "│                     │             │                    │                   │ scale: \u001b[2mfloat32\u001b[0m[1024]   │\n",
      "│                     │             │                    │                   │                        │\n",
      "│                     │             │                    │                   │ \u001b[1m2,048 \u001b[0m\u001b[1;2m(8.2 KB)\u001b[0m         │\n",
      "├─────────────────────┼─────────────┼────────────────────┼───────────────────┼────────────────────────┤\n",
      "│ bot3                │ DoubleDense │ \u001b[2mfloat32\u001b[0m[128,1024]  │ \u001b[2mfloat32\u001b[0m[128,512]  │                        │\n",
      "├─────────────────────┼─────────────┼────────────────────┼───────────────────┼────────────────────────┤\n",
      "│ bot3/dense1         │ Dense       │ \u001b[2mfloat32\u001b[0m[128,1024]  │ \u001b[2mfloat32\u001b[0m[128,512]  │ bias: \u001b[2mfloat32\u001b[0m[512]     │\n",
      "│                     │             │                    │                   │ kernel:                │\n",
      "│                     │             │                    │                   │ \u001b[2mfloat32\u001b[0m[1024,512]      │\n",
      "│                     │             │                    │                   │                        │\n",
      "│                     │             │                    │                   │ \u001b[1m524,800 \u001b[0m\u001b[1;2m(2.1 MB)\u001b[0m       │\n",
      "├─────────────────────┼─────────────┼────────────────────┼───────────────────┼────────────────────────┤\n",
      "│ bot3/group1         │ GroupNorm   │ \u001b[2mfloat32\u001b[0m[128,512]   │ \u001b[2mfloat32\u001b[0m[128,512]  │ bias: \u001b[2mfloat32\u001b[0m[512]     │\n",
      "│                     │             │                    │                   │ scale: \u001b[2mfloat32\u001b[0m[512]    │\n",
      "│                     │             │                    │                   │                        │\n",
      "│                     │             │                    │                   │ \u001b[1m1,024 \u001b[0m\u001b[1;2m(4.1 KB)\u001b[0m         │\n",
      "├─────────────────────┼─────────────┼────────────────────┼───────────────────┼────────────────────────┤\n",
      "│ bot3/dense2         │ Dense       │ \u001b[2mfloat32\u001b[0m[128,512]   │ \u001b[2mfloat32\u001b[0m[128,512]  │ bias: \u001b[2mfloat32\u001b[0m[512]     │\n",
      "│                     │             │                    │                   │ kernel:                │\n",
      "│                     │             │                    │                   │ \u001b[2mfloat32\u001b[0m[512,512]       │\n",
      "│                     │             │                    │                   │                        │\n",
      "│                     │             │                    │                   │ \u001b[1m262,656 \u001b[0m\u001b[1;2m(1.1 MB)\u001b[0m       │\n",
      "├─────────────────────┼─────────────┼────────────────────┼───────────────────┼────────────────────────┤\n",
      "│ bot3/group2         │ GroupNorm   │ \u001b[2mfloat32\u001b[0m[128,512]   │ \u001b[2mfloat32\u001b[0m[128,512]  │ bias: \u001b[2mfloat32\u001b[0m[512]     │\n",
      "│                     │             │                    │                   │ scale: \u001b[2mfloat32\u001b[0m[512]    │\n",
      "│                     │             │                    │                   │                        │\n",
      "│                     │             │                    │                   │ \u001b[1m1,024 \u001b[0m\u001b[1;2m(4.1 KB)\u001b[0m         │\n",
      "├─────────────────────┼─────────────┼────────────────────┼───────────────────┼────────────────────────┤\n",
      "│ up2                 │ Up          │ - \u001b[2mfloat32\u001b[0m[128,512] │ \u001b[2mfloat32\u001b[0m[128,256]  │                        │\n",
      "│                     │             │ - \u001b[2mfloat32\u001b[0m[128,256] │                   │                        │\n",
      "│                     │             │ - \u001b[2mfloat32\u001b[0m[128,64]  │                   │                        │\n",
      "├─────────────────────┼─────────────┼────────────────────┼───────────────────┼────────────────────────┤\n",
      "│ up2/dense1          │ DoubleDense │ \u001b[2mfloat32\u001b[0m[128,768]   │ \u001b[2mfloat32\u001b[0m[128,256]  │                        │\n",
      "├─────────────────────┼─────────────┼────────────────────┼───────────────────┼────────────────────────┤\n",
      "│ up2/dense1/dense1   │ Dense       │ \u001b[2mfloat32\u001b[0m[128,768]   │ \u001b[2mfloat32\u001b[0m[128,256]  │ bias: \u001b[2mfloat32\u001b[0m[256]     │\n",
      "│                     │             │                    │                   │ kernel:                │\n",
      "│                     │             │                    │                   │ \u001b[2mfloat32\u001b[0m[768,256]       │\n",
      "│                     │             │                    │                   │                        │\n",
      "│                     │             │                    │                   │ \u001b[1m196,864 \u001b[0m\u001b[1;2m(787.5 KB)\u001b[0m     │\n",
      "├─────────────────────┼─────────────┼────────────────────┼───────────────────┼────────────────────────┤\n",
      "│ up2/dense1/group1   │ GroupNorm   │ \u001b[2mfloat32\u001b[0m[128,256]   │ \u001b[2mfloat32\u001b[0m[128,256]  │ bias: \u001b[2mfloat32\u001b[0m[256]     │\n",
      "│                     │             │                    │                   │ scale: \u001b[2mfloat32\u001b[0m[256]    │\n",
      "│                     │             │                    │                   │                        │\n",
      "│                     │             │                    │                   │ \u001b[1m512 \u001b[0m\u001b[1;2m(2.0 KB)\u001b[0m           │\n",
      "├─────────────────────┼─────────────┼────────────────────┼───────────────────┼────────────────────────┤\n",
      "│ up2/dense1/dense2   │ Dense       │ \u001b[2mfloat32\u001b[0m[128,256]   │ \u001b[2mfloat32\u001b[0m[128,256]  │ bias: \u001b[2mfloat32\u001b[0m[256]     │\n",
      "│                     │             │                    │                   │ kernel:                │\n",
      "│                     │             │                    │                   │ \u001b[2mfloat32\u001b[0m[256,256]       │\n",
      "│                     │             │                    │                   │                        │\n",
      "│                     │             │                    │                   │ \u001b[1m65,792 \u001b[0m\u001b[1;2m(263.2 KB)\u001b[0m      │\n",
      "├─────────────────────┼─────────────┼────────────────────┼───────────────────┼────────────────────────┤\n",
      "│ up2/dense1/group2   │ GroupNorm   │ \u001b[2mfloat32\u001b[0m[128,256]   │ \u001b[2mfloat32\u001b[0m[128,256]  │ bias: \u001b[2mfloat32\u001b[0m[256]     │\n",
      "│                     │             │                    │                   │ scale: \u001b[2mfloat32\u001b[0m[256]    │\n",
      "│                     │             │                    │                   │                        │\n",
      "│                     │             │                    │                   │ \u001b[1m512 \u001b[0m\u001b[1;2m(2.0 KB)\u001b[0m           │\n",
      "├─────────────────────┼─────────────┼────────────────────┼───────────────────┼────────────────────────┤\n",
      "│ up2/emb_layer       │ Dense       │ \u001b[2mfloat32\u001b[0m[128,64]    │ \u001b[2mfloat32\u001b[0m[128,256]  │ bias: \u001b[2mfloat32\u001b[0m[256]     │\n",
      "│                     │             │                    │                   │ kernel:                │\n",
      "│                     │             │                    │                   │ \u001b[2mfloat32\u001b[0m[64,256]        │\n",
      "│                     │             │                    │                   │                        │\n",
      "│                     │             │                    │                   │ \u001b[1m16,640 \u001b[0m\u001b[1;2m(66.6 KB)\u001b[0m       │\n",
      "├─────────────────────┼─────────────┼────────────────────┼───────────────────┼────────────────────────┤\n",
      "│ up1                 │ Up          │ - \u001b[2mfloat32\u001b[0m[128,256] │ \u001b[2mfloat32\u001b[0m[128,128]  │                        │\n",
      "│                     │             │ - \u001b[2mfloat32\u001b[0m[128,128] │                   │                        │\n",
      "│                     │             │ - \u001b[2mfloat32\u001b[0m[128,64]  │                   │                        │\n",
      "├─────────────────────┼─────────────┼────────────────────┼───────────────────┼────────────────────────┤\n",
      "│ up1/dense1          │ DoubleDense │ \u001b[2mfloat32\u001b[0m[128,384]   │ \u001b[2mfloat32\u001b[0m[128,128]  │                        │\n",
      "├─────────────────────┼─────────────┼────────────────────┼───────────────────┼────────────────────────┤\n",
      "│ up1/dense1/dense1   │ Dense       │ \u001b[2mfloat32\u001b[0m[128,384]   │ \u001b[2mfloat32\u001b[0m[128,128]  │ bias: \u001b[2mfloat32\u001b[0m[128]     │\n",
      "│                     │             │                    │                   │ kernel:                │\n",
      "│                     │             │                    │                   │ \u001b[2mfloat32\u001b[0m[384,128]       │\n",
      "│                     │             │                    │                   │                        │\n",
      "│                     │             │                    │                   │ \u001b[1m49,280 \u001b[0m\u001b[1;2m(197.1 KB)\u001b[0m      │\n",
      "├─────────────────────┼─────────────┼────────────────────┼───────────────────┼────────────────────────┤\n",
      "│ up1/dense1/group1   │ GroupNorm   │ \u001b[2mfloat32\u001b[0m[128,128]   │ \u001b[2mfloat32\u001b[0m[128,128]  │ bias: \u001b[2mfloat32\u001b[0m[128]     │\n",
      "│                     │             │                    │                   │ scale: \u001b[2mfloat32\u001b[0m[128]    │\n",
      "│                     │             │                    │                   │                        │\n",
      "│                     │             │                    │                   │ \u001b[1m256 \u001b[0m\u001b[1;2m(1.0 KB)\u001b[0m           │\n",
      "├─────────────────────┼─────────────┼────────────────────┼───────────────────┼────────────────────────┤\n",
      "│ up1/dense1/dense2   │ Dense       │ \u001b[2mfloat32\u001b[0m[128,128]   │ \u001b[2mfloat32\u001b[0m[128,128]  │ bias: \u001b[2mfloat32\u001b[0m[128]     │\n",
      "│                     │             │                    │                   │ kernel:                │\n",
      "│                     │             │                    │                   │ \u001b[2mfloat32\u001b[0m[128,128]       │\n",
      "│                     │             │                    │                   │                        │\n",
      "│                     │             │                    │                   │ \u001b[1m16,512 \u001b[0m\u001b[1;2m(66.0 KB)\u001b[0m       │\n",
      "├─────────────────────┼─────────────┼────────────────────┼───────────────────┼────────────────────────┤\n",
      "│ up1/dense1/group2   │ GroupNorm   │ \u001b[2mfloat32\u001b[0m[128,128]   │ \u001b[2mfloat32\u001b[0m[128,128]  │ bias: \u001b[2mfloat32\u001b[0m[128]     │\n",
      "│                     │             │                    │                   │ scale: \u001b[2mfloat32\u001b[0m[128]    │\n",
      "│                     │             │                    │                   │                        │\n",
      "│                     │             │                    │                   │ \u001b[1m256 \u001b[0m\u001b[1;2m(1.0 KB)\u001b[0m           │\n",
      "├─────────────────────┼─────────────┼────────────────────┼───────────────────┼────────────────────────┤\n",
      "│ up1/emb_layer       │ Dense       │ \u001b[2mfloat32\u001b[0m[128,64]    │ \u001b[2mfloat32\u001b[0m[128,128]  │ bias: \u001b[2mfloat32\u001b[0m[128]     │\n",
      "│                     │             │                    │                   │ kernel:                │\n",
      "│                     │             │                    │                   │ \u001b[2mfloat32\u001b[0m[64,128]        │\n",
      "│                     │             │                    │                   │                        │\n",
      "│                     │             │                    │                   │ \u001b[1m8,320 \u001b[0m\u001b[1;2m(33.3 KB)\u001b[0m        │\n",
      "├─────────────────────┼─────────────┼────────────────────┼───────────────────┼────────────────────────┤\n",
      "│ up0                 │ Up          │ - \u001b[2mfloat32\u001b[0m[128,128] │ \u001b[2mfloat32\u001b[0m[128,64]   │                        │\n",
      "│                     │             │ - \u001b[2mfloat32\u001b[0m[128,64]  │                   │                        │\n",
      "│                     │             │ - \u001b[2mfloat32\u001b[0m[128,64]  │                   │                        │\n",
      "├─────────────────────┼─────────────┼────────────────────┼───────────────────┼────────────────────────┤\n",
      "│ up0/dense1          │ DoubleDense │ \u001b[2mfloat32\u001b[0m[128,192]   │ \u001b[2mfloat32\u001b[0m[128,64]   │                        │\n",
      "├─────────────────────┼─────────────┼────────────────────┼───────────────────┼────────────────────────┤\n",
      "│ up0/dense1/dense1   │ Dense       │ \u001b[2mfloat32\u001b[0m[128,192]   │ \u001b[2mfloat32\u001b[0m[128,64]   │ bias: \u001b[2mfloat32\u001b[0m[64]      │\n",
      "│                     │             │                    │                   │ kernel:                │\n",
      "│                     │             │                    │                   │ \u001b[2mfloat32\u001b[0m[192,64]        │\n",
      "│                     │             │                    │                   │                        │\n",
      "│                     │             │                    │                   │ \u001b[1m12,352 \u001b[0m\u001b[1;2m(49.4 KB)\u001b[0m       │\n",
      "├─────────────────────┼─────────────┼────────────────────┼───────────────────┼────────────────────────┤\n",
      "│ up0/dense1/group1   │ GroupNorm   │ \u001b[2mfloat32\u001b[0m[128,64]    │ \u001b[2mfloat32\u001b[0m[128,64]   │ bias: \u001b[2mfloat32\u001b[0m[64]      │\n",
      "│                     │             │                    │                   │ scale: \u001b[2mfloat32\u001b[0m[64]     │\n",
      "│                     │             │                    │                   │                        │\n",
      "│                     │             │                    │                   │ \u001b[1m128 \u001b[0m\u001b[1;2m(512 B)\u001b[0m            │\n",
      "├─────────────────────┼─────────────┼────────────────────┼───────────────────┼────────────────────────┤\n",
      "│ up0/dense1/dense2   │ Dense       │ \u001b[2mfloat32\u001b[0m[128,64]    │ \u001b[2mfloat32\u001b[0m[128,64]   │ bias: \u001b[2mfloat32\u001b[0m[64]      │\n",
      "│                     │             │                    │                   │ kernel: \u001b[2mfloat32\u001b[0m[64,64] │\n",
      "│                     │             │                    │                   │                        │\n",
      "│                     │             │                    │                   │ \u001b[1m4,160 \u001b[0m\u001b[1;2m(16.6 KB)\u001b[0m        │\n",
      "├─────────────────────┼─────────────┼────────────────────┼───────────────────┼────────────────────────┤\n",
      "│ up0/dense1/group2   │ GroupNorm   │ \u001b[2mfloat32\u001b[0m[128,64]    │ \u001b[2mfloat32\u001b[0m[128,64]   │ bias: \u001b[2mfloat32\u001b[0m[64]      │\n",
      "│                     │             │                    │                   │ scale: \u001b[2mfloat32\u001b[0m[64]     │\n",
      "│                     │             │                    │                   │                        │\n",
      "│                     │             │                    │                   │ \u001b[1m128 \u001b[0m\u001b[1;2m(512 B)\u001b[0m            │\n",
      "├─────────────────────┼─────────────┼────────────────────┼───────────────────┼────────────────────────┤\n",
      "│ up0/emb_layer       │ Dense       │ \u001b[2mfloat32\u001b[0m[128,64]    │ \u001b[2mfloat32\u001b[0m[128,64]   │ bias: \u001b[2mfloat32\u001b[0m[64]      │\n",
      "│                     │             │                    │                   │ kernel: \u001b[2mfloat32\u001b[0m[64,64] │\n",
      "│                     │             │                    │                   │                        │\n",
      "│                     │             │                    │                   │ \u001b[1m4,160 \u001b[0m\u001b[1;2m(16.6 KB)\u001b[0m        │\n",
      "├─────────────────────┼─────────────┼────────────────────┼───────────────────┼────────────────────────┤\n",
      "│ outc                │ Dense       │ \u001b[2mfloat32\u001b[0m[128,64]    │ \u001b[2mfloat32\u001b[0m[128,2]    │ bias: \u001b[2mfloat32\u001b[0m[2]       │\n",
      "│                     │             │                    │                   │ kernel: \u001b[2mfloat32\u001b[0m[64,2]  │\n",
      "│                     │             │                    │                   │                        │\n",
      "│                     │             │                    │                   │ \u001b[1m130 \u001b[0m\u001b[1;2m(520 B)\u001b[0m            │\n",
      "├─────────────────────┼─────────────┼────────────────────┼───────────────────┼────────────────────────┤\n",
      "│\u001b[1m \u001b[0m\u001b[1m                   \u001b[0m\u001b[1m \u001b[0m│\u001b[1m \u001b[0m\u001b[1m           \u001b[0m\u001b[1m \u001b[0m│\u001b[1m \u001b[0m\u001b[1m                  \u001b[0m\u001b[1m \u001b[0m│\u001b[1m \u001b[0m\u001b[1m            Total\u001b[0m\u001b[1m \u001b[0m│\u001b[1m \u001b[0m\u001b[1m3,856,194 \u001b[0m\u001b[1;2m(15.4 MB)\u001b[0m\u001b[1m   \u001b[0m\u001b[1m \u001b[0m│\n",
      "└─────────────────────┴─────────────┴────────────────────┴───────────────────┴────────────────────────┘\n",
      "\u001b[1m                                                                                                       \u001b[0m\n",
      "\u001b[1m                                 Total Parameters: 3,856,194 \u001b[0m\u001b[1;2m(15.4 MB)\u001b[0m\u001b[1m                                 \u001b[0m\n",
      "\n",
      "\n"
     ]
    }
   ],
   "source": [
    "# Generate dataset of 2D Gaussians\n",
    "X = df.generate_data(21, 2000)\n",
    "print(X.shape)\n",
    "\n",
    "# Make the data suitable for a JAX Dataloader\n",
    "train_dataset = df.JaxDataset(X=X)\n",
    "train_loader = df.NumpyLoader(dataset=train_dataset,\n",
    "                              batch_size=128,\n",
    "                              shuffle=True)\n",
    "batch = next(iter(train_loader))\n",
    "\n",
    "# Create random array of noise to instantiate model to print model summary\n",
    "model = UNet(depth=4,\n",
    "             initial_feature=64,\n",
    "             out_feature=2,\n",
    "             std_data=0.5,\n",
    "             embedding_dim=64)\n",
    "\n",
    "\n",
    "rng = random.PRNGKey(2)\n",
    "rnd_normal = random.normal(rng, shape=(batch.shape[0], 1))\n",
    "t = jnp.exp(rnd_normal * 1.2 - 1.2)\n",
    "t = t.squeeze()\n",
    "t = jnp.log(t.flatten()) / 4.\n",
    "print(type(t))\n",
    "\n",
    "print(model.tabulate(jax.random.PRNGKey(9), batch, t))"
   ]
  },
  {
   "cell_type": "markdown",
   "id": "6f4ca9f0-edb9-4582-bcc1-58718e043ba9",
   "metadata": {},
   "source": [
    "# 3. Training Loop"
   ]
  },
  {
   "cell_type": "code",
   "execution_count": 44,
   "id": "59a9c807-4247-4f0a-bf57-1152fc3054f9",
   "metadata": {},
   "outputs": [
    {
     "data": {
      "text/html": [
       "Finishing last run (ID:31rf4qs1) before initializing another..."
      ],
      "text/plain": [
       "<IPython.core.display.HTML object>"
      ]
     },
     "metadata": {},
     "output_type": "display_data"
    },
    {
     "data": {
      "text/html": [
       "Waiting for W&B process to finish... <strong style=\"color:green\">(success).</strong>"
      ],
      "text/plain": [
       "<IPython.core.display.HTML object>"
      ]
     },
     "metadata": {},
     "output_type": "display_data"
    },
    {
     "data": {
      "text/html": [
       "<style>\n",
       "    table.wandb td:nth-child(1) { padding: 0 10px; text-align: left ; width: auto;} td:nth-child(2) {text-align: left ; width: 100%}\n",
       "    .wandb-row { display: flex; flex-direction: row; flex-wrap: wrap; justify-content: flex-start; width: 100% }\n",
       "    .wandb-col { display: flex; flex-direction: column; flex-basis: 100%; flex: 1; padding: 10px; }\n",
       "    </style>\n",
       "<div class=\"wandb-row\"><div class=\"wandb-col\"><h3>Run history:</h3><br/><table class=\"wandb\"><tr><td>Train Loss</td><td>█▆▄▃▃▂▂▂▁▁▁▁▁▁▁▁▁▁▁▁▁▁▁▁▁▁▁▁▁▁▁▁▁▁▁▁▁▁▁▁</td></tr></table><br/></div><div class=\"wandb-col\"><h3>Run summary:</h3><br/><table class=\"wandb\"><tr><td>Train Loss</td><td>3.25721</td></tr></table><br/></div></div>"
      ],
      "text/plain": [
       "<IPython.core.display.HTML object>"
      ]
     },
     "metadata": {},
     "output_type": "display_data"
    },
    {
     "data": {
      "text/html": [
       " View run <strong style=\"color:#cdcd00\">vocal-flower-270</strong> at: <a href='https://wandb.ai/mdowicz/toy_pfgmpp/runs/31rf4qs1' target=\"_blank\">https://wandb.ai/mdowicz/toy_pfgmpp/runs/31rf4qs1</a><br/>Synced 6 W&B file(s), 0 media file(s), 0 artifact file(s) and 0 other file(s)"
      ],
      "text/plain": [
       "<IPython.core.display.HTML object>"
      ]
     },
     "metadata": {},
     "output_type": "display_data"
    },
    {
     "data": {
      "text/html": [
       "Find logs at: <code>/home/mdowicz/PFGMPP/saved_models/toy/wandb/run-20230815_105438-31rf4qs1/logs</code>"
      ],
      "text/plain": [
       "<IPython.core.display.HTML object>"
      ]
     },
     "metadata": {},
     "output_type": "display_data"
    },
    {
     "data": {
      "text/html": [
       "Successfully finished last run (ID:31rf4qs1). Initializing new run:<br/>"
      ],
      "text/plain": [
       "<IPython.core.display.HTML object>"
      ]
     },
     "metadata": {},
     "output_type": "display_data"
    },
    {
     "data": {
      "text/html": [
       "wandb version 0.15.8 is available!  To upgrade, please run:\n",
       " $ pip install wandb --upgrade"
      ],
      "text/plain": [
       "<IPython.core.display.HTML object>"
      ]
     },
     "metadata": {},
     "output_type": "display_data"
    },
    {
     "data": {
      "text/html": [
       "Tracking run with wandb version 0.15.5"
      ],
      "text/plain": [
       "<IPython.core.display.HTML object>"
      ]
     },
     "metadata": {},
     "output_type": "display_data"
    },
    {
     "data": {
      "text/html": [
       "Run data is saved locally in <code>/home/mdowicz/PFGMPP/saved_models/toy/wandb/run-20230815_110531-4n311v5o</code>"
      ],
      "text/plain": [
       "<IPython.core.display.HTML object>"
      ]
     },
     "metadata": {},
     "output_type": "display_data"
    },
    {
     "data": {
      "text/html": [
       "Syncing run <strong><a href='https://wandb.ai/mdowicz/toy_pfgmpp/runs/4n311v5o' target=\"_blank\">iconic-paper-271</a></strong> to <a href='https://wandb.ai/mdowicz/toy_pfgmpp' target=\"_blank\">Weights & Biases</a> (<a href='https://wandb.me/run' target=\"_blank\">docs</a>)<br/>"
      ],
      "text/plain": [
       "<IPython.core.display.HTML object>"
      ]
     },
     "metadata": {},
     "output_type": "display_data"
    },
    {
     "data": {
      "text/html": [
       " View project at <a href='https://wandb.ai/mdowicz/toy_pfgmpp' target=\"_blank\">https://wandb.ai/mdowicz/toy_pfgmpp</a>"
      ],
      "text/plain": [
       "<IPython.core.display.HTML object>"
      ]
     },
     "metadata": {},
     "output_type": "display_data"
    },
    {
     "data": {
      "text/html": [
       " View run at <a href='https://wandb.ai/mdowicz/toy_pfgmpp/runs/4n311v5o' target=\"_blank\">https://wandb.ai/mdowicz/toy_pfgmpp/runs/4n311v5o</a>"
      ],
      "text/plain": [
       "<IPython.core.display.HTML object>"
      ]
     },
     "metadata": {},
     "output_type": "display_data"
    },
    {
     "name": "stderr",
     "output_type": "stream",
     "text": [
      "100%|██████████| 150/150 [10:53<00:00,  4.36s/it]\n"
     ]
    }
   ],
   "source": [
    "config = {\n",
    "    'seed': 47,\n",
    "    'batch_size': 64,\n",
    "    'learning_rate': 1e-3,\n",
    "    'epochs': 150,\n",
    "    'std_data': 0.5, \n",
    "    'depth': 4,\n",
    "    'initial_feature': 256,\n",
    "    'out_feature': 2,\n",
    "    'embedding_dim': 128,\n",
    "    'D': 10,\n",
    "    'N': 2\n",
    "}\n",
    "\n",
    "# Get the rng & model instantiated\n",
    "init_rng = random.PRNGKey(0)\n",
    "rng, subkey1, subkey2, subkey3 = random.split(init_rng, num=4)\n",
    "model = UNet(depth=config['depth'],\n",
    "             initial_feature=config['initial_feature'],\n",
    "             out_feature=config['out_feature'],\n",
    "             std_data=config['std_data'],\n",
    "             embedding_dim=config['embedding_dim']\n",
    ")\n",
    "\n",
    "# Sample the noise distribution\n",
    "subkey4 = random.PRNGKey(32)\n",
    "rnd_normal = random.normal(subkey2, shape=(batch.shape[0], 1))\n",
    "t = jnp.exp(rnd_normal * 1.2 - 1.2)  \n",
    "\n",
    "# Initialize the models state\n",
    "state = trm.init_train_state(model=model,\n",
    "                               random_key=subkey3,\n",
    "                               x_shape=batch.shape,\n",
    "                               t_shape=t.shape,\n",
    "                               learning_rate=config['learning_rate'])\n",
    "\n",
    "# Call the training function\n",
    "model, state = trm.train_model(train_loader, model, state, config, wandb_logging=True)"
   ]
  },
  {
   "cell_type": "markdown",
   "id": "cc846609-d24b-4cb9-bbdc-6734ed2744e3",
   "metadata": {},
   "source": [
    "# 4. Sampling Loop"
   ]
  },
  {
   "cell_type": "code",
   "execution_count": 46,
   "id": "a0c038de-e071-45b6-ad2b-4aa973247e80",
   "metadata": {},
   "outputs": [],
   "source": [
    "config = {\n",
    "    'std_data': 0.5, \n",
    "    'depth': 4,\n",
    "    'initial_feature': 256,\n",
    "    'out_feature': 2,\n",
    "    'embedding_dim': 128,\n",
    "    'D': 10,\n",
    "    'N': 2\n",
    "}\n",
    "\n",
    "model = UNet(depth=config['depth'],\n",
    "             initial_feature=config['initial_feature'],\n",
    "             out_feature=config['out_feature'],\n",
    "             std_data=config['std_data'],\n",
    "             embedding_dim=config['embedding_dim']\n",
    ")\n",
    "\n",
    "\n",
    "batch = next(iter(train_loader))\n",
    "\n",
    "updated_model = gen.load_checkpoint(ckpt_dir='PFGMPP/saved_models/toy/checkpoint_iconic-paper-271.flax',\n",
    "                                ckpt_file='checkpoint',\n",
    "                                model=model)"
   ]
  },
  {
   "cell_type": "code",
   "execution_count": 48,
   "id": "2ca8b834-f4d8-4b69-8f15-dda01614a6ac",
   "metadata": {},
   "outputs": [
    {
     "name": "stderr",
     "output_type": "stream",
     "text": [
      "50it [00:14,  3.35it/s]\n"
     ]
    }
   ],
   "source": [
    "samples, orig = gen.sample_loop(updated_model,\n",
    "                                  num_steps=50,\n",
    "                                  max_t=80,\n",
    "                                  min_t=0.1,\n",
    "                                  sample_size=2000,\n",
    "                                  S_churn=0,\n",
    "                                  S_min=0.01,\n",
    "                                  S_max=2,\n",
    "                                  S_noise=1,\n",
    "                                  D=10,\n",
    "                                  N=2,\n",
    "                                  rho=7,\n",
    "                                  std_data=0.5,\n",
    "                                  key_seed=43)"
   ]
  },
  {
   "cell_type": "markdown",
   "id": "a79c3bee-0796-4623-998f-4f3e771a171c",
   "metadata": {},
   "source": [
    "# 5. Visualize Generated Data"
   ]
  },
  {
   "cell_type": "code",
   "execution_count": 50,
   "id": "70e8b07f-6966-4b3b-8e1b-745c90b02b4e",
   "metadata": {},
   "outputs": [
    {
     "data": {
      "image/png": "[encoded data removed]",
      "text/plain": [
       "<Figure size 1152x288 with 3 Axes>"
      ]
     },
     "metadata": {
      "needs_background": "light"
     },
     "output_type": "display_data"
    }
   ],
   "source": [
    "vis.sampling2D(prior_data=orig,\n",
    "               true_data=X,\n",
    "               sampled_data=samples,\n",
    "               std=0.2,\n",
    "               mean_scale=1)"
   ]
  }
 ],
 "metadata": {
  "kernelspec": {
   "display_name": "Python 3",
   "language": "python",
   "name": "python3"
  },
  "language_info": {
   "codemirror_mode": {
    "name": "ipython",
    "version": 3
   },
   "file_extension": ".py",
   "mimetype": "text/x-python",
   "name": "python",
   "nbconvert_exporter": "python",
   "pygments_lexer": "ipython3",
   "version": "3.8.13"
  }
 },
 "nbformat": 4,
 "nbformat_minor": 5
}
