{
 "cells": [
  {
   "cell_type": "code",
   "execution_count": 4,
   "id": "d2730020-43e5-458a-a3c8-8b27ddb18dfb",
   "metadata": {},
   "outputs": [],
   "source": [
    "# Basic Imports\n",
    "import os\n",
    "os.environ[\"CUDA_VISIBLE_DEVICES\"] = \"1\"\n",
    "import sys\n",
    "import json\n",
    "from typing import Any, Sequence, Optional, Tuple, Iterator, Dict, Callable, Union, Type, List\n",
    "import numpy as np\n",
    "import scipy\n",
    "import matplotlib.pyplot as plt\n",
    "\n",
    "\n",
    "# Changing fonts to be latex typesetting\n",
    "from matplotlib import rcParams\n",
    "rcParams['mathtext.fontset'] = 'dejavuserif'\n",
    "rcParams['font.family'] = 'serif'\n",
    "\n",
    "wandb_dir = os.path.join(os.path.expanduser('~'), \"PFGMPP\")\n",
    "os.environ[\"WANDB_DIR\"] = os.path.abspath(wandb_dir)"
   ]
  },
  {
   "cell_type": "markdown",
   "id": "fcfcc429-d877-4a53-b7cb-90445de8fbb1",
   "metadata": {},
   "source": [
    "# Goal\n",
    "\n",
    "The goal for this notebook was to double check Davids intuition about how the integral of a gaussian likelihood from $-\\infty$ to $x$ would be uniformly sampled. We do this because we want to see if the ODE formulation for SBGM in this [JAX colab notebook](https://colab.research.google.com/drive/1SeXMpILhkJPjXUaesvzEhc3Ke6Zl_zxJ?usp=sharing), which allows for exact likelihood computation, is correct. We want to do this because there is no visualization of the outputs of the likelihood computation in the colab notebook. It also assumes the conditional probability distributions would be Gaussian (**READ THE PAPER FOR THIS TO CONFIRM**), so doing this basic test would be useful test.\n",
    "\n",
    "To do this we:\n",
    "1. Sample from a Gaussian distribution\n",
    "2. Calculate the (Gaussian) likelihood for these gaussian sampled random variables\n",
    "3. Calculate the integral of the likelihood from negative infinity to the rv of choice: $CDF(x) = \\int_{-\\infty}^x LL(x) dx$\n",
    "4. Plot the histogram $CDF(x)$ and see that it's uniformly distributed.\n",
    "\n",
    "If it's uniformly distributed then we know that the samples actually came from (Gaussian) LL.\n",
    "\n",
    "**NOTE:** Read Kevin Murphy's Notes on [Gaussians](https://www.ics.uci.edu/~smyth/courses/cs274/readings/Murphy_multivariate_gaussians.pdf), as well as, [Chapter 6.5](https://mml-book.github.io/book/mml-book.pdf) of the Mathematics for Machine Learning book for understanding the CDF of gaussians."
   ]
  },
  {
   "cell_type": "code",
   "execution_count": 7,
   "id": "f1acc8a5-805b-4b73-a77a-82af685ad3b1",
   "metadata": {},
   "outputs": [],
   "source": [
    "def plot_likelihoods(mu=1, sigma=2, n=100000, seed=123):\n",
    "\n",
    "    rng = np.random.RandomState(123)\n",
    "    # Generate samples from a normal distribution.\n",
    "    x = rng.normal(loc=mu, scale=sigma, size=n)\n",
    "    # The likelihood of x is\n",
    "    L = np.exp(-0.5 * ((x - mu) / sigma)**2) / (sigma * np.sqrt(2 * np.pi))\n",
    "    # Calculate the integral of L from -inf to x\n",
    "    C = 0.5 * scipy.special.erfc((mu - x)/(np.sqrt(2)*sigma))\n",
    "    # Check that values of C have a uniform Distribution\n",
    "    plt.hist(C, bins=50)"
   ]
  },
  {
   "cell_type": "code",
   "execution_count": 8,
   "id": "6007def3-7fd5-49f2-a5c6-4d448d34c4d5",
   "metadata": {},
   "outputs": [
    {
     "data": {
      "image/png": "[encoded data removed]",
      "text/plain": [
       "<Figure size 432x288 with 1 Axes>"
      ]
     },
     "metadata": {
      "needs_background": "light"
     },
     "output_type": "display_data"
    }
   ],
   "source": [
    "plot_likelihoods()"
   ]
  },
  {
   "cell_type": "markdown",
   "id": "2fc9253c-1650-4f15-946e-025475dcf81c",
   "metadata": {},
   "source": [
    "Now let's try for some outliers"
   ]
  },
  {
   "cell_type": "code",
   "execution_count": 13,
   "id": "fcd91e0c-f8b9-4ec1-bd92-407d10c3099c",
   "metadata": {},
   "outputs": [],
   "source": [
    "def plot_likelihoods_outliers(mu=1, sigma=2, n=100000, seed=123):\n",
    "\n",
    "    rng = np.random.RandomState(123)\n",
    "    # Generate samples from a normal distribution.\n",
    "    x = rng.normal(loc=mu, scale=sigma, size=n)\n",
    "    # Generate outlier samples from a multimodal distribution\n",
    "    outliers_x1 = rng.normal(loc=-4, scale=1.5, size=int(n//2))\n",
    "    outliers_x2 = rng.normal(loc=4, scale=0.4, size=int(n//2))\n",
    "    outliers = np.concatenate([outliers_x1, outliers_x2])\n",
    "    \n",
    "    # The likelihood of x is\n",
    "    L = np.exp(-0.5 * ((x - mu) / sigma)**2) / (sigma * np.sqrt(2 * np.pi))\n",
    "    # The likelihood of outliers is\n",
    "    L_out = np.exp(-0.5 * ((outliers - mu) / sigma)**2) / (sigma * np.sqrt(2 * np.pi))\n",
    "    \n",
    "    # Calculate the integral of L from -inf to x\n",
    "    C = 0.5 * scipy.special.erfc((mu - x)/(np.sqrt(2)*sigma))\n",
    "    # Calculate the integral of L from -inf to x\n",
    "    C_out = 0.5 * scipy.special.erfc((mu - outliers)/(np.sqrt(2)*sigma))\n",
    "    \n",
    "    plt.hist(C, bins=50, alpha=0.5, label='True data') # Check that values of C have a uniform Distribution\n",
    "    plt.hist(C_out, bins=50, alpha=0.5, label='Outliers') # Check that values of C_out do not have a uniform Distribution\n",
    "    plt.legend()"
   ]
  },
  {
   "cell_type": "code",
   "execution_count": 14,
   "id": "592d5d69-f454-49d2-ad4d-6248e25b4a88",
   "metadata": {},
   "outputs": [
    {
     "data": {
      "image/png": "[encoded data removed]",
      "text/plain": [
       "<Figure size 432x288 with 1 Axes>"
      ]
     },
     "metadata": {
      "needs_background": "light"
     },
     "output_type": "display_data"
    }
   ],
   "source": [
    "plot_likelihoods_outliers()"
   ]
  },
  {
   "cell_type": "markdown",
   "id": "a3b53fde-c8dc-43c1-afd4-1e7ce1b0d0c9",
   "metadata": {},
   "source": [
    "As we see. Samples that are from a Gaussian have a Uniform CDF, while samples that are from a non-Gaussian distribution have a peaked distribution. **Why?**"
   ]
  },
  {
   "cell_type": "markdown",
   "id": "40bb2b4d-54a9-431f-8a66-a7041160db9e",
   "metadata": {
    "jp-MarkdownHeadingCollapsed": true
   },
   "source": [
    "# LL"
   ]
  },
  {
   "cell_type": "markdown",
   "id": "cb072d37-6ffa-4fbc-8354-fc7dd695b203",
   "metadata": {},
   "source": [
    "## Goal\n",
    "\n",
    "The goal for this notebook was to double check Davids intuition about how likelihoods would be distributed uniformly. To do this we use a simple normal distribution. We sample from said distribution, calculated the LL of those samples being from a normal distribution, and plot the resulting likelihoods.\n",
    "\n",
    "The reason we do this test is because using the ODE formulation for SBGM allows one to do exact likelihood computation and in the [JAX colab notebook](https://colab.research.google.com/drive/1SeXMpILhkJPjXUaesvzEhc3Ke6Zl_zxJ?usp=sharing) of Yang Song they don't visualize the LL distribution, but rather just calculate it for a batch of samples. Because of this lack of visualization David wanted to make sure the LL computation was correct and the way to do that (**he thinks**), is to see if the likelihoods are normally distributed."
   ]
  },
  {
   "cell_type": "code",
   "execution_count": null,
   "id": "5f71a4d2-b710-45c1-ac09-2dbfd197c701",
   "metadata": {},
   "outputs": [],
   "source": [
    "# Generate some data from a normal distribution\n",
    "xs = np.random.normal(size=(10000,))\n",
    "\n",
    "# Function to compute the Gaussian likelihood\n",
    "def gauss_LL(x):\n",
    "    LL = (1 / np.sqrt(2*np.pi)) * np.exp(-x**2 / 2)\n",
    "    return LL\n",
    "\n",
    "# Compute the likelihoods\n",
    "likelihoods = gauss_LL(xs)\n",
    "# likelihoods = norm.pdf(xs, loc=0, scale=1)\n",
    "\n",
    "# Create a 1x2 grid of subplots\n",
    "fig, axes = plt.subplots(1, 2, figsize=(18, 6))\n",
    "\n",
    "# Plot the histogram of the data on the first subplot\n",
    "axes[0].hist(xs, bins=100)\n",
    "axes[0].set_title(\"Histogram of the data\")\n",
    "axes[1].hist(likelihoods, bins=100)\n",
    "axes[1].set_title(\"Histogram of Likelihoods\")\n",
    "\n",
    "# Show both plots\n",
    "plt.tight_layout()\n",
    "plt.show()"
   ]
  },
  {
   "cell_type": "markdown",
   "id": "374b2b0d-3663-4e64-839c-1750b3755b12",
   "metadata": {
    "jp-MarkdownHeadingCollapsed": true
   },
   "source": [
    "## Main Results\n",
    "\n",
    "We see that the distribution of likelihoods are **NOT** uniformly distributed, but rather has a large peak of values of $\\sim 0.40$. \n",
    "\n",
    "**Why is this the case?**\n",
    "- It is due to the fact that the likelihoods will be higher for points closer to the mean ($0$ in this case), since the points are more \"likely\" under a Gaussian distribution centered around the mean.\n",
    "    - Note that the value of $0.40$ is in fact the LL of 0 i.e.:\n",
    "      $$f(x | \\mu, \\sigma^2) = \\frac{1}{\\sqrt{2\\pi\\sigma^2}} \\text{exp}(-\\frac{(x-\\mu)^2}{2\\sigma^2}) $$\n",
    "      $$f(x | \\mu=0, \\sigma^2=1) = \\frac{1}{\\sqrt{2\\pi}} \\text{exp}(-\\frac{(x-0)^2}{2}) $$\n",
    "      $$f(x=0 | 0, 1) = \\frac{1}{\\sqrt{2\\pi}} \\text{exp}(0) = \\frac{1}{\\sqrt{2\\pi}} \\approx 0.40$$\n",
    "- The likelihoods of samples from a Gaussian distribution will themselves follow a distribution that reflects the shape of the original Gaussian distribution, peaked around the mean.\n"
   ]
  },
  {
   "cell_type": "markdown",
   "id": "cfc28d06-9369-4fc8-882a-4403a8a48ec2",
   "metadata": {},
   "source": [
    "## Outlier testing"
   ]
  },
  {
   "cell_type": "code",
   "execution_count": null,
   "id": "744a64a5-9ac7-402d-8f5f-41079a491288",
   "metadata": {},
   "outputs": [],
   "source": [
    "samples1 = np.random.normal(-4, 1.5, size=(5000,))\n",
    "samples2 = np.random.normal(4, 0.7, size=(5000,))\n",
    "outlier_arr = np.concatenate([samples1, samples2])\n",
    "\n",
    "outlier_LL = gauss_LL(outlier_arr)\n",
    "\n",
    "fig, axes = plt.subplots(1, 2, figsize=(16, 6))\n",
    "\n",
    "# Plot the histogram of the data on the first subplot\n",
    "axes[0].hist(outlier_arr, alpha=0.5, bins=100, label='Outliers')\n",
    "axes[0].hist(xs, alpha=0.5, bins=100, label='True Data')\n",
    "axes[0].set_xlabel(\"Value\")\n",
    "axes[0].set_ylabel(\"Frequency\")\n",
    "axes[0].set_title(\"Distribution of Data\")\n",
    "axes[0].legend()\n",
    "\n",
    "axes[1].hist(outlier_LL, bins=100, alpha=0.5, label='Outlier LL')\n",
    "axes[1].hist(likelihoods, bins=100, alpha=0.5, label='True Data LL')\n",
    "axes[1].set_xlabel(\"Value\")\n",
    "axes[1].set_ylabel(\"Frequency\")\n",
    "axes[1].set_title(\"Histogram of outlier Likelihoods\")\n",
    "axes[1].legend()\n",
    "\n",
    "# Show both plots\n",
    "plt.tight_layout()\n",
    "plt.show()"
   ]
  },
  {
   "cell_type": "markdown",
   "id": "b7b4e734-90be-4d88-83fb-fb1644ab6387",
   "metadata": {},
   "source": [
    "**Results:**\n",
    "- See that our mixture model has very low probability (see the large blue peak centered at 0 on the right plot). Which makes sense because there is very little overlap between the original Gaussian distribution (orange) and the mixture models samples (in blue)."
   ]
  },
  {
   "cell_type": "code",
   "execution_count": null,
   "id": "87c8a024-2c3f-4e62-a4b8-970112cb7ae2",
   "metadata": {},
   "outputs": [],
   "source": []
  }
 ],
 "metadata": {
  "kernelspec": {
   "display_name": "Python 3",
   "language": "python",
   "name": "python3"
  },
  "language_info": {
   "codemirror_mode": {
    "name": "ipython",
    "version": 3
   },
   "file_extension": ".py",
   "mimetype": "text/x-python",
   "name": "python",
   "nbconvert_exporter": "python",
   "pygments_lexer": "ipython3",
   "version": "3.8.13"
  }
 },
 "nbformat": 4,
 "nbformat_minor": 5
}
