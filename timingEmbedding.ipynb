{
 "cells": [
  {
   "cell_type": "code",
   "execution_count": 1,
   "id": "4f14c8f5",
   "metadata": {},
   "outputs": [],
   "source": [
    "import torch\n",
    "import numpy as np\n",
    "from typing import Any, List, Sequence, Optional, Tuple, Iterator, Dict, Callable, Union, Type\n",
    "\n",
    "import jax\n",
    "from jax import jit\n",
    "import jax.numpy as jnp"
   ]
  },
  {
   "cell_type": "code",
   "execution_count": 2,
   "id": "b9dd3919",
   "metadata": {},
   "outputs": [],
   "source": [
    "def pos_encoding(t, channels):\n",
    "    t = t.unsqueeze(-1).type(torch.float)\n",
    "    \n",
    "    inv_freq = 1.0 / (\n",
    "        10000\n",
    "        ** (torch.arange(0, channels, 2).float() / channels)\n",
    "    )\n",
    "    pos_enc_a = torch.sin(t.repeat(1, channels // 2) * inv_freq)\n",
    "    pos_enc_b = torch.cos(t.repeat(1, channels // 2) * inv_freq)\n",
    "    pos_enc = torch.cat([pos_enc_a, pos_enc_b], dim=1)\n",
    "    return pos_enc\n",
    "        "
   ]
  },
  {
   "cell_type": "code",
   "execution_count": 3,
   "id": "a5717cad",
   "metadata": {},
   "outputs": [
    {
     "name": "stdout",
     "output_type": "stream",
     "text": [
      "torch.Size([4])\n",
      "torch.Size([4, 256])\n"
     ]
    }
   ],
   "source": [
    "t = torch.Tensor([100, 200, 300, 400])\n",
    "print(t.shape)\n",
    "enc = pos_encoding(t, channels=256)\n",
    "print(enc.shape)"
   ]
  },
  {
   "cell_type": "code",
   "execution_count": 4,
   "id": "9bf7adbc",
   "metadata": {},
   "outputs": [
    {
     "name": "stdout",
     "output_type": "stream",
     "text": [
      "tensor([100., 200., 300., 400.])\n",
      "tensor([[-0.5064, -0.9286, -0.9795,  ...,  0.9999,  0.9999,  0.9999],\n",
      "        [-0.8733, -0.6892, -0.3943,  ...,  0.9997,  0.9997,  0.9998],\n",
      "        [-0.9998,  0.4170,  0.8208,  ...,  0.9993,  0.9994,  0.9995],\n",
      "        [-0.8509,  0.9988,  0.7247,  ...,  0.9988,  0.9989,  0.9991]])\n"
     ]
    }
   ],
   "source": [
    "print(t)\n",
    "print(enc)"
   ]
  },
  {
   "cell_type": "markdown",
   "id": "8eecbedf",
   "metadata": {},
   "source": [
    "$$\\text{P}(k, 2i) = \\text{sin}\\Big(\\frac{k}{n^{2i/d}} \\Big)$$\n",
    "$$\\text{P}(k, 2i+1) = \\text{cos}\\Big(\\frac{k}{n^{2i/d}} \\Big)$$\n",
    "\n",
    "See [this]() article abut p"
   ]
  },
  {
   "cell_type": "code",
   "execution_count": 5,
   "id": "291f2a41-07ba-4f5c-891b-e7e530704b99",
   "metadata": {},
   "outputs": [
    {
     "name": "stdout",
     "output_type": "stream",
     "text": [
      "<class 'jaxlib.xla_extension.ArrayImpl'>\n",
      "(4, 256)\n",
      "[[-0.50636566  0.8623189  -0.9285823  ...  0.9999333   0.01074587\n",
      "   0.99994224]\n",
      " [-0.87329733  0.48718765 -0.68924314 ...  0.9997333   0.0214905\n",
      "   0.99976903]\n",
      " [-0.99975586 -0.02209662  0.41700336 ...  0.99939996  0.03223265\n",
      "   0.99948037]\n",
      " [-0.85091937 -0.52529633  0.9987548  ...  0.9989334   0.04297107\n",
      "   0.9990763 ]]\n"
     ]
    }
   ],
   "source": [
    "def getPositionEncoding(t: List[int], d: int, n: int = 10000) -> np.ndarray:\n",
    "    \"\"\"\n",
    "    Generate the positional encoding for given positions 't' and dimension 'd'.\n",
    "    The encoding has sine values at even indices and cosine values at odd indices.\n",
    "\n",
    "    Args:\n",
    "    -----\n",
    "        t: List[int]\n",
    "            List of positions for which the encoding is to be generated.\n",
    "        d: int\n",
    "            Dimension of the encoding vector for each position.\n",
    "        n: int\n",
    "            The base of the denominator in the encoding formula. Default value is 10000.\n",
    "\n",
    "    Returns:\n",
    "    --------\n",
    "        P: np.ndarray\n",
    "            A 2D numpy array with shape (len(t), d) representing the positional encoding.\n",
    "    \"\"\"\n",
    "\n",
    "    # Determine the number of positions\n",
    "    seq_len = len(t)\n",
    "    \n",
    "    # Initialize the encoding matrix with zeros\n",
    "    P = jnp.zeros((seq_len, d))\n",
    "\n",
    "    # For each position in t\n",
    "    for k_idx, k in enumerate(t):\n",
    "        # For each dimension up to d/2\n",
    "        for i in jnp.arange(int(d/2)):\n",
    "            # Calculate the denominator for this dimension\n",
    "            denominator = jnp.power(n, 2*i/d)\n",
    "\n",
    "            # Calculate the sine and cosine encoding for this position and dimension\n",
    "            # P[k_idx, 2*i] = jnp.sin(k/denominator)\n",
    "            # P[k_idx, 2*i+1] = jnp.cos(k/denominator)\n",
    "            # x = x.at[idx].set(y)\n",
    "            P = P.at[k_idx, 2*i].set(jnp.sin(k/denominator))\n",
    "            P = P.at[k_idx, 2*i+1].set(jnp.cos(k/denominator))\n",
    "    \n",
    "    return P\n",
    "\n",
    "\n",
    "t = jnp.array([100, 200, 300, 400])\n",
    "print(type(t))\n",
    "P = getPositionEncoding(t, d=256)\n",
    "print(P.shape)\n",
    "print(P)"
   ]
  },
  {
   "cell_type": "code",
   "execution_count": 6,
   "id": "dcb84a10-a8ea-4726-a20b-ca84acf91428",
   "metadata": {},
   "outputs": [],
   "source": [
    "def getPositionEncodingNumpy(t: List[int], d: int, n: int = 10000) -> np.ndarray:\n",
    "    \"\"\"\n",
    "    Generate the positional encoding for given positions 't' and dimension 'd'.\n",
    "    The encoding has sine values at even indices and cosine values at odd indices.\n",
    "\n",
    "    Args:\n",
    "    -----\n",
    "        t: List[int]\n",
    "            List of positions for which the encoding is to be generated.\n",
    "        d: int\n",
    "            Dimension of the encoding vector for each position.\n",
    "        n: int\n",
    "            The base of the denominator in the encoding formula. Default value is 10000.\n",
    "\n",
    "    Returns:\n",
    "    --------\n",
    "        P: np.ndarray\n",
    "            A 2D numpy array with shape (len(t), d) representing the positional encoding.\n",
    "    \"\"\"\n",
    "\n",
    "    # Determine the number of positions\n",
    "    seq_len = len(t)\n",
    "    \n",
    "    # Initialize the encoding matrix with zeros\n",
    "    P = np.zeros((seq_len, d))\n",
    "\n",
    "    # For each position in t\n",
    "    for k_idx, k in enumerate(t):\n",
    "        # For each dimension up to d/2\n",
    "        for i in np.arange(int(d/2)):\n",
    "            # Calculate the denominator for this dimension\n",
    "            denominator = np.power(n, 2*i/d)\n",
    "\n",
    "            # Calculate the sine and cosine encoding for this position and dimension\n",
    "            P[k_idx, 2*i] = np.sin(k/denominator)\n",
    "            P[k_idx, 2*i+1] = np.cos(k/denominator)\n",
    "    \n",
    "    return P"
   ]
  },
  {
   "cell_type": "markdown",
   "id": "9d02ee9a-07a7-4e75-a6b4-1742d5b5a79a",
   "metadata": {},
   "source": [
    "**Testing for small sequences**"
   ]
  },
  {
   "cell_type": "code",
   "execution_count": 7,
   "id": "e6b310ca-c7a2-440f-9010-1c40289d8560",
   "metadata": {},
   "outputs": [
    {
     "name": "stdout",
     "output_type": "stream",
     "text": [
      "2.76 s ± 57.6 ms per loop (mean ± std. dev. of 7 runs, 1 loop each)\n"
     ]
    }
   ],
   "source": [
    "t = jnp.array([100, 200, 300, 400])\n",
    "%timeit getPositionEncoding(t, d=256).block_until_ready()"
   ]
  },
  {
   "cell_type": "code",
   "execution_count": 8,
   "id": "ff2fc1b9-6897-45c8-974e-6563fef21198",
   "metadata": {},
   "outputs": [
    {
     "name": "stdout",
     "output_type": "stream",
     "text": [
      "60.9 µs ± 79.4 ns per loop (mean ± std. dev. of 7 runs, 10,000 loops each)\n"
     ]
    }
   ],
   "source": [
    "t = torch.Tensor([100, 200, 300, 400]) \n",
    "%timeit pos_encoding(t, channels=256)"
   ]
  },
  {
   "cell_type": "code",
   "execution_count": 9,
   "id": "d0a85051-21b5-408b-ab14-0d7eddf81925",
   "metadata": {},
   "outputs": [
    {
     "name": "stdout",
     "output_type": "stream",
     "text": [
      "5.79 ms ± 1.02 ms per loop (mean ± std. dev. of 7 runs, 1 loop each)\n"
     ]
    }
   ],
   "source": [
    "t = jnp.array([100, 200, 300, 400])\n",
    "encodingJit = jit(getPositionEncoding, static_argnums=1)\n",
    "%timeit encodingJit(t, d=256).block_until_ready()"
   ]
  },
  {
   "cell_type": "code",
   "execution_count": 10,
   "id": "c17c1ff2-a844-48d2-bbf0-99cf8df6a0db",
   "metadata": {},
   "outputs": [
    {
     "name": "stdout",
     "output_type": "stream",
     "text": [
      "2.01 ms ± 14.5 µs per loop (mean ± std. dev. of 7 runs, 100 loops each)\n"
     ]
    }
   ],
   "source": [
    "t = np.array([100, 200, 300, 400])\n",
    "%timeit getPositionEncodingNumpy(t, d=256)"
   ]
  },
  {
   "cell_type": "markdown",
   "id": "142aad23-c100-4c73-9a41-157723558f47",
   "metadata": {},
   "source": [
    "**Testing for moderate sequences**"
   ]
  },
  {
   "cell_type": "code",
   "execution_count": 11,
   "id": "6b2731ac-0ffb-44cd-971d-2e556b245bb1",
   "metadata": {},
   "outputs": [
    {
     "name": "stdout",
     "output_type": "stream",
     "text": [
      "63.8 ms ± 37 µs per loop (mean ± std. dev. of 7 runs, 10 loops each)\n"
     ]
    }
   ],
   "source": [
    "images = np.random.randn(128, 10)\n",
    "noise_steps=1000\n",
    "t = np.random.randint(low=1, high=noise_steps, size=(images.shape[0],))\n",
    "\n",
    "%timeit getPositionEncodingNumpy(t, d=256)"
   ]
  },
  {
   "cell_type": "code",
   "execution_count": 12,
   "id": "90028b32-6c90-4bfd-b5e7-f628aeadca0d",
   "metadata": {},
   "outputs": [
    {
     "name": "stdout",
     "output_type": "stream",
     "text": [
      "1min 28s ± 523 ms per loop (mean ± std. dev. of 7 runs, 1 loop each)\n"
     ]
    }
   ],
   "source": [
    "key = jax.random.PRNGKey(0)  # Use a PRNGKey for random number generation\n",
    "images = jax.random.normal(key, (128,10))\n",
    "noise_steps=1000\n",
    "t = jax.random.randint(key, minval=1, maxval=noise_steps, shape=(images.shape[0],))\n",
    "\n",
    "%timeit getPositionEncoding(t, d=256).block_until_ready()"
   ]
  },
  {
   "cell_type": "code",
   "execution_count": 13,
   "id": "1391c95b-e709-4aa1-9bd7-050051e6b91d",
   "metadata": {},
   "outputs": [
    {
     "name": "stdout",
     "output_type": "stream",
     "text": [
      "126 µs ± 2.1 µs per loop (mean ± std. dev. of 7 runs, 10,000 loops each)\n"
     ]
    }
   ],
   "source": [
    "images = torch.randn(128, 10)\n",
    "noise_steps=1000\n",
    "t = torch.randint(low=1, high=noise_steps, size=(images.shape[0],))\n",
    "\n",
    "%timeit pos_encoding(t, channels=256)"
   ]
  },
  {
   "cell_type": "code",
   "execution_count": null,
   "id": "d98d8ab1-7aba-4075-abb8-4787b3723461",
   "metadata": {},
   "outputs": [],
   "source": [
    "key = jax.random.PRNGKey(0)  # Use a PRNGKey for random number generation\n",
    "images = jax.random.normal(key, (128,10))\n",
    "noise_steps=1000\n",
    "t = jax.random.randint(key, minval=1, maxval=noise_steps, shape=(images.shape[0],))\n",
    "\n",
    "encodingJit = jit(getPositionEncoding, static_argnums=1)\n",
    "%timeit encodingJit(t, d=256).block_until_ready()"
   ]
  },
  {
   "cell_type": "code",
   "execution_count": null,
   "id": "17e0025b-3978-4d35-a645-157aaf3b3424",
   "metadata": {},
   "outputs": [],
   "source": []
  }
 ],
 "metadata": {
  "kernelspec": {
   "display_name": "Python 3 (ipykernel)",
   "language": "python",
   "name": "python3"
  },
  "language_info": {
   "codemirror_mode": {
    "name": "ipython",
    "version": 3
   },
   "file_extension": ".py",
   "mimetype": "text/x-python",
   "name": "python",
   "nbconvert_exporter": "python",
   "pygments_lexer": "ipython3",
   "version": "3.8.13"
  }
 },
 "nbformat": 4,
 "nbformat_minor": 5
}
