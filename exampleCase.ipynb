{
 "cells": [
  {
   "cell_type": "code",
   "execution_count": 1,
   "id": "ab240329-9f2f-4915-8955-3ed75fbd4f0d",
   "metadata": {},
   "outputs": [],
   "source": [
    "# Basic Imports\n",
    "import os\n",
    "import sys\n",
    "from typing import Any, Sequence, Optional, Tuple, Iterator, Dict, Callable, Union, Type, List\n",
    "import numpy as np\n",
    "import matplotlib.pyplot as plt\n",
    "from copy import copy\n",
    "from functools import partial\n",
    "from tqdm import tqdm\n",
    "\n",
    "# Changing fonts to be latex typesetting\n",
    "from matplotlib import rcParams\n",
    "rcParams['mathtext.fontset'] = 'dejavuserif'\n",
    "rcParams['font.family'] = 'serif'\n",
    "\n",
    "# # PyTorch for Dataloaders\n",
    "# import torch.utils.data as data\n",
    "# from torch.utils.data import DataLoader, Dataset\n",
    "# from torchvision.datasets import MNIST\n",
    "import torch\n",
    "import torch.nn as tnn\n",
    "\n",
    "# Flax training loop\n",
    "from flax import jax_utils\n",
    "from jax.scipy.stats import beta\n",
    "\n",
    "# JAX/Flax\n",
    "import jax\n",
    "from jax import jit\n",
    "import jax.numpy as jnp\n",
    "from jax import random\n",
    "from jax.scipy.stats import beta\n",
    "import flax\n",
    "from flax import jax_utils\n",
    "from flax import linen as nn\n",
    "import optax\n",
    "import orbax.checkpoint\n",
    "from flax.training import train_state, orbax_utils\n",
    "import wandb"
   ]
  },
  {
   "cell_type": "markdown",
   "id": "0cde1f9f-a749-43ff-9123-a76aff4a84a8",
   "metadata": {},
   "source": [
    "## Create a dataset of 2 Gaussians\n",
    "\n",
    "$p_{data} = 0.5 \\mathcal{N}(\\mu_1, \\sigma I) + 0.5 \\mathcal{N}(-\\mu_1, \\sigma I)$"
   ]
  },
  {
   "cell_type": "code",
   "execution_count": 2,
   "id": "3a52c6b5-bb91-4dbc-bfa9-8aff2fa37d2a",
   "metadata": {},
   "outputs": [],
   "source": [
    "key = random.PRNGKey(0)\n",
    "rng, subkey1, subkey2 = random.split(key, num=3)"
   ]
  },
  {
   "cell_type": "code",
   "execution_count": 3,
   "id": "5c78978b-e62d-4f35-8436-f8f50a9000f4",
   "metadata": {},
   "outputs": [
    {
     "name": "stdout",
     "output_type": "stream",
     "text": [
      "(2000, 2)\n"
     ]
    },
    {
     "data": {
      "image/png": "[encoded data removed]",
      "text/plain": [
       "<Figure size 640x480 with 1 Axes>"
      ]
     },
     "metadata": {},
     "output_type": "display_data"
    }
   ],
   "source": [
    "size = 1000 # N\n",
    "std = 0.2\n",
    "mean_scale = 1\n",
    "\n",
    "# Generate data for X_0 & X_1\n",
    "X_0 = mean_scale + random.normal(subkey1, shape=(size, 2)) * std\n",
    "X_1 = -mean_scale + random.normal(subkey2, shape=(size, 2)) * std\n",
    "\n",
    "# Concantenate\n",
    "X = jnp.concatenate([X_0, X_1], axis=0)\n",
    "print(X.shape)\n",
    "\n",
    "# Visuaize\n",
    "plt.scatter(X[:, 0], X[:, 1], label='True Data')\n",
    "plt.legend()\n",
    "plt.show()"
   ]
  },
  {
   "cell_type": "markdown",
   "id": "fc0ee73b-ab9c-4d02-b612-1530cd7a44de",
   "metadata": {},
   "source": [
    "## Construct data loader"
   ]
  },
  {
   "cell_type": "code",
   "execution_count": 4,
   "id": "ffa6902e-0401-48b1-913c-b35bf11d5937",
   "metadata": {
    "tags": []
   },
   "outputs": [],
   "source": [
    "class JaxDataset(torch.utils.data.Dataset):\n",
    "    def __init__(self, X):\n",
    "        self.X = X\n",
    "        \n",
    "    def __len__(self):\n",
    "        return len(self.X)\n",
    "    \n",
    "    def __getitem__(self, idx):\n",
    "        return np.array(self.X[idx])\n",
    "\n",
    "def numpy_collate(batch):\n",
    "    \"\"\"\n",
    "    Function to allow jnp.arrays to be used in PyTorch Dataloaders.\n",
    "    \"\"\"\n",
    "    if isinstance(batch[0], np.ndarray):\n",
    "        return np.stack(batch)\n",
    "    elif isinstance(batch[0], (tuple,list)):\n",
    "        transposed = zip(*batch)\n",
    "        return [numpy_collate(samples) for samples in transposed]\n",
    "    else:\n",
    "        return np.array(batch)\n",
    "    \n",
    "class NumpyLoader(torch.utils.data.DataLoader):\n",
    "    \"\"\"\n",
    "    Custom PyTorch DataLoader for numpy/JAX arrays\n",
    "    \"\"\"\n",
    "    def __init__(self, dataset, batch_size=1,\n",
    "                 shuffle=False, sampler=None,\n",
    "                 batch_sampler=None, num_workers=0,\n",
    "                 pin_memory=False, drop_last=False,\n",
    "                 timeout=0, worker_init_fn=None):\n",
    "        super(self.__class__, self).__init__(dataset,\n",
    "                                             batch_size=batch_size,\n",
    "                                             shuffle=shuffle,\n",
    "                                             sampler=sampler,\n",
    "                                             batch_sampler=batch_sampler,\n",
    "                                             num_workers=num_workers,\n",
    "                                             collate_fn=numpy_collate,\n",
    "                                             pin_memory=pin_memory,\n",
    "                                             drop_last=drop_last,\n",
    "                                             timeout=timeout,\n",
    "                                             worker_init_fn=worker_init_fn)\n",
    "    \n",
    "train_dataset = JaxDataset(X=X)\n",
    "train_loader = NumpyLoader(dataset=train_dataset, batch_size=512, shuffle=False)"
   ]
  },
  {
   "cell_type": "code",
   "execution_count": 5,
   "id": "c8bbbb4d-de0e-426b-830a-c88064f905e3",
   "metadata": {},
   "outputs": [
    {
     "name": "stdout",
     "output_type": "stream",
     "text": [
      "(512, 2)\n"
     ]
    }
   ],
   "source": [
    "batch = next(iter(train_loader))\n",
    "print(batch.shape)"
   ]
  },
  {
   "cell_type": "markdown",
   "id": "438b63f1-d71c-4dc7-9ab0-186ab9e8620e",
   "metadata": {},
   "source": [
    "## Construct NN"
   ]
  },
  {
   "cell_type": "markdown",
   "id": "59dd79c4-8a08-4d58-b604-e4c5f7182377",
   "metadata": {},
   "source": [
    "$$\\text{P}(k, 2i) = \\text{sin}\\Big(\\frac{k}{n^{2i/d}} \\Big)$$\n",
    "$$\\text{P}(k, 2i+1) = \\text{cos}\\Big(\\frac{k}{n^{2i/d}} \\Big)$$\n",
    "\n",
    "See [this](https://machinelearningmastery.com/a-gentle-introduction-to-positional-encoding-in-transformer-models-part-1/#:~:text=What%20Is%20Positional%20Encoding%3F,item's%20position%20in%20transformer%20models.) article about positional encoding."
   ]
  },
  {
   "cell_type": "code",
   "execution_count": 6,
   "id": "c29848ae-c9c9-4be7-ace6-b9d340d71c33",
   "metadata": {},
   "outputs": [],
   "source": [
    "def getPositionEncoding(t: jnp.array, d: int, n: int = 10000) -> np.ndarray:\n",
    "    seq_len = len(t)\n",
    "\n",
    "    # Calculate the denominator for all dimensions\n",
    "    denominator = n ** (2.0 * (jnp.arange(d) // 2) / d)\n",
    "\n",
    "    # Calculate the encoding for all positions and dimensions\n",
    "    t = t[:, None]  # make it a column vector\n",
    "    t_scaled = t / denominator  # this will broadcast t along the columns\n",
    "\n",
    "    # Generate positional encodings\n",
    "    P = jnp.zeros((seq_len, d))\n",
    "    sin_component = jnp.sin(t_scaled[:, :d//2])\n",
    "    cos_component = jnp.cos(t_scaled[:, :d//2])\n",
    "    \n",
    "    P = P.at[:, 0::2].set(sin_component)\n",
    "    P = P.at[:, 1::2].set(cos_component)\n",
    "\n",
    "    return P"
   ]
  },
  {
   "cell_type": "code",
   "execution_count": 7,
   "id": "3b0cc96e-942f-4102-be16-713a23874c4a",
   "metadata": {
    "tags": []
   },
   "outputs": [
    {
     "name": "stdout",
     "output_type": "stream",
     "text": [
      "(512, 1)\n",
      "\n",
      "\u001b[3m                                ScoreNet Summary                                \u001b[0m\n",
      "┏━━━━━━━━━┳━━━━━━━━━━┳━━━━━━━━━━━━━━━━━━┳━━━━━━━━━━━━━━━━━┳━━━━━━━━━━━━━━━━━━━━┓\n",
      "┃\u001b[1m \u001b[0m\u001b[1mpath   \u001b[0m\u001b[1m \u001b[0m┃\u001b[1m \u001b[0m\u001b[1mmodule  \u001b[0m\u001b[1m \u001b[0m┃\u001b[1m \u001b[0m\u001b[1minputs          \u001b[0m\u001b[1m \u001b[0m┃\u001b[1m \u001b[0m\u001b[1moutputs        \u001b[0m\u001b[1m \u001b[0m┃\u001b[1m \u001b[0m\u001b[1mparams            \u001b[0m\u001b[1m \u001b[0m┃\n",
      "┡━━━━━━━━━╇━━━━━━━━━━╇━━━━━━━━━━━━━━━━━━╇━━━━━━━━━━━━━━━━━╇━━━━━━━━━━━━━━━━━━━━┩\n",
      "│         │ ScoreNet │ - \u001b[2mfloat32\u001b[0m[512,2] │ \u001b[2mfloat32\u001b[0m[512,2]  │                    │\n",
      "│         │          │ - \u001b[2mfloat32\u001b[0m[512,1] │                 │                    │\n",
      "├─────────┼──────────┼──────────────────┼─────────────────┼────────────────────┤\n",
      "│ Dense_0 │ Dense    │ \u001b[2mfloat32\u001b[0m[512,2]   │ \u001b[2mfloat32\u001b[0m[512,32] │ bias: \u001b[2mfloat32\u001b[0m[32]  │\n",
      "│         │          │                  │                 │ kernel:            │\n",
      "│         │          │                  │                 │ \u001b[2mfloat32\u001b[0m[2,32]      │\n",
      "│         │          │                  │                 │                    │\n",
      "│         │          │                  │                 │ \u001b[1m96 \u001b[0m\u001b[1;2m(384 B)\u001b[0m         │\n",
      "├─────────┼──────────┼──────────────────┼─────────────────┼────────────────────┤\n",
      "│ Dense_1 │ Dense    │ \u001b[2mfloat32\u001b[0m[512,32]  │ \u001b[2mfloat32\u001b[0m[512,32] │ bias: \u001b[2mfloat32\u001b[0m[32]  │\n",
      "│         │          │                  │                 │ kernel:            │\n",
      "│         │          │                  │                 │ \u001b[2mfloat32\u001b[0m[32,32]     │\n",
      "│         │          │                  │                 │                    │\n",
      "│         │          │                  │                 │ \u001b[1m1,056 \u001b[0m\u001b[1;2m(4.2 KB)\u001b[0m     │\n",
      "├─────────┼──────────┼──────────────────┼─────────────────┼────────────────────┤\n",
      "│ Dense_2 │ Dense    │ \u001b[2mfloat32\u001b[0m[512,32]  │ \u001b[2mfloat32\u001b[0m[512,32] │ bias: \u001b[2mfloat32\u001b[0m[32]  │\n",
      "│         │          │                  │                 │ kernel:            │\n",
      "│         │          │                  │                 │ \u001b[2mfloat32\u001b[0m[32,32]     │\n",
      "│         │          │                  │                 │                    │\n",
      "│         │          │                  │                 │ \u001b[1m1,056 \u001b[0m\u001b[1;2m(4.2 KB)\u001b[0m     │\n",
      "├─────────┼──────────┼──────────────────┼─────────────────┼────────────────────┤\n",
      "│ Dense_3 │ Dense    │ \u001b[2mfloat32\u001b[0m[512,32]  │ \u001b[2mfloat32\u001b[0m[512,32] │ bias: \u001b[2mfloat32\u001b[0m[32]  │\n",
      "│         │          │                  │                 │ kernel:            │\n",
      "│         │          │                  │                 │ \u001b[2mfloat32\u001b[0m[32,32]     │\n",
      "│         │          │                  │                 │                    │\n",
      "│         │          │                  │                 │ \u001b[1m1,056 \u001b[0m\u001b[1;2m(4.2 KB)\u001b[0m     │\n",
      "├─────────┼──────────┼──────────────────┼─────────────────┼────────────────────┤\n",
      "│ Dense_4 │ Dense    │ \u001b[2mfloat32\u001b[0m[512,2]   │ \u001b[2mfloat32\u001b[0m[512,32] │ bias: \u001b[2mfloat32\u001b[0m[32]  │\n",
      "│         │          │                  │                 │ kernel:            │\n",
      "│         │          │                  │                 │ \u001b[2mfloat32\u001b[0m[2,32]      │\n",
      "│         │          │                  │                 │                    │\n",
      "│         │          │                  │                 │ \u001b[1m96 \u001b[0m\u001b[1;2m(384 B)\u001b[0m         │\n",
      "├─────────┼──────────┼──────────────────┼─────────────────┼────────────────────┤\n",
      "│ Dense_5 │ Dense    │ \u001b[2mfloat32\u001b[0m[512,32]  │ \u001b[2mfloat32\u001b[0m[512,2]  │ bias: \u001b[2mfloat32\u001b[0m[2]   │\n",
      "│         │          │                  │                 │ kernel:            │\n",
      "│         │          │                  │                 │ \u001b[2mfloat32\u001b[0m[32,2]      │\n",
      "│         │          │                  │                 │                    │\n",
      "│         │          │                  │                 │ \u001b[1m66 \u001b[0m\u001b[1;2m(264 B)\u001b[0m         │\n",
      "├─────────┼──────────┼──────────────────┼─────────────────┼────────────────────┤\n",
      "│\u001b[1m \u001b[0m\u001b[1m       \u001b[0m\u001b[1m \u001b[0m│\u001b[1m \u001b[0m\u001b[1m        \u001b[0m\u001b[1m \u001b[0m│\u001b[1m \u001b[0m\u001b[1m                \u001b[0m\u001b[1m \u001b[0m│\u001b[1m \u001b[0m\u001b[1m          Total\u001b[0m\u001b[1m \u001b[0m│\u001b[1m \u001b[0m\u001b[1m3,426 \u001b[0m\u001b[1;2m(13.7 KB)\u001b[0m\u001b[1m   \u001b[0m\u001b[1m \u001b[0m│\n",
      "└─────────┴──────────┴──────────────────┴─────────────────┴────────────────────┘\n",
      "\u001b[1m                                                                                \u001b[0m\n",
      "\u001b[1m                       Total Parameters: 3,426 \u001b[0m\u001b[1;2m(13.7 KB)\u001b[0m\u001b[1m                        \u001b[0m\n",
      "\n",
      "\n"
     ]
    }
   ],
   "source": [
    "class ScoreNet(nn.Module):\n",
    "    \"\"\"\n",
    "    Common architecture for score-based generative models,\n",
    "    \"\"\"\n",
    "    dim: int = 10  # Change from 2 to 10 to match input size\n",
    "    latent_dim: int = 32\n",
    "    std_data: float = 0.5\n",
    "    \n",
    "    @nn.compact\n",
    "    def __call__(self, x, t):\n",
    "        # Preconditioning terms in the \"EDM\" model\n",
    "        t = t.squeeze()  # Ensure t is scalar if it's not\n",
    "        c_out = t * self.std_data / jnp.sqrt(self.std_data**2 + t**2)\n",
    "        c_skip = self.std_data**2 / (self.std_data**2 + t**2)\n",
    "\n",
    "        t = jnp.log(t.flatten()) / 4.\n",
    "        \n",
    "        # Basic Network architecture\n",
    "        x_1 = nn.Dense(self.latent_dim)(x) + getPositionEncoding(t, d=self.latent_dim)\n",
    "        x_2 = nn.relu(x_1)\n",
    "        x_3 = nn.relu(nn.Dense(self.latent_dim)(x_2) + nn.Dense(self.latent_dim)(x_1))\n",
    "        x_4 = nn.relu(nn.Dense(self.latent_dim)(x_3)) + nn.Dense(self.latent_dim)(x)\n",
    "        x_5 = nn.Dense(self.dim)(x_4) \n",
    "        \n",
    "        # Reshape c_out and c_skip to match dimensions for broadcasting\n",
    "        c_out = jnp.reshape(c_out, (-1, 1))\n",
    "        c_skip = jnp.reshape(c_skip, (-1, 1))\n",
    "        \n",
    "        return c_out * x_5 + c_skip * x\n",
    "\n",
    "model = ScoreNet(dim=2, latent_dim=32, std_data=0.5) \n",
    "\n",
    "rnd_normal = random.normal(subkey1, shape=(batch.shape[0], 1))\n",
    "t = jnp.exp(rnd_normal * 1.2 - 1.2)\n",
    "print(t.shape)\n",
    "print(model.tabulate(jax.random.PRNGKey(9), batch, t))"
   ]
  },
  {
   "cell_type": "markdown",
   "id": "5836108d-3f1a-499a-8953-ff2d89cc3742",
   "metadata": {},
   "source": [
    "## Training Loop"
   ]
  },
  {
   "cell_type": "markdown",
   "id": "6f0afa34-39eb-4700-926d-25b5a5ce64c4",
   "metadata": {},
   "source": [
    "**Algorithm 2:** PFGM++ training with hyperparameter transferred from EDM\n",
    "\n",
    "**Input:**\n",
    "\n",
    "- $\\sigma(t)$ = `t`\n",
    "- $r = \\sigma\\sqrt{D}$\n",
    "- Noise distribution: $\\text{ln}(\\sigma) \\sim \\mathcal{N}(P_{mean}, P_{std}^2) = \\mathcal{N}(-1.2, 1.2^2) \\rightarrow \\sigma \\sim \\text{exp}(\\mathcal{N}(-1.2, 1.2^2))$\n",
    "- Loss weighting: $\\lambda(\\sigma) = \\frac{(\\sigma^2 + \\sigma^2_{data})}{(\\sigma \\cdot \\sigma_{data})^2} = \\frac{(t^2 + \\sigma^2_{data})}{(t \\cdot \\sigma_{data})^2}$\n",
    "$$f_\\theta(\\mathbf{x}, \\sigma) = \\frac{c_{skip}(\\sigma)\\mathbf{x} + c_{out}(\\sigma)F_\\theta\\big(c_{in}(\\sigma)\\mathbf{x}, c_{noise}(\\sigma)\\big) - x}{\\sigma} \\approx \\sigma \\nabla_x \\text{log}p_\\sigma(x)$$\n",
    "\n",
    "- $$f_\\theta(\\tilde{\\mathbf{x}}) = \\frac{c_{skip}(r/\\sqrt{D})\\mathbf{x} + c_{out}(r/\\sqrt{D})F_\\theta\\big(c_{in}(r/\\sqrt{D})\\mathbf{x}, c_{noise}(r/\\sqrt{D})\\big) - x}{r/\\sqrt{D}} \\approx \\sqrt{D} \\frac{E(\\tilde{\\mathbf{x}})_x}{E(\\tilde{\\mathbf{x}})_r}$$\n",
    "\n",
    "    - $F_\\theta$ = NN \n",
    "    - $c_{in}(\\sigma) = \\frac{1}{\\sqrt{\\sigma^2 + \\sigma^2_{data}}}$\n",
    "    - $c_{out}(\\sigma) = \\frac{\\sigma \\cdot \\sigma_{data}}{\\sqrt{\\sigma^2 + \\sigma^2_{data}}}$\n",
    "    - $c_{skip}(\\sigma) = \\frac{\\sigma_{data}^2}{\\sigma^2 + \\sigma^2_{data}}$\n",
    "    - $c_{in}(\\sigma) = \\frac{1}{4}\\text{ln}(\\sigma)$ \n",
    "    - $\\sigma_{data} = 0.5$\n",
    "- $$ r_i = \\big(r_{max}^{1/\\rho} + \\frac{i}{N-1}(r_{min}^{1/\\rho} - r_{max}^{1/\\rho})\\big)^\\rho \\hspace{0.2in} \\text{ where } \\hspace{0.2in} r_N = 0$$\n",
    "    \n",
    "    \n",
    "    \n",
    "**Pseudocode:**\n",
    "\n",
    "1. Sample a batch of data $\\{\\mathbf{y}_i\\}^\\mathcal{B}_{i=1}$ from $p(\\mathbf{y})$\n",
    "2. Sample standard deviations $\\{\\sigma_i \\}^\\mathcal{B}_{i=1}$ from $p(\\sigma)$\n",
    "3. Sample $r$ from $p_r$: $\\{r_i = \\sigma_i(R)\\}^\\mathcal{B}_{i=1}$\n",
    "4. Samples radiuses $\\{R_i \\sim p_{r_i}(R) \\}^\\mathcal{B}_{i=1}$\n",
    "5. Sample uniform angles $\\{\\mathbf{v}_i = \\frac{\\mathbf{u}_i}{|| \\mathbf{u}_i ||_2} \\}^\\mathcal{B}_{i=1}$, with $\\mathbf{u}_i \\sim \\mathcal{N}(\\mathbf{0}, \\mathbf{I})$\n",
    "6. Get perturbed data $\\{\\hat{\\mathbf{y}}_i = \\mathbf{y}_i + R_i \\mathbf{v}_i \\}^\\mathcal{B}_{i=1}$\n",
    "7. Calculate loss $\\ell(\\theta) = \\sum^\\mathcal{B}_{i=1} \\lambda(\\sigma_i)||f_\\theta(\\hat{\\mathbf{y}}_i, \\sigma_i) - \\mathbf{y}_i||_2^2$\n",
    "8. Update the network parameter $\\theta$ via Adam optimizer\n"
   ]
  },
  {
   "cell_type": "code",
   "execution_count": 8,
   "id": "785bc70a-bbee-4a8b-a1f6-1fd34f13116d",
   "metadata": {},
   "outputs": [],
   "source": [
    "# Create TrainState\n",
    "def init_train_state(model: Any,\n",
    "                     random_key: Any,\n",
    "                     x_shape: tuple,\n",
    "                     t_shape: tuple,\n",
    "                     learning_rate: int) -> train_state.TrainState:\n",
    "    \"\"\"\n",
    "    Function to initialize the TrainState dataclass, whcih represents\n",
    "    the entire training state, including step number, parameteers, and \n",
    "    optimizer state. Used in a Flax framework because you no longer need\n",
    "    to initialize the model again & again with new variables. Rather we \n",
    "    just update the \"state\" of the model and pass this as inputs to functions.\n",
    "    \n",
    "    Args:\n",
    "    -----\n",
    "        model: nn.Module\n",
    "            Model we want to train.\n",
    "        random_key: jax.random.PRNGKey()\n",
    "            Used to trigger the initialization functions, which generate\n",
    "            the initial set of parameters that the model will use.\n",
    "        x_shape: tuple\n",
    "            Shape of the batch of data (x) that will be input into the model.\n",
    "            Used to trigger shape inference.\n",
    "        t_shape: tuple\n",
    "            Shape of the batch of data (t) that will be input into the model.\n",
    "            Used to trigger shape inference.\n",
    "        learning_rate: float\n",
    "            How large of a step the optimizer should take.\n",
    "            \n",
    "    Returns:\n",
    "    --------\n",
    "        train_state.TrainState:\n",
    "            A utility class for handling parameter and gradient updates.\n",
    "    \"\"\"\n",
    "    # Initialize the model\n",
    "    variables = model.init(random_key, jnp.ones(x_shape), jnp.ones(t_shape))\n",
    "    \n",
    "    # Create the optimizer\n",
    "    optimizer = optax.adam(learning_rate)\n",
    "    \n",
    "    # Create a state\n",
    "    return flax.training.train_state.TrainState.create(apply_fn=model.apply,\n",
    "                                                       tx=optimizer,\n",
    "                                                       params=variables['params'])\n",
    "\n",
    "def sample_norm(N, D, size, key):\n",
    "    \"\"\"\n",
    "    Sample noise from perturbation kernel p_r.\n",
    "    Sampling from inverse-beta distribution found in Appendix B.\n",
    "    \"\"\"\n",
    "    R1 = random.beta(a=N / 2., b=D / 2., key=key, shape=(size,))\n",
    "    R2 = R1 / (1 - R1 +1e-8)\n",
    "    return R2\n",
    "\n",
    "def train_step(state, batch, std_data, D, N):\n",
    "    \"\"\"\n",
    "    Args:\n",
    "    ----\n",
    "        D: int\n",
    "            The extra dimensions (D>1)\n",
    "        N: int\n",
    "            The dimensionality of the data\n",
    "    \"\"\"\n",
    "    # Define the loss function\n",
    "    def loss_fn(params):\n",
    "        key = random.PRNGKey(0)\n",
    "        \n",
    "        # Sampling from the noise distribution (Table 1 Karras et al. 2022)\n",
    "        rnd_normal = random.normal(key, shape=(batch.shape[0], 1))\n",
    "        t = jnp.exp(rnd_normal * 1.2 - 1.2)\n",
    "        # Phase alignment of Diffusion Models -> PFGM++ (Appendix C)\n",
    "        # Note: t = sigma in the \"EDM\" design choice (Karras et al. 2022)\n",
    "        r = t * jnp.sqrt(D)\n",
    "        \n",
    "        # Sampling from p_r(R) by change-of-variable (Appendix B)\n",
    "        R2 = sample_norm(N, D, batch.shape[0], key)\n",
    "        R3 = (r.squeeze() * jnp.sqrt(R2 +1e-8)).reshape(len(R2), -1)\n",
    "        \n",
    "        # Sampling the uniform angle component\n",
    "        unit_gaussian = random.normal(key, shape=(batch.shape[0], N))\n",
    "        unit_gaussian = unit_gaussian / jnp.linalg.norm(unit_gaussian, ord=2, axis=1, keepdims=True)\n",
    "        x_hat = batch + (unit_gaussian * R3)\n",
    "        \n",
    "        # Preconditions (Table 1 & Sect. 5 of Karras et al. 2022)\n",
    "        c_in = 1 / jnp.sqrt(std_data**2 + t**2)\n",
    "        c_out = t * std_data / jnp.sqrt(std_data**2 + t**2)\n",
    "        c_skip = std_data**2 / (std_data**2 + t**2)\n",
    "\n",
    "        # f_theta in Karras et al. 2022\n",
    "        D_x = state.apply_fn({'params': params}, x_hat * c_in, t)\n",
    "        \n",
    "        # lambda(theta) in Karras et al. 2022 \n",
    "        # using the loss weighting of \"EDM\"\n",
    "        weight = (t**2 + std_data ** 2) / (t*std_data) ** 2\n",
    "        # Calculate weighted loss\n",
    "        loss = jnp.sum(weight * ((D_x - batch) ** 2), axis=1).mean()\n",
    "        return loss\n",
    "    \n",
    "    grad_fn = jax.value_and_grad(loss_fn)\n",
    "    loss, grad = grad_fn(state.params)\n",
    "    new_state = state.apply_gradients(grads=grad)\n",
    "    return new_state, loss\n",
    "\n",
    "def accumulate_metrics(metrics):\n",
    "    \"\"\"\n",
    "    Function that accumulates all the per batch metrics into\n",
    "    per epoch metrics\n",
    "    \"\"\"\n",
    "    metrics = jax.device_get(metrics)\n",
    "    return {\n",
    "        k: np.mean([metric[k] for metric in metrics])\n",
    "        for k in metrics[0]\n",
    "    }\n",
    "\n",
    "def save_checkpoint(ckpt_dir: str,\n",
    "                    state: Any,\n",
    "                    step: int,\n",
    "                    run_name: str) -> None:\n",
    "    \"\"\"\n",
    "    Save the training state as a checkpoint\n",
    "    \n",
    "    Args:\n",
    "    -----\n",
    "        ckpt_dir: str\n",
    "            Directory to save the checkpoint files.\n",
    "        state: Any\n",
    "            The training state to be saved.\n",
    "        step: int\n",
    "            Current training step or epoch number.\n",
    "        run_name: str\n",
    "            Name to associate with checkpoint on wandb\n",
    "    \"\"\"\n",
    "    ckptr = orbax.checkpoint.Checkpointer(orbax.checkpoint.PyTreeCheckpointHandler())\n",
    "    \n",
    "    # Ensure directory exists\n",
    "    os.makedirs(ckpt_dir, exist_ok=True)\n",
    "    \n",
    "    # Create checkpoint file path with the \".flax\" extension\n",
    "    ckpt_file = os.path.join(ckpt_dir, f\"checkpoint_{step}.flax\")\n",
    "    \n",
    "    # Save checkpoint to local directory\n",
    "    ckptr.save(ckpt_file, state,\n",
    "               save_args=flax.training.orbax_utils.save_args_from_target(state),\n",
    "               force=True)"
   ]
  },
  {
   "cell_type": "code",
   "execution_count": 14,
   "id": "ce7d6538-baeb-4d3f-87f6-7bb66bfba17d",
   "metadata": {
    "tags": []
   },
   "outputs": [
    {
     "data": {
      "text/html": [
       "Finishing last run (ID:yj21k87h) before initializing another..."
      ],
      "text/plain": [
       "<IPython.core.display.HTML object>"
      ]
     },
     "metadata": {},
     "output_type": "display_data"
    },
    {
     "data": {
      "text/html": [
       "Waiting for W&B process to finish... <strong style=\"color:green\">(success).</strong>"
      ],
      "text/plain": [
       "<IPython.core.display.HTML object>"
      ]
     },
     "metadata": {},
     "output_type": "display_data"
    },
    {
     "data": {
      "text/html": [
       "<style>\n",
       "    table.wandb td:nth-child(1) { padding: 0 10px; text-align: left ; width: auto;} td:nth-child(2) {text-align: left ; width: 100%}\n",
       "    .wandb-row { display: flex; flex-direction: row; flex-wrap: wrap; justify-content: flex-start; width: 100% }\n",
       "    .wandb-col { display: flex; flex-direction: column; flex-basis: 100%; flex: 1; padding: 10px; }\n",
       "    </style>\n",
       "<div class=\"wandb-row\"><div class=\"wandb-col\"><h3>Run history:</h3><br/><table class=\"wandb\"><tr><td>Train Loss</td><td>█▇▆▆▆▆▆▆▅▅▅▅▅▄▄▄▄▃▃▃▃▂▂▂▂▂▂▁▁▁▁▁▁▁▁▁▁▁▁▁</td></tr></table><br/></div><div class=\"wandb-col\"><h3>Run summary:</h3><br/><table class=\"wandb\"><tr><td>Train Loss</td><td>17.91175</td></tr></table><br/></div></div>"
      ],
      "text/plain": [
       "<IPython.core.display.HTML object>"
      ]
     },
     "metadata": {},
     "output_type": "display_data"
    },
    {
     "data": {
      "text/html": [
       " View run <strong style=\"color:#cdcd00\">zesty-dew-25</strong> at: <a href='https://wandb.ai/mdowicz/toy_pfgmpp/runs/yj21k87h' target=\"_blank\">https://wandb.ai/mdowicz/toy_pfgmpp/runs/yj21k87h</a><br/>Synced 6 W&B file(s), 0 media file(s), 0 artifact file(s) and 0 other file(s)"
      ],
      "text/plain": [
       "<IPython.core.display.HTML object>"
      ]
     },
     "metadata": {},
     "output_type": "display_data"
    },
    {
     "data": {
      "text/html": [
       "Find logs at: <code>saved_models/toy/wandb/run-20230724_063129-yj21k87h/logs</code>"
      ],
      "text/plain": [
       "<IPython.core.display.HTML object>"
      ]
     },
     "metadata": {},
     "output_type": "display_data"
    },
    {
     "data": {
      "text/html": [
       "Successfully finished last run (ID:yj21k87h). Initializing new run:<br/>"
      ],
      "text/plain": [
       "<IPython.core.display.HTML object>"
      ]
     },
     "metadata": {},
     "output_type": "display_data"
    },
    {
     "data": {
      "application/vnd.jupyter.widget-view+json": {
       "model_id": "1ff2636a3a4f40cca1eb2ef361125491",
       "version_major": 2,
       "version_minor": 0
      },
      "text/plain": [
       "VBox(children=(Label(value='Waiting for wandb.init()...\\r'), FloatProgress(value=0.016670687318158645, max=1.0…"
      ]
     },
     "metadata": {},
     "output_type": "display_data"
    },
    {
     "data": {
      "text/html": [
       "wandb version 0.15.5 is available!  To upgrade, please run:\n",
       " $ pip install wandb --upgrade"
      ],
      "text/plain": [
       "<IPython.core.display.HTML object>"
      ]
     },
     "metadata": {},
     "output_type": "display_data"
    },
    {
     "data": {
      "text/html": [
       "Tracking run with wandb version 0.15.0"
      ],
      "text/plain": [
       "<IPython.core.display.HTML object>"
      ]
     },
     "metadata": {},
     "output_type": "display_data"
    },
    {
     "data": {
      "text/html": [
       "Run data is saved locally in <code>saved_models/toy/wandb/run-20230724_063900-and8agcu</code>"
      ],
      "text/plain": [
       "<IPython.core.display.HTML object>"
      ]
     },
     "metadata": {},
     "output_type": "display_data"
    },
    {
     "data": {
      "text/html": [
       "Syncing run <strong><a href='https://wandb.ai/mdowicz/toy_pfgmpp/runs/and8agcu' target=\"_blank\">olive-thunder-26</a></strong> to <a href='https://wandb.ai/mdowicz/toy_pfgmpp' target=\"_blank\">Weights & Biases</a> (<a href='https://wandb.me/run' target=\"_blank\">docs</a>)<br/>"
      ],
      "text/plain": [
       "<IPython.core.display.HTML object>"
      ]
     },
     "metadata": {},
     "output_type": "display_data"
    },
    {
     "data": {
      "text/html": [
       " View project at <a href='https://wandb.ai/mdowicz/toy_pfgmpp' target=\"_blank\">https://wandb.ai/mdowicz/toy_pfgmpp</a>"
      ],
      "text/plain": [
       "<IPython.core.display.HTML object>"
      ]
     },
     "metadata": {},
     "output_type": "display_data"
    },
    {
     "data": {
      "text/html": [
       " View run at <a href='https://wandb.ai/mdowicz/toy_pfgmpp/runs/and8agcu' target=\"_blank\">https://wandb.ai/mdowicz/toy_pfgmpp/runs/and8agcu</a>"
      ],
      "text/plain": [
       "<IPython.core.display.HTML object>"
      ]
     },
     "metadata": {},
     "output_type": "display_data"
    },
    {
     "name": "stderr",
     "output_type": "stream",
     "text": [
      "100%|█████████████████████████████████████████| 300/300 [06:34<00:00,  1.31s/it]\n"
     ]
    },
    {
     "data": {
      "text/plain": [
       "['saved_models/toy/wandb/run-20230724_063900-and8agcu/files/saved_models/toy/checkpoint_300.flax']"
      ]
     },
     "execution_count": 14,
     "metadata": {},
     "output_type": "execute_result"
    }
   ],
   "source": [
    "# Instantiate basic wandb logger params\n",
    "wandb.init(project='toy_pfgmpp',\n",
    "           job_type='simple_noise_net',\n",
    "           dir= 'saved_models/toy')\n",
    "\n",
    "config = wandb.config\n",
    "config.seed = 21\n",
    "config.batch_size = 512\n",
    "config.learning_rate = 1e-3\n",
    "config.epochs = 300\n",
    "config.dim = 2\n",
    "config.latent_dim = 32\n",
    "config.std_data = 0.5\n",
    "config.D = 300\n",
    "config.N = 2\n",
    "\n",
    "# Get the rng & model instantiated\n",
    "init_rng = random.PRNGKey(config.seed)\n",
    "model = ScoreNet(dim=config.dim,\n",
    "                 latent_dim=config.latent_dim,\n",
    "                 std_data=config.std_data)  # Change dim to 10\n",
    "\n",
    "# Sample the noise distribution\n",
    "rnd_normal = random.normal(subkey1, shape=(batch.shape[0], 1))\n",
    "t = jnp.exp(rnd_normal * 1.2 - 1.2)  \n",
    "\n",
    "# Initialize the models state\n",
    "state = init_train_state(model=model,\n",
    "                               random_key=init_rng,\n",
    "                               x_shape=batch.shape,\n",
    "                               t_shape=t.shape,\n",
    "                               learning_rate=config.learning_rate)\n",
    "\n",
    "# Train the model\n",
    "for epoch in tqdm(range(config.epochs)):\n",
    "# for epoch in range(config.epochs):\n",
    "    rng, input_rng = jax.random.split(rng)\n",
    "    # Initialize a list to store all batch-level metrics\n",
    "    batch_metrics = []\n",
    "    for batch in train_loader:\n",
    "        # Prepare the data\n",
    "        batch = jax.device_put(batch)\n",
    "\n",
    "        # Update the model\n",
    "        train_step_jit = jax.jit(train_step, static_argnums=(3,4))\n",
    "        state, batch_loss = train_step_jit(state, batch, config.std_data, config.D, config.N)    \n",
    "    \n",
    "        # Store the batch-level metric in the list\n",
    "        batch_metrics.append({'Train Loss': batch_loss})\n",
    "    \n",
    "    # Use accumulate_metrics to calculate average metrics for the epoch\n",
    "    epoch_metrics = accumulate_metrics(batch_metrics)\n",
    "\n",
    "\n",
    "    # Log average metrics for the epoch to wandb\n",
    "    wandb.log(epoch_metrics)\n",
    "    \n",
    "# Save checkpoint\n",
    "checkpt_dir = 'saved_models/toy' # dir to save the checkpoints\n",
    "save_checkpoint(checkpt_dir, state, config.epochs, 'toy_pfgmpp')\n",
    "\n",
    "# Save model checkpoint to wandb\n",
    "wandb.save(os.path.join(checkpt_dir, f\"checkpoint_{config.epochs}.flax\"))"
   ]
  },
  {
   "cell_type": "code",
   "execution_count": 21,
   "id": "9cc7153b-99ad-43ef-b8d8-de19621c1c07",
   "metadata": {},
   "outputs": [],
   "source": [
    "def load_checkpoint(ckpt_dir: str,\n",
    "                    ckpt_file: str,\n",
    "                    model: Type[nn.Module]) -> Any:\n",
    "    \"\"\"\n",
    "    Load checkpoint from local directory\n",
    "    \n",
    "    Args:\n",
    "    -----\n",
    "        ckpt_dir: str\n",
    "            Local directory where checkpoint file is saved.\n",
    "        ckpt_file: str\n",
    "            Name of checkpoint file.\n",
    "        model: nn.Module\n",
    "            Model for which the checkpoint is being loaded\n",
    "        \n",
    "    Returns:\n",
    "    -------\n",
    "        Any: Model with trained checkpoint parameters\n",
    "    \"\"\"\n",
    "    # Check if checkpoint file exists in locoal directory\n",
    "    if not os.path.exists(os.path.join(ckpt_dir, ckpt_file)):\n",
    "        raise FileNotFoundError(f\"No checkpoints file found at {os.path.join(ckpt_dir, ckpt_file)}\")\n",
    "        \n",
    "\n",
    "    # Create a Checkpointer using the PyTreeCheckpointHandler\n",
    "    ckptr = orbax.checkpoint.Checkpointer(orbax.checkpoint.PyTreeCheckpointHandler())\n",
    "    \n",
    "    # Restore state dictionary from the checkpoint path\n",
    "    state_dict = ckptr.restore(ckpt_dir, item=None)\n",
    "    \n",
    "    # Update model parameters using restored state dict\n",
    "    params = {'params': state_dict['params']}\n",
    "    return model.bind(params)"
   ]
  },
  {
   "cell_type": "code",
   "execution_count": 22,
   "id": "158c7eb6-9e11-4b99-a71c-7848e40d6ebc",
   "metadata": {},
   "outputs": [],
   "source": [
    "# Get the rng & model instantiated\n",
    "init_rng = random.PRNGKey(config.seed)\n",
    "model = ScoreNet(dim=config.dim,\n",
    "                 latent_dim=config.latent_dim,\n",
    "                 std_data=config.std_data)  \n",
    "\n",
    "batch = next(iter(train_loader))\n",
    "\n",
    "updated_model = load_checkpoint(ckpt_dir='saved_models/toy/checkpoint_300.flax',\n",
    "                                ckpt_file='checkpoint',\n",
    "                                model=model)"
   ]
  },
  {
   "cell_type": "code",
   "execution_count": 32,
   "id": "3ac5baa2-fe8f-417b-8038-992806970e0b",
   "metadata": {},
   "outputs": [],
   "source": [
    "rnd_normal = random.normal(subkey1, shape=(batch.shape[0], 1))\n",
    "t = jnp.exp(rnd_normal * 1.2 - 1.2) \n",
    "\n",
    "params = model.init(subkey1, batch, t) # Initialization call\n",
    "\n",
    "# print(updated_model(batch, t))\n",
    "# print()\n",
    "# print(model.apply(params, batch, t))"
   ]
  },
  {
   "cell_type": "markdown",
   "id": "2dde1678-85eb-44be-b089-0fd04b4fe9b1",
   "metadata": {},
   "source": [
    "# Sampling Loop"
   ]
  },
  {
   "cell_type": "markdown",
   "id": "a24a1899-0dd1-4be3-8597-e57ccbed2e26",
   "metadata": {},
   "source": [
    "**Algorithm 4:** PFGM++ sampling with hyperparameter transferred from EDM\n",
    "\n",
    "**Input:**\n",
    "\n",
    "- $\\sigma(t)$ = `t`\n",
    "- $r = \\sigma\\sqrt{D}$\n",
    "- Noise distribution: $\\text{ln}(\\sigma) \\sim \\mathcal{N}(P_{mean}, P_{std}^2) = \\mathcal{N}(-1.2, 1.2^2) \\rightarrow \\sigma \\sim \\text{exp}(\\mathcal{N}(-1.2, 1.2^2))$\n",
    "- Loss weighting: $\\lambda(\\sigma) = \\frac{(\\sigma^2 + \\sigma^2_{data})}{(\\sigma \\cdot \\sigma_{data})^2} = \\frac{(t^2 + \\sigma^2_{data})}{(t \\cdot \\sigma_{data})^2}$\n",
    "$$f_\\theta(\\mathbf{x}, \\sigma) = \\frac{c_{skip}(\\sigma)\\mathbf{x} + c_{out}(\\sigma)F_\\theta\\big(c_{in}(\\sigma)\\mathbf{x}, c_{noise}(\\sigma)\\big) - x}{\\sigma} \\approx \\sigma \\nabla_x \\text{log}p_\\sigma(x)$$\n",
    "\n",
    "- $$f_\\theta(\\tilde{\\mathbf{x}}) = \\frac{c_{skip}(r/\\sqrt{D})\\mathbf{x} + c_{out}(r/\\sqrt{D})F_\\theta\\big(c_{in}(r/\\sqrt{D})\\mathbf{x}, c_{noise}(r/\\sqrt{D})\\big) - x}{r/\\sqrt{D}} \\approx \\sqrt{D} \\frac{E(\\tilde{\\mathbf{x}})_x}{E(\\tilde{\\mathbf{x}})_r}$$\n",
    "\n",
    "    - $F_\\theta$ = NN \n",
    "    - $c_{in}(\\sigma) = \\frac{1}{\\sqrt{\\sigma^2 + \\sigma^2_{data}}}$\n",
    "    - $c_{out}(\\sigma) = \\frac{\\sigma \\cdot \\sigma_{data}}{\\sqrt{\\sigma^2 + \\sigma^2_{data}}}$\n",
    "    - $c_{skip}(\\sigma) = \\frac{\\sigma_{data}^2}{\\sigma^2 + \\sigma^2_{data}}$\n",
    "    - $c_{in}(\\sigma) = \\frac{1}{4}\\text{ln}(\\sigma)$ \n",
    "    - $\\sigma_{data} = 0.5$\n",
    "- $$ r_i = \\big(r_{max}^{1/\\rho} + \\frac{i}{N-1}(r_{min}^{1/\\rho} - r_{max}^{1/\\rho})\\big)^\\rho \\hspace{0.2in} \\text{ where } \\hspace{0.2in} r_N = 0$$\n",
    "    \n",
    "    \n",
    "    \n",
    "**Pseudocode:**\n",
    "\n",
    "1. Set $r_{max} = \\sigma_{max}\\sqrt{D}$\n",
    "2. Sample radius $R \\sim p_{r_{max}}(R)$ and uniform angle $\\mathbf{v} = \\frac{\\mathbf{u}}{|| \\mathbf{u} ||_2}$\n",
    "3. Get initial data $\\mathbf{x}_0 = R\\mathbf{v}$ \n",
    "4. $\\textbf{for } i = 0, ..., T-1 \\textbf{ do}$\n",
    "    1. $d_i = (\\mathbf{x}_i - f_\\theta(\\mathbf{x}_i, t_i)) / t_i$\n",
    "    2. $\\mathbf{x}_{i+1} = \\mathbf{x}_i + (t_{i+1} - t_i)d_i$\n",
    "    3. $\\textbf{if } t_{i+1} > 0 \\textbf{ then}$\n",
    "        1. $d^{'}_{i} = (\\mathbf{x}_{i+1} - f_\\theta(\\mathbf{x}_{i+1}, t_{i+1}))/ t_{i+1}$\n",
    "        2. $\\mathbf{x}_{i+1} = \\mathbf{x}_i + (t_{i+1} - t_i)(\\frac{1}{2}\\mathbf{d}_i + \\frac{1}{2}\\mathbf{d}^{'})$\n",
    "    4. $\\textbf{end if}$\n",
    "5. $\\textbf{end for}$ \n"
   ]
  },
  {
   "cell_type": "code",
   "execution_count": null,
   "id": "b13f47ac-c451-4692-9bdb-0f097e63fa17",
   "metadata": {},
   "outputs": [],
   "source": [
    "min_t = 0.001\n",
    "num_steps = 50\n",
    "sample_size = 2000\n",
    "S_churn = 0\n",
    "S_min = 0.01\n",
    "S_max = 5\n",
    "S_noise = 1.\n",
    "\n",
    "rho = 7\n",
    "latents = jax.normal("
   ]
  },
  {
   "cell_type": "code",
   "execution_count": null,
   "id": "7a3891d8-b3b8-4194-951e-da5131222962",
   "metadata": {},
   "outputs": [],
   "source": []
  }
 ],
 "metadata": {
  "kernelspec": {
   "display_name": "Python 3 (ipykernel)",
   "language": "python",
   "name": "python3"
  },
  "language_info": {
   "codemirror_mode": {
    "name": "ipython",
    "version": 3
   },
   "file_extension": ".py",
   "mimetype": "text/x-python",
   "name": "python",
   "nbconvert_exporter": "python",
   "pygments_lexer": "ipython3",
   "version": "3.8.13"
  }
 },
 "nbformat": 4,
 "nbformat_minor": 5
}
