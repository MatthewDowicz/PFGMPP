{
 "cells": [
  {
   "cell_type": "code",
   "execution_count": 1,
   "id": "ab240329-9f2f-4915-8955-3ed75fbd4f0d",
   "metadata": {},
   "outputs": [],
   "source": [
    "# Basic Imports\n",
    "import os\n",
    "import sys\n",
    "from typing import Any, Sequence, Optional, Tuple, Iterator, Dict, Callable, Union, Type, List\n",
    "import numpy as np\n",
    "import matplotlib.pyplot as plt\n",
    "from copy import copy\n",
    "from functools import partial\n",
    "\n",
    "# Changing fonts to be latex typesetting\n",
    "from matplotlib import rcParams\n",
    "rcParams['mathtext.fontset'] = 'dejavuserif'\n",
    "rcParams['font.family'] = 'serif'\n",
    "\n",
    "# # PyTorch for Dataloaders\n",
    "# import torch.utils.data as data\n",
    "# from torch.utils.data import DataLoader, Dataset\n",
    "# from torchvision.datasets import MNIST\n",
    "import torch\n",
    "import torch.nn as tnn\n",
    "\n",
    "# JAX/Flax\n",
    "import jax\n",
    "from jax import jit\n",
    "import jax.numpy as jnp\n",
    "from jax import random\n",
    "import flax\n",
    "from flax import linen as nn\n",
    "import optax\n",
    "import orbax.checkpoint\n",
    "from flax.training import train_state, orbax_utils\n",
    "import wandb"
   ]
  },
  {
   "cell_type": "markdown",
   "id": "0cde1f9f-a749-43ff-9123-a76aff4a84a8",
   "metadata": {},
   "source": [
    "## Create a dataset of 2 Gaussians\n",
    "\n",
    "$p_{data} = 0.5 \\mathcal{N}(\\mu_1, \\sigma I) + 0.5 \\mathcal{N}(-\\mu_1, \\sigma I)$"
   ]
  },
  {
   "cell_type": "code",
   "execution_count": 2,
   "id": "3a52c6b5-bb91-4dbc-bfa9-8aff2fa37d2a",
   "metadata": {},
   "outputs": [],
   "source": [
    "key = random.PRNGKey(0)\n",
    "rng, subkey1, subkey2 = random.split(key, num=3)"
   ]
  },
  {
   "cell_type": "code",
   "execution_count": 3,
   "id": "5c78978b-e62d-4f35-8436-f8f50a9000f4",
   "metadata": {},
   "outputs": [
    {
     "name": "stdout",
     "output_type": "stream",
     "text": [
      "(2000, 10)\n"
     ]
    },
    {
     "data": {
      "image/png": "[encoded data removed]",
      "text/plain": [
       "<Figure size 640x480 with 1 Axes>"
      ]
     },
     "metadata": {},
     "output_type": "display_data"
    }
   ],
   "source": [
    "size = 1000 # N\n",
    "std = 0.2\n",
    "mean_scale = 1\n",
    "\n",
    "# Generate data for X_0 & X_1\n",
    "X_0 = mean_scale + random.normal(subkey1, shape=(size, 10)) * std\n",
    "X_1 = -mean_scale + random.normal(subkey2, shape=(size, 10)) * std\n",
    "\n",
    "# Concantenate\n",
    "X = jnp.concatenate([X_0, X_1], axis=0)\n",
    "print(X.shape)\n",
    "\n",
    "# Visuaize\n",
    "plt.scatter(X[:, 0], X[:, 1], label='True Data')\n",
    "plt.legend()\n",
    "plt.show()"
   ]
  },
  {
   "cell_type": "markdown",
   "id": "fc0ee73b-ab9c-4d02-b612-1530cd7a44de",
   "metadata": {},
   "source": [
    "## Construct data loader"
   ]
  },
  {
   "cell_type": "code",
   "execution_count": 4,
   "id": "ffa6902e-0401-48b1-913c-b35bf11d5937",
   "metadata": {
    "jupyter": {
     "source_hidden": true
    },
    "tags": []
   },
   "outputs": [],
   "source": [
    "class JaxDataset(torch.utils.data.Dataset):\n",
    "    def __init__(self, X):\n",
    "        self.X = X\n",
    "        \n",
    "    def __len__(self):\n",
    "        return len(self.X)\n",
    "    \n",
    "    def __getitem__(self, idx):\n",
    "        return np.array(self.X[idx])\n",
    "\n",
    "def numpy_collate(batch):\n",
    "    \"\"\"\n",
    "    Function to allow jnp.arrays to be used in PyTorch Dataloaders.\n",
    "    \"\"\"\n",
    "    if isinstance(batch[0], np.ndarray):\n",
    "        return np.stack(batch)\n",
    "    elif isinstance(batch[0], (tuple,list)):\n",
    "        transposed = zip(*batch)\n",
    "        return [numpy_collate(samples) for samples in transposed]\n",
    "    else:\n",
    "        return np.array(batch)\n",
    "    \n",
    "class NumpyLoader(torch.utils.data.DataLoader):\n",
    "    \"\"\"\n",
    "    Custom PyTorch DataLoader for numpy/JAX arrays\n",
    "    \"\"\"\n",
    "    def __init__(self, dataset, batch_size=1,\n",
    "                 shuffle=False, sampler=None,\n",
    "                 batch_sampler=None, num_workers=0,\n",
    "                 pin_memory=False, drop_last=False,\n",
    "                 timeout=0, worker_init_fn=None):\n",
    "        super(self.__class__, self).__init__(dataset,\n",
    "                                             batch_size=batch_size,\n",
    "                                             shuffle=shuffle,\n",
    "                                             sampler=sampler,\n",
    "                                             batch_sampler=batch_sampler,\n",
    "                                             num_workers=num_workers,\n",
    "                                             collate_fn=numpy_collate,\n",
    "                                             pin_memory=pin_memory,\n",
    "                                             drop_last=drop_last,\n",
    "                                             timeout=timeout,\n",
    "                                             worker_init_fn=worker_init_fn)\n",
    "    \n",
    "train_dataset = JaxDataset(X=X)\n",
    "train_loader = NumpyLoader(dataset=train_dataset, batch_size=128, shuffle=False)\n",
    "train_loader_torch = torch.utils.data.DataLoader(dataset=train_dataset, batch_size=128, shuffle=False, collate_fn=numpy_collate)"
   ]
  },
  {
   "cell_type": "code",
   "execution_count": 5,
   "id": "c8bbbb4d-de0e-426b-830a-c88064f905e3",
   "metadata": {},
   "outputs": [
    {
     "name": "stdout",
     "output_type": "stream",
     "text": [
      "True\n"
     ]
    }
   ],
   "source": [
    "batch = next(iter(train_loader))\n",
    "batch_torch = next(iter(train_loader_torch))\n",
    "print(np.allclose(batch, batch_torch))"
   ]
  },
  {
   "cell_type": "markdown",
   "id": "438b63f1-d71c-4dc7-9ab0-186ab9e8620e",
   "metadata": {},
   "source": [
    "## Construct NN"
   ]
  },
  {
   "cell_type": "markdown",
   "id": "59dd79c4-8a08-4d58-b604-e4c5f7182377",
   "metadata": {},
   "source": [
    "$$\\text{P}(k, 2i) = \\text{sin}\\Big(\\frac{k}{n^{2i/d}} \\Big)$$\n",
    "$$\\text{P}(k, 2i+1) = \\text{cos}\\Big(\\frac{k}{n^{2i/d}} \\Big)$$\n",
    "\n",
    "See [this](https://machinelearningmastery.com/a-gentle-introduction-to-positional-encoding-in-transformer-models-part-1/#:~:text=What%20Is%20Positional%20Encoding%3F,item's%20position%20in%20transformer%20models.) article about positional encoding."
   ]
  },
  {
   "cell_type": "code",
   "execution_count": 6,
   "id": "5b276c3d-4223-40c2-af9f-6e1a3124d2cf",
   "metadata": {
    "tags": []
   },
   "outputs": [],
   "source": [
    "def getPositionEncoding(t: List[int], d: int, n: int = 10000) -> np.ndarray:\n",
    "    \"\"\"\n",
    "    Generate the positional encoding for given positions 't' and dimension 'd'.\n",
    "    The encoding has sine values at even indices and cosine values at odd indices.\n",
    "\n",
    "    Args:\n",
    "    -----\n",
    "        t: List[int]\n",
    "            List of positions for which the encoding is to be generated.\n",
    "        d: int\n",
    "            Dimension of the encoding vector for each position.\n",
    "        n: int\n",
    "            The base of the denominator in the encoding formula. Default value is 10000.\n",
    "\n",
    "    Returns:\n",
    "    --------\n",
    "        P: np.ndarray\n",
    "            A 2D numpy array with shape (len(t), d) representing the positional encoding.\n",
    "    \"\"\"\n",
    "    # Determine the number of positions\n",
    "    seq_len = len(t)\n",
    "    # Initialize the encoding matrix with zeros\n",
    "    P = np.zeros((seq_len, d))\n",
    "    # For each position in t\n",
    "    for k_idx, k in enumerate(t):\n",
    "        # For each dimension up to d/2\n",
    "        for i in np.arange(int(d/2)):\n",
    "            # Calculate the denominator for this dimension\n",
    "            denominator = np.power(n, 2*i/d)\n",
    "            # Calculate the sine and cosine encoding for this position and dimension\n",
    "            P[k_idx, 2*i] = np.sin(k/denominator)\n",
    "            P[k_idx, 2*i+1] = np.cos(k/denominator)\n",
    "    \n",
    "    return P        "
   ]
  },
  {
   "cell_type": "code",
   "execution_count": 36,
   "id": "3b0cc96e-942f-4102-be16-713a23874c4a",
   "metadata": {},
   "outputs": [
    {
     "name": "stdout",
     "output_type": "stream",
     "text": [
      "\n",
      "\u001b[3m                                ScoreNet Summary                                \u001b[0m\n",
      "┏━━━━━━━━━┳━━━━━━━━━━┳━━━━━━━━━━━━━━━━━━━┳━━━━━━━━━━━━━━━━━┳━━━━━━━━━━━━━━━━━━━┓\n",
      "┃\u001b[1m \u001b[0m\u001b[1mpath   \u001b[0m\u001b[1m \u001b[0m┃\u001b[1m \u001b[0m\u001b[1mmodule  \u001b[0m\u001b[1m \u001b[0m┃\u001b[1m \u001b[0m\u001b[1minputs           \u001b[0m\u001b[1m \u001b[0m┃\u001b[1m \u001b[0m\u001b[1moutputs        \u001b[0m\u001b[1m \u001b[0m┃\u001b[1m \u001b[0m\u001b[1mparams           \u001b[0m\u001b[1m \u001b[0m┃\n",
      "┡━━━━━━━━━╇━━━━━━━━━━╇━━━━━━━━━━━━━━━━━━━╇━━━━━━━━━━━━━━━━━╇━━━━━━━━━━━━━━━━━━━┩\n",
      "│         │ ScoreNet │ - \u001b[2mfloat32\u001b[0m[128,10] │ \u001b[2mfloat32\u001b[0m[128,10] │                   │\n",
      "│         │          │ - \u001b[2mfloat32\u001b[0m[128,1]  │                 │                   │\n",
      "├─────────┼──────────┼───────────────────┼─────────────────┼───────────────────┤\n",
      "│ Dense_0 │ Dense    │ \u001b[2mfloat32\u001b[0m[128,10]   │ \u001b[2mfloat32\u001b[0m[128,32] │ bias: \u001b[2mfloat32\u001b[0m[32] │\n",
      "│         │          │                   │                 │ kernel:           │\n",
      "│         │          │                   │                 │ \u001b[2mfloat32\u001b[0m[10,32]    │\n",
      "│         │          │                   │                 │                   │\n",
      "│         │          │                   │                 │ \u001b[1m352 \u001b[0m\u001b[1;2m(1.4 KB)\u001b[0m      │\n",
      "├─────────┼──────────┼───────────────────┼─────────────────┼───────────────────┤\n",
      "│ Dense_1 │ Dense    │ \u001b[2mfloat32\u001b[0m[128,32]   │ \u001b[2mfloat32\u001b[0m[128,32] │ bias: \u001b[2mfloat32\u001b[0m[32] │\n",
      "│         │          │                   │                 │ kernel:           │\n",
      "│         │          │                   │                 │ \u001b[2mfloat32\u001b[0m[32,32]    │\n",
      "│         │          │                   │                 │                   │\n",
      "│         │          │                   │                 │ \u001b[1m1,056 \u001b[0m\u001b[1;2m(4.2 KB)\u001b[0m    │\n",
      "├─────────┼──────────┼───────────────────┼─────────────────┼───────────────────┤\n",
      "│ Dense_2 │ Dense    │ \u001b[2mfloat32\u001b[0m[128,32]   │ \u001b[2mfloat32\u001b[0m[128,32] │ bias: \u001b[2mfloat32\u001b[0m[32] │\n",
      "│         │          │                   │                 │ kernel:           │\n",
      "│         │          │                   │                 │ \u001b[2mfloat32\u001b[0m[32,32]    │\n",
      "│         │          │                   │                 │                   │\n",
      "│         │          │                   │                 │ \u001b[1m1,056 \u001b[0m\u001b[1;2m(4.2 KB)\u001b[0m    │\n",
      "├─────────┼──────────┼───────────────────┼─────────────────┼───────────────────┤\n",
      "│ Dense_3 │ Dense    │ \u001b[2mfloat32\u001b[0m[128,32]   │ \u001b[2mfloat32\u001b[0m[128,32] │ bias: \u001b[2mfloat32\u001b[0m[32] │\n",
      "│         │          │                   │                 │ kernel:           │\n",
      "│         │          │                   │                 │ \u001b[2mfloat32\u001b[0m[32,32]    │\n",
      "│         │          │                   │                 │                   │\n",
      "│         │          │                   │                 │ \u001b[1m1,056 \u001b[0m\u001b[1;2m(4.2 KB)\u001b[0m    │\n",
      "├─────────┼──────────┼───────────────────┼─────────────────┼───────────────────┤\n",
      "│ Dense_4 │ Dense    │ \u001b[2mfloat32\u001b[0m[128,10]   │ \u001b[2mfloat32\u001b[0m[128,32] │ bias: \u001b[2mfloat32\u001b[0m[32] │\n",
      "│         │          │                   │                 │ kernel:           │\n",
      "│         │          │                   │                 │ \u001b[2mfloat32\u001b[0m[10,32]    │\n",
      "│         │          │                   │                 │                   │\n",
      "│         │          │                   │                 │ \u001b[1m352 \u001b[0m\u001b[1;2m(1.4 KB)\u001b[0m      │\n",
      "├─────────┼──────────┼───────────────────┼─────────────────┼───────────────────┤\n",
      "│ Dense_5 │ Dense    │ \u001b[2mfloat32\u001b[0m[128,32]   │ \u001b[2mfloat32\u001b[0m[128,10] │ bias: \u001b[2mfloat32\u001b[0m[10] │\n",
      "│         │          │                   │                 │ kernel:           │\n",
      "│         │          │                   │                 │ \u001b[2mfloat32\u001b[0m[32,10]    │\n",
      "│         │          │                   │                 │                   │\n",
      "│         │          │                   │                 │ \u001b[1m330 \u001b[0m\u001b[1;2m(1.3 KB)\u001b[0m      │\n",
      "├─────────┼──────────┼───────────────────┼─────────────────┼───────────────────┤\n",
      "│\u001b[1m \u001b[0m\u001b[1m       \u001b[0m\u001b[1m \u001b[0m│\u001b[1m \u001b[0m\u001b[1m        \u001b[0m\u001b[1m \u001b[0m│\u001b[1m \u001b[0m\u001b[1m                 \u001b[0m\u001b[1m \u001b[0m│\u001b[1m \u001b[0m\u001b[1m          Total\u001b[0m\u001b[1m \u001b[0m│\u001b[1m \u001b[0m\u001b[1m4,202 \u001b[0m\u001b[1;2m(16.8 KB)\u001b[0m\u001b[1m  \u001b[0m\u001b[1m \u001b[0m│\n",
      "└─────────┴──────────┴───────────────────┴─────────────────┴───────────────────┘\n",
      "\u001b[1m                                                                                \u001b[0m\n",
      "\u001b[1m                       Total Parameters: 4,202 \u001b[0m\u001b[1;2m(16.8 KB)\u001b[0m\u001b[1m                        \u001b[0m\n",
      "\n",
      "\n"
     ]
    }
   ],
   "source": [
    "class ScoreNet(nn.Module):\n",
    "    \"\"\"\n",
    "    Common architecture for score-based generative models,\n",
    "    \"\"\"\n",
    "    dim: int = 10  # Change from 2 to 10 to match input size\n",
    "    latent_dim: int = 32\n",
    "    std_data: float = 0.5\n",
    "    \n",
    "    @nn.compact\n",
    "    def __call__(self, x, t):\n",
    "        t = t.squeeze()  # Ensure t is scalar if it's not\n",
    "        c_out = t * self.std_data / np.sqrt(self.std_data**2 + t**2)\n",
    "        c_skip = self.std_data**2 / (self.std_data**2 + t**2)\n",
    "\n",
    "        t = np.log(t.flatten()) / 4.\n",
    "        \n",
    "        x_1 = nn.Dense(self.latent_dim)(x) + getPositionEncoding(t, d=self.latent_dim)\n",
    "        x_2 = nn.relu(x_1)\n",
    "        x_3 = nn.relu(nn.Dense(self.latent_dim)(x_2) + nn.Dense(self.latent_dim)(x_1))\n",
    "        x_4 = nn.relu(nn.Dense(self.latent_dim)(x_3)) + nn.Dense(self.latent_dim)(x)\n",
    "        x_5 = nn.Dense(self.dim)(x_4)  # Now output is of size 10\n",
    "        \n",
    "        # Reshape c_out and c_skip to match dimensions for broadcasting\n",
    "        c_out = np.reshape(c_out, (-1, 1))\n",
    "        c_skip = np.reshape(c_skip, (-1, 1))\n",
    "        \n",
    "        return c_out * x_5 + c_skip * x\n",
    "\n",
    "model = ScoreNet(dim=10, latent_dim=32, std_data=0.5)  # Change dim to 10\n",
    "\n",
    "rnd_normal = random.normal(subkey1, shape=(batch.shape[0], 1))\n",
    "t = np.exp(rnd_normal * 1.2 - 1.2)\n",
    "print(model.tabulate(jax.random.PRNGKey(9), batch, t))"
   ]
  },
  {
   "cell_type": "markdown",
   "id": "5836108d-3f1a-499a-8953-ff2d89cc3742",
   "metadata": {},
   "source": [
    "## Training Loop"
   ]
  },
  {
   "cell_type": "markdown",
   "id": "6f0afa34-39eb-4700-926d-25b5a5ce64c4",
   "metadata": {},
   "source": [
    "**Algorithm 2:** PFGM++ training with hyperparameter transferred from EDM\n",
    "\n",
    "**Input:**\n",
    "\n",
    "- $\\sigma(t)$ = `t`\n",
    "- $r = \\sigma\\sqrt{D}$\n",
    "- Noise distribution: $\\text{ln}(\\sigma) \\sim \\mathcal{N}(P_{mean}, P_{std}^2) = \\mathcal{N}(-1.2, 1.2^2) \\rightarrow \\sigma \\sim \\text{exp}(\\mathcal{N}(-1.2, 1.2^2))$\n",
    "- Loss weighting: $\\lambda(\\sigma) = \\frac{(\\sigma^2 + \\sigma^2_{data})}{(\\sigma \\cdot \\sigma_{data})^2} = \\frac{(t^2 + \\sigma^2_{data})}{(t \\cdot \\sigma_{data})^2}$\n",
    "$$f_\\theta(\\mathbf{x}, \\sigma) = \\frac{c_{skip}(\\sigma)\\mathbf{x} + c_{out}(\\sigma)F_\\theta\\big(c_{in}(\\sigma)\\mathbf{x}, c_{noise}(\\sigma)\\big) - x}{\\sigma} \\approx \\sigma \\nabla_x \\text{log}p_\\sigma(x)$$\n",
    "\n",
    "- $$f_\\theta(\\tilde{\\mathbf{x}}) = \\frac{c_{skip}(r/\\sqrt{D})\\mathbf{x} + c_{out}(r/\\sqrt{D})F_\\theta\\big(c_{in}(r/\\sqrt{D})\\mathbf{x}, c_{noise}(r/\\sqrt{D})\\big) - x}{r/\\sqrt{D}} \\approx \\sqrt{D} \\frac{E(\\tilde{\\mathbf{x}})_x}{E(\\tilde{\\mathbf{x}})_r}$$\n",
    "\n",
    "    - $F_\\theta$ = NN \n",
    "    - $c_{in}(\\sigma) = \\frac{1}{\\sqrt{\\sigma^2 + \\sigma^2_{data}}}$\n",
    "    - $c_{out}(\\sigma) = \\frac{\\sigma \\cdot \\sigma_{data}}{\\sqrt{\\sigma^2 + \\sigma^2_{data}}}$\n",
    "    - $c_{skip}(\\sigma) = \\frac{\\sigma_{data}^2}{\\sigma^2 + \\sigma^2_{data}}$\n",
    "    - $c_{in}(\\sigma) = \\frac{1}{4}\\text{ln}(\\sigma)$ \n",
    "    - $\\sigma_{data} = 0.5$\n",
    "- $$ r_i = \\big(r_{max}^{1/\\rho} + \\frac{i}{N-1}(r_{min}^{1/\\rho} - r_{max}^{1/\\rho})\\big)^\\rho \\hspace{0.2in} \\text{ where } \\hspace{0.2in} r_N = 0$$\n",
    "    \n",
    "    \n",
    "    \n",
    "**Pseudocode:**\n",
    "\n",
    "1. Sample a batch of data $\\{\\mathbf{y}_i\\}^\\mathcal{B}_{i=1}$ from $p(\\mathbf{y})$\n",
    "2. Sample standard deviations $\\{\\sigma_i \\}^\\mathcal{B}_{i=1}$ from $p(\\sigma)$\n",
    "3. Sample $r$ from $p_r$: $\\{r_i = \\sigma_i(R)\\}^\\mathcal{B}_{i=1}$\n",
    "4. Samples radiuses $\\{R_i \\sim p_{r_i}(R) \\}^\\mathcal{B}_{i=1}$\n",
    "5. Sample uniform angles $\\{\\mathbf{v}_i = \\frac{\\mathbf{u}_i}{|| \\mathbf{u}_i ||_2} \\}^\\mathcal{B}_{i=1}$, with $\\mathbf{u}_i \\sim \\mathcal{N}(\\mathbf{0}, \\mathbf{I})$\n",
    "6. Get perturbed data $\\{\\hat{\\mathbf{y}}_i = \\mathbf{y}_i + R_i \\mathbf{v}_i \\}^\\mathcal{B}_{i=1}$\n",
    "7. Calculate loss $\\ell(\\theta) = \\sum^\\mathcal{B}_{i=1} \\lambda(\\sigma_i)||f_\\theta(\\hat{\\mathbf{y}}_i, \\sigma_i) - \\mathbf{y}_i||_2^2$\n",
    "8. Update the network parameter $\\theta$ via Adam optimizer\n"
   ]
  },
  {
   "cell_type": "code",
   "execution_count": null,
   "id": "5b743aca-c83f-4ec3-86dc-e8ba6fb5eadc",
   "metadata": {},
   "outputs": [],
   "source": [
    "# Create TrainState\n",
    "def init_train_state(model: Any,\n",
    "                     random_key: Any,\n",
    "                     shape: tuple,\n",
    "                     learning_rate: int) -> train_state.TrainStatee"
   ]
  },
  {
   "cell_type": "code",
   "execution_count": null,
   "id": "1de7ebbf-58c6-4816-9bdf-6d185c8b7317",
   "metadata": {},
   "outputs": [],
   "source": []
  },
  {
   "cell_type": "code",
   "execution_count": null,
   "id": "249aa5df-cc54-4c2e-8072-14c5eb477a03",
   "metadata": {},
   "outputs": [],
   "source": []
  },
  {
   "cell_type": "code",
   "execution_count": null,
   "id": "29c6ecd2-84c6-49f6-9eea-dce62931089e",
   "metadata": {},
   "outputs": [],
   "source": [
    "params = {'lr': 1e-3, 'latent_dim': 32}\n",
    "data_dim = 1000\n",
    "\n",
    "\n",
    "\n",
    "model = ScoreNet(dim=data_dima, latent_dim=params['latent_dim'], std_data=0.5)  \n"
   ]
  },
  {
   "cell_type": "code",
   "execution_count": null,
   "id": "f74c760f-1b72-4fd8-a3cd-baafa07031b1",
   "metadata": {},
   "outputs": [],
   "source": []
  },
  {
   "cell_type": "markdown",
   "id": "2dde1678-85eb-44be-b089-0fd04b4fe9b1",
   "metadata": {},
   "source": [
    "# Sampling Loop"
   ]
  },
  {
   "cell_type": "markdown",
   "id": "a24a1899-0dd1-4be3-8597-e57ccbed2e26",
   "metadata": {},
   "source": [
    "**Algorithm 4:** PFGM++ sampling with hyperparameter transferred from EDM\n",
    "\n",
    "**Input:**\n",
    "\n",
    "- $\\sigma(t)$ = `t`\n",
    "- $r = \\sigma\\sqrt{D}$\n",
    "- Noise distribution: $\\text{ln}(\\sigma) \\sim \\mathcal{N}(P_{mean}, P_{std}^2) = \\mathcal{N}(-1.2, 1.2^2) \\rightarrow \\sigma \\sim \\text{exp}(\\mathcal{N}(-1.2, 1.2^2))$\n",
    "- Loss weighting: $\\lambda(\\sigma) = \\frac{(\\sigma^2 + \\sigma^2_{data})}{(\\sigma \\cdot \\sigma_{data})^2} = \\frac{(t^2 + \\sigma^2_{data})}{(t \\cdot \\sigma_{data})^2}$\n",
    "$$f_\\theta(\\mathbf{x}, \\sigma) = \\frac{c_{skip}(\\sigma)\\mathbf{x} + c_{out}(\\sigma)F_\\theta\\big(c_{in}(\\sigma)\\mathbf{x}, c_{noise}(\\sigma)\\big) - x}{\\sigma} \\approx \\sigma \\nabla_x \\text{log}p_\\sigma(x)$$\n",
    "\n",
    "- $$f_\\theta(\\tilde{\\mathbf{x}}) = \\frac{c_{skip}(r/\\sqrt{D})\\mathbf{x} + c_{out}(r/\\sqrt{D})F_\\theta\\big(c_{in}(r/\\sqrt{D})\\mathbf{x}, c_{noise}(r/\\sqrt{D})\\big) - x}{r/\\sqrt{D}} \\approx \\sqrt{D} \\frac{E(\\tilde{\\mathbf{x}})_x}{E(\\tilde{\\mathbf{x}})_r}$$\n",
    "\n",
    "    - $F_\\theta$ = NN \n",
    "    - $c_{in}(\\sigma) = \\frac{1}{\\sqrt{\\sigma^2 + \\sigma^2_{data}}}$\n",
    "    - $c_{out}(\\sigma) = \\frac{\\sigma \\cdot \\sigma_{data}}{\\sqrt{\\sigma^2 + \\sigma^2_{data}}}$\n",
    "    - $c_{skip}(\\sigma) = \\frac{\\sigma_{data}^2}{\\sigma^2 + \\sigma^2_{data}}$\n",
    "    - $c_{in}(\\sigma) = \\frac{1}{4}\\text{ln}(\\sigma)$ \n",
    "    - $\\sigma_{data} = 0.5$\n",
    "- $$ r_i = \\big(r_{max}^{1/\\rho} + \\frac{i}{N-1}(r_{min}^{1/\\rho} - r_{max}^{1/\\rho})\\big)^\\rho \\hspace{0.2in} \\text{ where } \\hspace{0.2in} r_N = 0$$\n",
    "    \n",
    "    \n",
    "    \n",
    "**Pseudocode:**\n",
    "\n",
    "1. Set $r_{max} = \\sigma_{max}\\sqrt{D}$\n",
    "2. Sample radius $R \\sim p_{r_{max}}(R)$ and uniform angle $\\mathbf{v} = \\frac{\\mathbf{u}}{|| \\mathbf{u} ||_2}$\n",
    "3. Get initial data $\\mathbf{x}_0 = R\\mathbf{v}$ \n",
    "4. $\\textbf{for } i = 0, ..., T-1 \\textbf{ do}$\n",
    "    1. $d_i = (\\mathbf{x}_i - f_\\theta(\\mathbf{x}_i, t_i)) / t_i$\n",
    "    2. $\\mathbf{x}_{i+1} = \\mathbf{x}_i + (t_{i+1} - t_i)d_i$\n",
    "    3. $\\textbf{if } t_{i+1} > 0 \\textbf{ then}$\n",
    "        1. $d^{'}_{i} = (\\mathbf{x}_{i+1} - f_\\theta(\\mathbf{x}_{i+1}, t_{i+1}))/ t_{i+1}$\n",
    "        2. $\\mathbf{x}_{i+1} = \\mathbf{x}_i + (t_{i+1} - t_i)(\\frac{1}{2}\\mathbf{d}_i + \\frac{1}{2}\\mathbf{d}^{'})$\n",
    "    4. $\\textbf{end if}$\n",
    "5. $\\textbf{end for}$ \n"
   ]
  },
  {
   "cell_type": "code",
   "execution_count": null,
   "id": "b13f47ac-c451-4692-9bdb-0f097e63fa17",
   "metadata": {},
   "outputs": [],
   "source": []
  },
  {
   "cell_type": "code",
   "execution_count": null,
   "id": "7a3891d8-b3b8-4194-951e-da5131222962",
   "metadata": {},
   "outputs": [],
   "source": []
  }
 ],
 "metadata": {
  "kernelspec": {
   "display_name": "Python 3 (ipykernel)",
   "language": "python",
   "name": "python3"
  },
  "language_info": {
   "codemirror_mode": {
    "name": "ipython",
    "version": 3
   },
   "file_extension": ".py",
   "mimetype": "text/x-python",
   "name": "python",
   "nbconvert_exporter": "python",
   "pygments_lexer": "ipython3",
   "version": "3.8.13"
  }
 },
 "nbformat": 4,
 "nbformat_minor": 5
}
